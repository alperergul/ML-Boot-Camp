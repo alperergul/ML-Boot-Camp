{
 "cells": [
  {
   "cell_type": "markdown",
   "source": [
    "# Predicting the Sale Price of Bulldozers using Machine Learning\n",
    "\n",
    "In this notebook, we're going to go through an example machine learning project with the goal of predicting the sale price of bulldozerss.\n",
    "\n",
    "## 1. Problem defition\n",
    "> How well can predict the future sale price of a bulldozer, given its characteristic and previous examples of how much similar bulldozers have been sold for?\n",
    "## 2. Data\n",
    "\n",
    "The data is downloaded from Kaggle Bluebook for Bulldozers competition:\n",
    "\n",
    "There are 3 main datasets:\n",
    "* Train.csv is the training set, which contains data through the end of 2011.\n",
    "* Valid.csv is the validation set, which contains data from January 1, 2012 - April 30, 2012 You make predictions on this set throughout the majority of the competition. Your score on this set is used to create the public leaderboard.\n",
    "* Test.csv is the test set, which won't be released until the last week of the competition. It contains data from May 1, 2012 - November 2012. Your score on the test set determines your final rank for the competition.\n",
    "## 3. Evaluation\n",
    "\n",
    "The evaluation metric for this competiton is the RMSLE (rooot mean squared log error) between the actual and predicted auction prices.\n",
    "\n",
    "Note: The goal for most regression evaluation metrics is to minimize the error. For example, our goal for this preoject will be to build a machine learning model which minimises RMSLE.\n",
    "\n",
    "## 4. Features\n",
    "Data Dictionary:\n",
    "\n",
    "https://www.kaggle.com/competitions/bluebook-for-bulldozers/data?select=Data+Dictionary.xlsx"
   ],
   "metadata": {
    "collapsed": false,
    "pycharm": {
     "name": "#%% md\n"
    }
   }
  },
  {
   "cell_type": "code",
   "execution_count": 2,
   "outputs": [],
   "source": [
    "import pandas as pd\n",
    "import numpy as np\n",
    "import matplotlib.pyplot as plt\n",
    "import  sklearn\n",
    "import seaborn as sns"
   ],
   "metadata": {
    "collapsed": false,
    "pycharm": {
     "name": "#%%\n"
    }
   }
  },
  {
   "cell_type": "code",
   "execution_count": 4,
   "outputs": [],
   "source": [
    "# Import training and validation sets\n",
    "df = pd.read_csv(\"data/bluebook-for-bulldozers/TrainAndValid.csv\", low_memory=False)"
   ],
   "metadata": {
    "collapsed": false,
    "pycharm": {
     "name": "#%%\n"
    }
   }
  },
  {
   "cell_type": "code",
   "execution_count": 5,
   "outputs": [
    {
     "name": "stdout",
     "output_type": "stream",
     "text": [
      "<class 'pandas.core.frame.DataFrame'>\n",
      "RangeIndex: 412698 entries, 0 to 412697\n",
      "Data columns (total 53 columns):\n",
      " #   Column                    Non-Null Count   Dtype  \n",
      "---  ------                    --------------   -----  \n",
      " 0   SalesID                   412698 non-null  int64  \n",
      " 1   SalePrice                 412698 non-null  float64\n",
      " 2   MachineID                 412698 non-null  int64  \n",
      " 3   ModelID                   412698 non-null  int64  \n",
      " 4   datasource                412698 non-null  int64  \n",
      " 5   auctioneerID              392562 non-null  float64\n",
      " 6   YearMade                  412698 non-null  int64  \n",
      " 7   MachineHoursCurrentMeter  147504 non-null  float64\n",
      " 8   UsageBand                 73670 non-null   object \n",
      " 9   saledate                  412698 non-null  object \n",
      " 10  fiModelDesc               412698 non-null  object \n",
      " 11  fiBaseModel               412698 non-null  object \n",
      " 12  fiSecondaryDesc           271971 non-null  object \n",
      " 13  fiModelSeries             58667 non-null   object \n",
      " 14  fiModelDescriptor         74816 non-null   object \n",
      " 15  ProductSize               196093 non-null  object \n",
      " 16  fiProductClassDesc        412698 non-null  object \n",
      " 17  state                     412698 non-null  object \n",
      " 18  ProductGroup              412698 non-null  object \n",
      " 19  ProductGroupDesc          412698 non-null  object \n",
      " 20  Drive_System              107087 non-null  object \n",
      " 21  Enclosure                 412364 non-null  object \n",
      " 22  Forks                     197715 non-null  object \n",
      " 23  Pad_Type                  81096 non-null   object \n",
      " 24  Ride_Control              152728 non-null  object \n",
      " 25  Stick                     81096 non-null   object \n",
      " 26  Transmission              188007 non-null  object \n",
      " 27  Turbocharged              81096 non-null   object \n",
      " 28  Blade_Extension           25983 non-null   object \n",
      " 29  Blade_Width               25983 non-null   object \n",
      " 30  Enclosure_Type            25983 non-null   object \n",
      " 31  Engine_Horsepower         25983 non-null   object \n",
      " 32  Hydraulics                330133 non-null  object \n",
      " 33  Pushblock                 25983 non-null   object \n",
      " 34  Ripper                    106945 non-null  object \n",
      " 35  Scarifier                 25994 non-null   object \n",
      " 36  Tip_Control               25983 non-null   object \n",
      " 37  Tire_Size                 97638 non-null   object \n",
      " 38  Coupler                   220679 non-null  object \n",
      " 39  Coupler_System            44974 non-null   object \n",
      " 40  Grouser_Tracks            44875 non-null   object \n",
      " 41  Hydraulics_Flow           44875 non-null   object \n",
      " 42  Track_Type                102193 non-null  object \n",
      " 43  Undercarriage_Pad_Width   102916 non-null  object \n",
      " 44  Stick_Length              102261 non-null  object \n",
      " 45  Thumb                     102332 non-null  object \n",
      " 46  Pattern_Changer           102261 non-null  object \n",
      " 47  Grouser_Type              102193 non-null  object \n",
      " 48  Backhoe_Mounting          80712 non-null   object \n",
      " 49  Blade_Type                81875 non-null   object \n",
      " 50  Travel_Controls           81877 non-null   object \n",
      " 51  Differential_Type         71564 non-null   object \n",
      " 52  Steering_Controls         71522 non-null   object \n",
      "dtypes: float64(3), int64(5), object(45)\n",
      "memory usage: 166.9+ MB\n"
     ]
    }
   ],
   "source": [
    "df.info()"
   ],
   "metadata": {
    "collapsed": false,
    "pycharm": {
     "name": "#%%\n"
    }
   }
  },
  {
   "cell_type": "code",
   "execution_count": 6,
   "outputs": [
    {
     "data": {
      "text/plain": "SalesID                          0\nSalePrice                        0\nMachineID                        0\nModelID                          0\ndatasource                       0\nauctioneerID                 20136\nYearMade                         0\nMachineHoursCurrentMeter    265194\nUsageBand                   339028\nsaledate                         0\nfiModelDesc                      0\nfiBaseModel                      0\nfiSecondaryDesc             140727\nfiModelSeries               354031\nfiModelDescriptor           337882\nProductSize                 216605\nfiProductClassDesc               0\nstate                            0\nProductGroup                     0\nProductGroupDesc                 0\nDrive_System                305611\nEnclosure                      334\nForks                       214983\nPad_Type                    331602\nRide_Control                259970\nStick                       331602\nTransmission                224691\nTurbocharged                331602\nBlade_Extension             386715\nBlade_Width                 386715\nEnclosure_Type              386715\nEngine_Horsepower           386715\nHydraulics                   82565\nPushblock                   386715\nRipper                      305753\nScarifier                   386704\nTip_Control                 386715\nTire_Size                   315060\nCoupler                     192019\nCoupler_System              367724\nGrouser_Tracks              367823\nHydraulics_Flow             367823\nTrack_Type                  310505\nUndercarriage_Pad_Width     309782\nStick_Length                310437\nThumb                       310366\nPattern_Changer             310437\nGrouser_Type                310505\nBackhoe_Mounting            331986\nBlade_Type                  330823\nTravel_Controls             330821\nDifferential_Type           341134\nSteering_Controls           341176\ndtype: int64"
     },
     "execution_count": 6,
     "metadata": {},
     "output_type": "execute_result"
    }
   ],
   "source": [
    "df.isna().sum()"
   ],
   "metadata": {
    "collapsed": false,
    "pycharm": {
     "name": "#%%\n"
    }
   }
  },
  {
   "cell_type": "code",
   "execution_count": 8,
   "outputs": [
    {
     "data": {
      "text/plain": "Index(['SalesID', 'SalePrice', 'MachineID', 'ModelID', 'datasource',\n       'auctioneerID', 'YearMade', 'MachineHoursCurrentMeter', 'UsageBand',\n       'saledate', 'fiModelDesc', 'fiBaseModel', 'fiSecondaryDesc',\n       'fiModelSeries', 'fiModelDescriptor', 'ProductSize',\n       'fiProductClassDesc', 'state', 'ProductGroup', 'ProductGroupDesc',\n       'Drive_System', 'Enclosure', 'Forks', 'Pad_Type', 'Ride_Control',\n       'Stick', 'Transmission', 'Turbocharged', 'Blade_Extension',\n       'Blade_Width', 'Enclosure_Type', 'Engine_Horsepower', 'Hydraulics',\n       'Pushblock', 'Ripper', 'Scarifier', 'Tip_Control', 'Tire_Size',\n       'Coupler', 'Coupler_System', 'Grouser_Tracks', 'Hydraulics_Flow',\n       'Track_Type', 'Undercarriage_Pad_Width', 'Stick_Length', 'Thumb',\n       'Pattern_Changer', 'Grouser_Type', 'Backhoe_Mounting', 'Blade_Type',\n       'Travel_Controls', 'Differential_Type', 'Steering_Controls'],\n      dtype='object')"
     },
     "execution_count": 8,
     "metadata": {},
     "output_type": "execute_result"
    }
   ],
   "source": [
    " df.columns"
   ],
   "metadata": {
    "collapsed": false,
    "pycharm": {
     "name": "#%%\n"
    }
   }
  },
  {
   "cell_type": "code",
   "execution_count": 10,
   "outputs": [
    {
     "data": {
      "text/plain": "<Figure size 432x288 with 1 Axes>",
      "image/png": "[encoded data removed]"
     },
     "metadata": {},
     "output_type": "display_data"
    }
   ],
   "source": [
    "fig, ax = plt.subplots()\n",
    "ax.scatter(df[\"saledate\"][:1000] , df[\"SalePrice\"][:1000]);"
   ],
   "metadata": {
    "collapsed": false,
    "pycharm": {
     "name": "#%%\n"
    }
   }
  },
  {
   "cell_type": "code",
   "execution_count": 11,
   "outputs": [
    {
     "data": {
      "text/plain": "<AxesSubplot:ylabel='Frequency'>"
     },
     "execution_count": 11,
     "metadata": {},
     "output_type": "execute_result"
    },
    {
     "data": {
      "text/plain": "<Figure size 432x288 with 1 Axes>",
      "image/png": "[encoded data removed]"
     },
     "metadata": {},
     "output_type": "display_data"
    }
   ],
   "source": [
    "df.SalePrice.plot.hist()"
   ],
   "metadata": {
    "collapsed": false,
    "pycharm": {
     "name": "#%%\n"
    }
   }
  },
  {
   "cell_type": "markdown",
   "source": [
    "### Parsing dates\n",
    "\n",
    "When we work with time series data, we want to enrich the time & date component as much as possible.\n",
    "\n",
    "We can do that by telling pandas which of our columns has dates in it using the `parse_dates` parameter."
   ],
   "metadata": {
    "collapsed": false,
    "pycharm": {
     "name": "#%% md\n"
    }
   }
  },
  {
   "cell_type": "code",
   "execution_count": 12,
   "outputs": [],
   "source": [
    " # Import data again but this time parse dates\n",
    "df = pd.read_csv(\"data/bluebook-for-bulldozers/TrainAndValid.csv\",\n",
    "                 low_memory=False,\n",
    "                 parse_dates=[\"saledate\"])"
   ],
   "metadata": {
    "collapsed": false,
    "pycharm": {
     "name": "#%%\n"
    }
   }
  },
  {
   "cell_type": "code",
   "execution_count": 13,
   "outputs": [
    {
     "data": {
      "text/plain": "dtype('<M8[ns]')"
     },
     "execution_count": 13,
     "metadata": {},
     "output_type": "execute_result"
    }
   ],
   "source": [
    "df.saledate.dtype"
   ],
   "metadata": {
    "collapsed": false,
    "pycharm": {
     "name": "#%%\n"
    }
   }
  },
  {
   "cell_type": "code",
   "execution_count": 14,
   "outputs": [
    {
     "data": {
      "text/plain": "0     2006-11-16\n1     2004-03-26\n2     2004-02-26\n3     2011-05-19\n4     2009-07-23\n         ...    \n995   2009-07-16\n996   2007-06-14\n997   2005-09-22\n998   2005-07-28\n999   2011-06-16\nName: saledate, Length: 1000, dtype: datetime64[ns]"
     },
     "execution_count": 14,
     "metadata": {},
     "output_type": "execute_result"
    }
   ],
   "source": [
    "df.saledate[:1000]"
   ],
   "metadata": {
    "collapsed": false,
    "pycharm": {
     "name": "#%%\n"
    }
   }
  },
  {
   "cell_type": "code",
   "execution_count": 15,
   "outputs": [
    {
     "data": {
      "text/plain": "<matplotlib.collections.PathCollection at 0x23749ec6b50>"
     },
     "execution_count": 15,
     "metadata": {},
     "output_type": "execute_result"
    },
    {
     "data": {
      "text/plain": "<Figure size 432x288 with 1 Axes>",
      "image/png": "[encoded data removed]"
     },
     "metadata": {},
     "output_type": "display_data"
    }
   ],
   "source": [
    "fig, ax = plt.subplots()\n",
    "ax.scatter(df.saledate[:1000], df.SalePrice[:1000])"
   ],
   "metadata": {
    "collapsed": false,
    "pycharm": {
     "name": "#%%\n"
    }
   }
  },
  {
   "cell_type": "code",
   "execution_count": 16,
   "outputs": [
    {
     "data": {
      "text/plain": "   SalesID  SalePrice  MachineID  ModelID  datasource  auctioneerID  YearMade  \\\n0  1139246    66000.0     999089     3157         121           3.0      2004   \n1  1139248    57000.0     117657       77         121           3.0      1996   \n2  1139249    10000.0     434808     7009         121           3.0      2001   \n3  1139251    38500.0    1026470      332         121           3.0      2001   \n4  1139253    11000.0    1057373    17311         121           3.0      2007   \n\n   MachineHoursCurrentMeter UsageBand   saledate  ... Undercarriage_Pad_Width  \\\n0                      68.0       Low 2006-11-16  ...                     NaN   \n1                    4640.0       Low 2004-03-26  ...                     NaN   \n2                    2838.0      High 2004-02-26  ...                     NaN   \n3                    3486.0      High 2011-05-19  ...                     NaN   \n4                     722.0    Medium 2009-07-23  ...                     NaN   \n\n  Stick_Length Thumb Pattern_Changer Grouser_Type Backhoe_Mounting Blade_Type  \\\n0          NaN   NaN             NaN          NaN              NaN        NaN   \n1          NaN   NaN             NaN          NaN              NaN        NaN   \n2          NaN   NaN             NaN          NaN              NaN        NaN   \n3          NaN   NaN             NaN          NaN              NaN        NaN   \n4          NaN   NaN             NaN          NaN              NaN        NaN   \n\n  Travel_Controls Differential_Type Steering_Controls  \n0             NaN          Standard      Conventional  \n1             NaN          Standard      Conventional  \n2             NaN               NaN               NaN  \n3             NaN               NaN               NaN  \n4             NaN               NaN               NaN  \n\n[5 rows x 53 columns]",
      "text/html": "<div>\n<style scoped>\n    .dataframe tbody tr th:only-of-type {\n        vertical-align: middle;\n    }\n\n    .dataframe tbody tr th {\n        vertical-align: top;\n    }\n\n    .dataframe thead th {\n        text-align: right;\n    }\n</style>\n<table border=\"1\" class=\"dataframe\">\n  <thead>\n    <tr style=\"text-align: right;\">\n      <th></th>\n      <th>SalesID</th>\n      <th>SalePrice</th>\n      <th>MachineID</th>\n      <th>ModelID</th>\n      <th>datasource</th>\n      <th>auctioneerID</th>\n      <th>YearMade</th>\n      <th>MachineHoursCurrentMeter</th>\n      <th>UsageBand</th>\n      <th>saledate</th>\n      <th>...</th>\n      <th>Undercarriage_Pad_Width</th>\n      <th>Stick_Length</th>\n      <th>Thumb</th>\n      <th>Pattern_Changer</th>\n      <th>Grouser_Type</th>\n      <th>Backhoe_Mounting</th>\n      <th>Blade_Type</th>\n      <th>Travel_Controls</th>\n      <th>Differential_Type</th>\n      <th>Steering_Controls</th>\n    </tr>\n  </thead>\n  <tbody>\n    <tr>\n      <th>0</th>\n      <td>1139246</td>\n      <td>66000.0</td>\n      <td>999089</td>\n      <td>3157</td>\n      <td>121</td>\n      <td>3.0</td>\n      <td>2004</td>\n      <td>68.0</td>\n      <td>Low</td>\n      <td>2006-11-16</td>\n      <td>...</td>\n      <td>NaN</td>\n      <td>NaN</td>\n      <td>NaN</td>\n      <td>NaN</td>\n      <td>NaN</td>\n      <td>NaN</td>\n      <td>NaN</td>\n      <td>NaN</td>\n      <td>Standard</td>\n      <td>Conventional</td>\n    </tr>\n    <tr>\n      <th>1</th>\n      <td>1139248</td>\n      <td>57000.0</td>\n      <td>117657</td>\n      <td>77</td>\n      <td>121</td>\n      <td>3.0</td>\n      <td>1996</td>\n      <td>4640.0</td>\n      <td>Low</td>\n      <td>2004-03-26</td>\n      <td>...</td>\n      <td>NaN</td>\n      <td>NaN</td>\n      <td>NaN</td>\n      <td>NaN</td>\n      <td>NaN</td>\n      <td>NaN</td>\n      <td>NaN</td>\n      <td>NaN</td>\n      <td>Standard</td>\n      <td>Conventional</td>\n    </tr>\n    <tr>\n      <th>2</th>\n      <td>1139249</td>\n      <td>10000.0</td>\n      <td>434808</td>\n      <td>7009</td>\n      <td>121</td>\n      <td>3.0</td>\n      <td>2001</td>\n      <td>2838.0</td>\n      <td>High</td>\n      <td>2004-02-26</td>\n      <td>...</td>\n      <td>NaN</td>\n      <td>NaN</td>\n      <td>NaN</td>\n      <td>NaN</td>\n      <td>NaN</td>\n      <td>NaN</td>\n      <td>NaN</td>\n      <td>NaN</td>\n      <td>NaN</td>\n      <td>NaN</td>\n    </tr>\n    <tr>\n      <th>3</th>\n      <td>1139251</td>\n      <td>38500.0</td>\n      <td>1026470</td>\n      <td>332</td>\n      <td>121</td>\n      <td>3.0</td>\n      <td>2001</td>\n      <td>3486.0</td>\n      <td>High</td>\n      <td>2011-05-19</td>\n      <td>...</td>\n      <td>NaN</td>\n      <td>NaN</td>\n      <td>NaN</td>\n      <td>NaN</td>\n      <td>NaN</td>\n      <td>NaN</td>\n      <td>NaN</td>\n      <td>NaN</td>\n      <td>NaN</td>\n      <td>NaN</td>\n    </tr>\n    <tr>\n      <th>4</th>\n      <td>1139253</td>\n      <td>11000.0</td>\n      <td>1057373</td>\n      <td>17311</td>\n      <td>121</td>\n      <td>3.0</td>\n      <td>2007</td>\n      <td>722.0</td>\n      <td>Medium</td>\n      <td>2009-07-23</td>\n      <td>...</td>\n      <td>NaN</td>\n      <td>NaN</td>\n      <td>NaN</td>\n      <td>NaN</td>\n      <td>NaN</td>\n      <td>NaN</td>\n      <td>NaN</td>\n      <td>NaN</td>\n      <td>NaN</td>\n      <td>NaN</td>\n    </tr>\n  </tbody>\n</table>\n<p>5 rows × 53 columns</p>\n</div>"
     },
     "execution_count": 16,
     "metadata": {},
     "output_type": "execute_result"
    }
   ],
   "source": [
    "df.head()"
   ],
   "metadata": {
    "collapsed": false,
    "pycharm": {
     "name": "#%%\n"
    }
   }
  },
  {
   "cell_type": "code",
   "execution_count": 17,
   "outputs": [
    {
     "data": {
      "text/plain": "                                                                 0  \\\nSalesID                                                    1139246   \nSalePrice                                                  66000.0   \nMachineID                                                   999089   \nModelID                                                       3157   \ndatasource                                                     121   \nauctioneerID                                                   3.0   \nYearMade                                                      2004   \nMachineHoursCurrentMeter                                      68.0   \nUsageBand                                                      Low   \nsaledate                                       2006-11-16 00:00:00   \nfiModelDesc                                                   521D   \nfiBaseModel                                                    521   \nfiSecondaryDesc                                                  D   \nfiModelSeries                                                  NaN   \nfiModelDescriptor                                              NaN   \nProductSize                                                    NaN   \nfiProductClassDesc        Wheel Loader - 110.0 to 120.0 Horsepower   \nstate                                                      Alabama   \nProductGroup                                                    WL   \nProductGroupDesc                                      Wheel Loader   \nDrive_System                                                   NaN   \nEnclosure                                               EROPS w AC   \nForks                                          None or Unspecified   \nPad_Type                                                       NaN   \nRide_Control                                   None or Unspecified   \nStick                                                          NaN   \nTransmission                                                   NaN   \nTurbocharged                                                   NaN   \nBlade_Extension                                                NaN   \nBlade_Width                                                    NaN   \nEnclosure_Type                                                 NaN   \nEngine_Horsepower                                              NaN   \nHydraulics                                                 2 Valve   \nPushblock                                                      NaN   \nRipper                                                         NaN   \nScarifier                                                      NaN   \nTip_Control                                                    NaN   \nTire_Size                                      None or Unspecified   \nCoupler                                        None or Unspecified   \nCoupler_System                                                 NaN   \nGrouser_Tracks                                                 NaN   \nHydraulics_Flow                                                NaN   \nTrack_Type                                                     NaN   \nUndercarriage_Pad_Width                                        NaN   \nStick_Length                                                   NaN   \nThumb                                                          NaN   \nPattern_Changer                                                NaN   \nGrouser_Type                                                   NaN   \nBackhoe_Mounting                                               NaN   \nBlade_Type                                                     NaN   \nTravel_Controls                                                NaN   \nDifferential_Type                                         Standard   \nSteering_Controls                                     Conventional   \n\n                                                                 1  \\\nSalesID                                                    1139248   \nSalePrice                                                  57000.0   \nMachineID                                                   117657   \nModelID                                                         77   \ndatasource                                                     121   \nauctioneerID                                                   3.0   \nYearMade                                                      1996   \nMachineHoursCurrentMeter                                    4640.0   \nUsageBand                                                      Low   \nsaledate                                       2004-03-26 00:00:00   \nfiModelDesc                                                 950FII   \nfiBaseModel                                                    950   \nfiSecondaryDesc                                                  F   \nfiModelSeries                                                   II   \nfiModelDescriptor                                              NaN   \nProductSize                                                 Medium   \nfiProductClassDesc        Wheel Loader - 150.0 to 175.0 Horsepower   \nstate                                               North Carolina   \nProductGroup                                                    WL   \nProductGroupDesc                                      Wheel Loader   \nDrive_System                                                   NaN   \nEnclosure                                               EROPS w AC   \nForks                                          None or Unspecified   \nPad_Type                                                       NaN   \nRide_Control                                   None or Unspecified   \nStick                                                          NaN   \nTransmission                                                   NaN   \nTurbocharged                                                   NaN   \nBlade_Extension                                                NaN   \nBlade_Width                                                    NaN   \nEnclosure_Type                                                 NaN   \nEngine_Horsepower                                              NaN   \nHydraulics                                                 2 Valve   \nPushblock                                                      NaN   \nRipper                                                         NaN   \nScarifier                                                      NaN   \nTip_Control                                                    NaN   \nTire_Size                                                     23.5   \nCoupler                                        None or Unspecified   \nCoupler_System                                                 NaN   \nGrouser_Tracks                                                 NaN   \nHydraulics_Flow                                                NaN   \nTrack_Type                                                     NaN   \nUndercarriage_Pad_Width                                        NaN   \nStick_Length                                                   NaN   \nThumb                                                          NaN   \nPattern_Changer                                                NaN   \nGrouser_Type                                                   NaN   \nBackhoe_Mounting                                               NaN   \nBlade_Type                                                     NaN   \nTravel_Controls                                                NaN   \nDifferential_Type                                         Standard   \nSteering_Controls                                     Conventional   \n\n                                                                          2  \\\nSalesID                                                             1139249   \nSalePrice                                                           10000.0   \nMachineID                                                            434808   \nModelID                                                                7009   \ndatasource                                                              121   \nauctioneerID                                                            3.0   \nYearMade                                                               2001   \nMachineHoursCurrentMeter                                             2838.0   \nUsageBand                                                              High   \nsaledate                                                2004-02-26 00:00:00   \nfiModelDesc                                                             226   \nfiBaseModel                                                             226   \nfiSecondaryDesc                                                         NaN   \nfiModelSeries                                                           NaN   \nfiModelDescriptor                                                       NaN   \nProductSize                                                             NaN   \nfiProductClassDesc        Skid Steer Loader - 1351.0 to 1601.0 Lb Operat...   \nstate                                                              New York   \nProductGroup                                                            SSL   \nProductGroupDesc                                         Skid Steer Loaders   \nDrive_System                                                            NaN   \nEnclosure                                                             OROPS   \nForks                                                   None or Unspecified   \nPad_Type                                                                NaN   \nRide_Control                                                            NaN   \nStick                                                                   NaN   \nTransmission                                                            NaN   \nTurbocharged                                                            NaN   \nBlade_Extension                                                         NaN   \nBlade_Width                                                             NaN   \nEnclosure_Type                                                          NaN   \nEngine_Horsepower                                                       NaN   \nHydraulics                                                        Auxiliary   \nPushblock                                                               NaN   \nRipper                                                                  NaN   \nScarifier                                                               NaN   \nTip_Control                                                             NaN   \nTire_Size                                                               NaN   \nCoupler                                                 None or Unspecified   \nCoupler_System                                          None or Unspecified   \nGrouser_Tracks                                          None or Unspecified   \nHydraulics_Flow                                                    Standard   \nTrack_Type                                                              NaN   \nUndercarriage_Pad_Width                                                 NaN   \nStick_Length                                                            NaN   \nThumb                                                                   NaN   \nPattern_Changer                                                         NaN   \nGrouser_Type                                                            NaN   \nBackhoe_Mounting                                                        NaN   \nBlade_Type                                                              NaN   \nTravel_Controls                                                         NaN   \nDifferential_Type                                                       NaN   \nSteering_Controls                                                       NaN   \n\n                                                                          3  \\\nSalesID                                                             1139251   \nSalePrice                                                           38500.0   \nMachineID                                                           1026470   \nModelID                                                                 332   \ndatasource                                                              121   \nauctioneerID                                                            3.0   \nYearMade                                                               2001   \nMachineHoursCurrentMeter                                             3486.0   \nUsageBand                                                              High   \nsaledate                                                2011-05-19 00:00:00   \nfiModelDesc                                                        PC120-6E   \nfiBaseModel                                                           PC120   \nfiSecondaryDesc                                                         NaN   \nfiModelSeries                                                           -6E   \nfiModelDescriptor                                                       NaN   \nProductSize                                                           Small   \nfiProductClassDesc        Hydraulic Excavator, Track - 12.0 to 14.0 Metr...   \nstate                                                                 Texas   \nProductGroup                                                            TEX   \nProductGroupDesc                                           Track Excavators   \nDrive_System                                                            NaN   \nEnclosure                                                        EROPS w AC   \nForks                                                                   NaN   \nPad_Type                                                                NaN   \nRide_Control                                                            NaN   \nStick                                                                   NaN   \nTransmission                                                            NaN   \nTurbocharged                                                            NaN   \nBlade_Extension                                                         NaN   \nBlade_Width                                                             NaN   \nEnclosure_Type                                                          NaN   \nEngine_Horsepower                                                       NaN   \nHydraulics                                                          2 Valve   \nPushblock                                                               NaN   \nRipper                                                                  NaN   \nScarifier                                                               NaN   \nTip_Control                                                             NaN   \nTire_Size                                                               NaN   \nCoupler                                                 None or Unspecified   \nCoupler_System                                                          NaN   \nGrouser_Tracks                                                          NaN   \nHydraulics_Flow                                                         NaN   \nTrack_Type                                                              NaN   \nUndercarriage_Pad_Width                                                 NaN   \nStick_Length                                                            NaN   \nThumb                                                                   NaN   \nPattern_Changer                                                         NaN   \nGrouser_Type                                                            NaN   \nBackhoe_Mounting                                                        NaN   \nBlade_Type                                                              NaN   \nTravel_Controls                                                         NaN   \nDifferential_Type                                                       NaN   \nSteering_Controls                                                       NaN   \n\n                                                                          4  \nSalesID                                                             1139253  \nSalePrice                                                           11000.0  \nMachineID                                                           1057373  \nModelID                                                               17311  \ndatasource                                                              121  \nauctioneerID                                                            3.0  \nYearMade                                                               2007  \nMachineHoursCurrentMeter                                              722.0  \nUsageBand                                                            Medium  \nsaledate                                                2009-07-23 00:00:00  \nfiModelDesc                                                            S175  \nfiBaseModel                                                            S175  \nfiSecondaryDesc                                                         NaN  \nfiModelSeries                                                           NaN  \nfiModelDescriptor                                                       NaN  \nProductSize                                                             NaN  \nfiProductClassDesc        Skid Steer Loader - 1601.0 to 1751.0 Lb Operat...  \nstate                                                              New York  \nProductGroup                                                            SSL  \nProductGroupDesc                                         Skid Steer Loaders  \nDrive_System                                                            NaN  \nEnclosure                                                             EROPS  \nForks                                                   None or Unspecified  \nPad_Type                                                                NaN  \nRide_Control                                                            NaN  \nStick                                                                   NaN  \nTransmission                                                            NaN  \nTurbocharged                                                            NaN  \nBlade_Extension                                                         NaN  \nBlade_Width                                                             NaN  \nEnclosure_Type                                                          NaN  \nEngine_Horsepower                                                       NaN  \nHydraulics                                                        Auxiliary  \nPushblock                                                               NaN  \nRipper                                                                  NaN  \nScarifier                                                               NaN  \nTip_Control                                                             NaN  \nTire_Size                                                               NaN  \nCoupler                                                 None or Unspecified  \nCoupler_System                                          None or Unspecified  \nGrouser_Tracks                                          None or Unspecified  \nHydraulics_Flow                                                    Standard  \nTrack_Type                                                              NaN  \nUndercarriage_Pad_Width                                                 NaN  \nStick_Length                                                            NaN  \nThumb                                                                   NaN  \nPattern_Changer                                                         NaN  \nGrouser_Type                                                            NaN  \nBackhoe_Mounting                                                        NaN  \nBlade_Type                                                              NaN  \nTravel_Controls                                                         NaN  \nDifferential_Type                                                       NaN  \nSteering_Controls                                                       NaN  ",
      "text/html": "<div>\n<style scoped>\n    .dataframe tbody tr th:only-of-type {\n        vertical-align: middle;\n    }\n\n    .dataframe tbody tr th {\n        vertical-align: top;\n    }\n\n    .dataframe thead th {\n        text-align: right;\n    }\n</style>\n<table border=\"1\" class=\"dataframe\">\n  <thead>\n    <tr style=\"text-align: right;\">\n      <th></th>\n      <th>0</th>\n      <th>1</th>\n      <th>2</th>\n      <th>3</th>\n      <th>4</th>\n    </tr>\n  </thead>\n  <tbody>\n    <tr>\n      <th>SalesID</th>\n      <td>1139246</td>\n      <td>1139248</td>\n      <td>1139249</td>\n      <td>1139251</td>\n      <td>1139253</td>\n    </tr>\n    <tr>\n      <th>SalePrice</th>\n      <td>66000.0</td>\n      <td>57000.0</td>\n      <td>10000.0</td>\n      <td>38500.0</td>\n      <td>11000.0</td>\n    </tr>\n    <tr>\n      <th>MachineID</th>\n      <td>999089</td>\n      <td>117657</td>\n      <td>434808</td>\n      <td>1026470</td>\n      <td>1057373</td>\n    </tr>\n    <tr>\n      <th>ModelID</th>\n      <td>3157</td>\n      <td>77</td>\n      <td>7009</td>\n      <td>332</td>\n      <td>17311</td>\n    </tr>\n    <tr>\n      <th>datasource</th>\n      <td>121</td>\n      <td>121</td>\n      <td>121</td>\n      <td>121</td>\n      <td>121</td>\n    </tr>\n    <tr>\n      <th>auctioneerID</th>\n      <td>3.0</td>\n      <td>3.0</td>\n      <td>3.0</td>\n      <td>3.0</td>\n      <td>3.0</td>\n    </tr>\n    <tr>\n      <th>YearMade</th>\n      <td>2004</td>\n      <td>1996</td>\n      <td>2001</td>\n      <td>2001</td>\n      <td>2007</td>\n    </tr>\n    <tr>\n      <th>MachineHoursCurrentMeter</th>\n      <td>68.0</td>\n      <td>4640.0</td>\n      <td>2838.0</td>\n      <td>3486.0</td>\n      <td>722.0</td>\n    </tr>\n    <tr>\n      <th>UsageBand</th>\n      <td>Low</td>\n      <td>Low</td>\n      <td>High</td>\n      <td>High</td>\n      <td>Medium</td>\n    </tr>\n    <tr>\n      <th>saledate</th>\n      <td>2006-11-16 00:00:00</td>\n      <td>2004-03-26 00:00:00</td>\n      <td>2004-02-26 00:00:00</td>\n      <td>2011-05-19 00:00:00</td>\n      <td>2009-07-23 00:00:00</td>\n    </tr>\n    <tr>\n      <th>fiModelDesc</th>\n      <td>521D</td>\n      <td>950FII</td>\n      <td>226</td>\n      <td>PC120-6E</td>\n      <td>S175</td>\n    </tr>\n    <tr>\n      <th>fiBaseModel</th>\n      <td>521</td>\n      <td>950</td>\n      <td>226</td>\n      <td>PC120</td>\n      <td>S175</td>\n    </tr>\n    <tr>\n      <th>fiSecondaryDesc</th>\n      <td>D</td>\n      <td>F</td>\n      <td>NaN</td>\n      <td>NaN</td>\n      <td>NaN</td>\n    </tr>\n    <tr>\n      <th>fiModelSeries</th>\n      <td>NaN</td>\n      <td>II</td>\n      <td>NaN</td>\n      <td>-6E</td>\n      <td>NaN</td>\n    </tr>\n    <tr>\n      <th>fiModelDescriptor</th>\n      <td>NaN</td>\n      <td>NaN</td>\n      <td>NaN</td>\n      <td>NaN</td>\n      <td>NaN</td>\n    </tr>\n    <tr>\n      <th>ProductSize</th>\n      <td>NaN</td>\n      <td>Medium</td>\n      <td>NaN</td>\n      <td>Small</td>\n      <td>NaN</td>\n    </tr>\n    <tr>\n      <th>fiProductClassDesc</th>\n      <td>Wheel Loader - 110.0 to 120.0 Horsepower</td>\n      <td>Wheel Loader - 150.0 to 175.0 Horsepower</td>\n      <td>Skid Steer Loader - 1351.0 to 1601.0 Lb Operat...</td>\n      <td>Hydraulic Excavator, Track - 12.0 to 14.0 Metr...</td>\n      <td>Skid Steer Loader - 1601.0 to 1751.0 Lb Operat...</td>\n    </tr>\n    <tr>\n      <th>state</th>\n      <td>Alabama</td>\n      <td>North Carolina</td>\n      <td>New York</td>\n      <td>Texas</td>\n      <td>New York</td>\n    </tr>\n    <tr>\n      <th>ProductGroup</th>\n      <td>WL</td>\n      <td>WL</td>\n      <td>SSL</td>\n      <td>TEX</td>\n      <td>SSL</td>\n    </tr>\n    <tr>\n      <th>ProductGroupDesc</th>\n      <td>Wheel Loader</td>\n      <td>Wheel Loader</td>\n      <td>Skid Steer Loaders</td>\n      <td>Track Excavators</td>\n      <td>Skid Steer Loaders</td>\n    </tr>\n    <tr>\n      <th>Drive_System</th>\n      <td>NaN</td>\n      <td>NaN</td>\n      <td>NaN</td>\n      <td>NaN</td>\n      <td>NaN</td>\n    </tr>\n    <tr>\n      <th>Enclosure</th>\n      <td>EROPS w AC</td>\n      <td>EROPS w AC</td>\n      <td>OROPS</td>\n      <td>EROPS w AC</td>\n      <td>EROPS</td>\n    </tr>\n    <tr>\n      <th>Forks</th>\n      <td>None or Unspecified</td>\n      <td>None or Unspecified</td>\n      <td>None or Unspecified</td>\n      <td>NaN</td>\n      <td>None or Unspecified</td>\n    </tr>\n    <tr>\n      <th>Pad_Type</th>\n      <td>NaN</td>\n      <td>NaN</td>\n      <td>NaN</td>\n      <td>NaN</td>\n      <td>NaN</td>\n    </tr>\n    <tr>\n      <th>Ride_Control</th>\n      <td>None or Unspecified</td>\n      <td>None or Unspecified</td>\n      <td>NaN</td>\n      <td>NaN</td>\n      <td>NaN</td>\n    </tr>\n    <tr>\n      <th>Stick</th>\n      <td>NaN</td>\n      <td>NaN</td>\n      <td>NaN</td>\n      <td>NaN</td>\n      <td>NaN</td>\n    </tr>\n    <tr>\n      <th>Transmission</th>\n      <td>NaN</td>\n      <td>NaN</td>\n      <td>NaN</td>\n      <td>NaN</td>\n      <td>NaN</td>\n    </tr>\n    <tr>\n      <th>Turbocharged</th>\n      <td>NaN</td>\n      <td>NaN</td>\n      <td>NaN</td>\n      <td>NaN</td>\n      <td>NaN</td>\n    </tr>\n    <tr>\n      <th>Blade_Extension</th>\n      <td>NaN</td>\n      <td>NaN</td>\n      <td>NaN</td>\n      <td>NaN</td>\n      <td>NaN</td>\n    </tr>\n    <tr>\n      <th>Blade_Width</th>\n      <td>NaN</td>\n      <td>NaN</td>\n      <td>NaN</td>\n      <td>NaN</td>\n      <td>NaN</td>\n    </tr>\n    <tr>\n      <th>Enclosure_Type</th>\n      <td>NaN</td>\n      <td>NaN</td>\n      <td>NaN</td>\n      <td>NaN</td>\n      <td>NaN</td>\n    </tr>\n    <tr>\n      <th>Engine_Horsepower</th>\n      <td>NaN</td>\n      <td>NaN</td>\n      <td>NaN</td>\n      <td>NaN</td>\n      <td>NaN</td>\n    </tr>\n    <tr>\n      <th>Hydraulics</th>\n      <td>2 Valve</td>\n      <td>2 Valve</td>\n      <td>Auxiliary</td>\n      <td>2 Valve</td>\n      <td>Auxiliary</td>\n    </tr>\n    <tr>\n      <th>Pushblock</th>\n      <td>NaN</td>\n      <td>NaN</td>\n      <td>NaN</td>\n      <td>NaN</td>\n      <td>NaN</td>\n    </tr>\n    <tr>\n      <th>Ripper</th>\n      <td>NaN</td>\n      <td>NaN</td>\n      <td>NaN</td>\n      <td>NaN</td>\n      <td>NaN</td>\n    </tr>\n    <tr>\n      <th>Scarifier</th>\n      <td>NaN</td>\n      <td>NaN</td>\n      <td>NaN</td>\n      <td>NaN</td>\n      <td>NaN</td>\n    </tr>\n    <tr>\n      <th>Tip_Control</th>\n      <td>NaN</td>\n      <td>NaN</td>\n      <td>NaN</td>\n      <td>NaN</td>\n      <td>NaN</td>\n    </tr>\n    <tr>\n      <th>Tire_Size</th>\n      <td>None or Unspecified</td>\n      <td>23.5</td>\n      <td>NaN</td>\n      <td>NaN</td>\n      <td>NaN</td>\n    </tr>\n    <tr>\n      <th>Coupler</th>\n      <td>None or Unspecified</td>\n      <td>None or Unspecified</td>\n      <td>None or Unspecified</td>\n      <td>None or Unspecified</td>\n      <td>None or Unspecified</td>\n    </tr>\n    <tr>\n      <th>Coupler_System</th>\n      <td>NaN</td>\n      <td>NaN</td>\n      <td>None or Unspecified</td>\n      <td>NaN</td>\n      <td>None or Unspecified</td>\n    </tr>\n    <tr>\n      <th>Grouser_Tracks</th>\n      <td>NaN</td>\n      <td>NaN</td>\n      <td>None or Unspecified</td>\n      <td>NaN</td>\n      <td>None or Unspecified</td>\n    </tr>\n    <tr>\n      <th>Hydraulics_Flow</th>\n      <td>NaN</td>\n      <td>NaN</td>\n      <td>Standard</td>\n      <td>NaN</td>\n      <td>Standard</td>\n    </tr>\n    <tr>\n      <th>Track_Type</th>\n      <td>NaN</td>\n      <td>NaN</td>\n      <td>NaN</td>\n      <td>NaN</td>\n      <td>NaN</td>\n    </tr>\n    <tr>\n      <th>Undercarriage_Pad_Width</th>\n      <td>NaN</td>\n      <td>NaN</td>\n      <td>NaN</td>\n      <td>NaN</td>\n      <td>NaN</td>\n    </tr>\n    <tr>\n      <th>Stick_Length</th>\n      <td>NaN</td>\n      <td>NaN</td>\n      <td>NaN</td>\n      <td>NaN</td>\n      <td>NaN</td>\n    </tr>\n    <tr>\n      <th>Thumb</th>\n      <td>NaN</td>\n      <td>NaN</td>\n      <td>NaN</td>\n      <td>NaN</td>\n      <td>NaN</td>\n    </tr>\n    <tr>\n      <th>Pattern_Changer</th>\n      <td>NaN</td>\n      <td>NaN</td>\n      <td>NaN</td>\n      <td>NaN</td>\n      <td>NaN</td>\n    </tr>\n    <tr>\n      <th>Grouser_Type</th>\n      <td>NaN</td>\n      <td>NaN</td>\n      <td>NaN</td>\n      <td>NaN</td>\n      <td>NaN</td>\n    </tr>\n    <tr>\n      <th>Backhoe_Mounting</th>\n      <td>NaN</td>\n      <td>NaN</td>\n      <td>NaN</td>\n      <td>NaN</td>\n      <td>NaN</td>\n    </tr>\n    <tr>\n      <th>Blade_Type</th>\n      <td>NaN</td>\n      <td>NaN</td>\n      <td>NaN</td>\n      <td>NaN</td>\n      <td>NaN</td>\n    </tr>\n    <tr>\n      <th>Travel_Controls</th>\n      <td>NaN</td>\n      <td>NaN</td>\n      <td>NaN</td>\n      <td>NaN</td>\n      <td>NaN</td>\n    </tr>\n    <tr>\n      <th>Differential_Type</th>\n      <td>Standard</td>\n      <td>Standard</td>\n      <td>NaN</td>\n      <td>NaN</td>\n      <td>NaN</td>\n    </tr>\n    <tr>\n      <th>Steering_Controls</th>\n      <td>Conventional</td>\n      <td>Conventional</td>\n      <td>NaN</td>\n      <td>NaN</td>\n      <td>NaN</td>\n    </tr>\n  </tbody>\n</table>\n</div>"
     },
     "execution_count": 17,
     "metadata": {},
     "output_type": "execute_result"
    }
   ],
   "source": [
    "df.head().T"
   ],
   "metadata": {
    "collapsed": false,
    "pycharm": {
     "name": "#%%\n"
    }
   }
  },
  {
   "cell_type": "code",
   "execution_count": 18,
   "outputs": [
    {
     "data": {
      "text/plain": "0    2006-11-16\n1    2004-03-26\n2    2004-02-26\n3    2011-05-19\n4    2009-07-23\n5    2008-12-18\n6    2004-08-26\n7    2005-11-17\n8    2009-08-27\n9    2007-08-09\n10   2008-08-21\n11   2006-08-24\n12   2005-10-20\n13   2006-01-26\n14   2006-01-03\n15   2006-11-16\n16   2007-06-14\n17   2010-01-28\n18   2006-03-09\n19   2005-11-17\nName: saledate, dtype: datetime64[ns]"
     },
     "execution_count": 18,
     "metadata": {},
     "output_type": "execute_result"
    }
   ],
   "source": [
    "df.saledate.head(20)"
   ],
   "metadata": {
    "collapsed": false,
    "pycharm": {
     "name": "#%%\n"
    }
   }
  },
  {
   "cell_type": "markdown",
   "source": [
    "### Sort DataFrame by saledate\n",
    "\n",
    "When working with time series data, it's a good idea tı sort it by date."
   ],
   "metadata": {
    "collapsed": false,
    "pycharm": {
     "name": "#%% md\n"
    }
   }
  },
  {
   "cell_type": "code",
   "execution_count": 20,
   "outputs": [
    {
     "data": {
      "text/plain": "205615   1989-01-17\n274835   1989-01-31\n141296   1989-01-31\n212552   1989-01-31\n62755    1989-01-31\n54653    1989-01-31\n81383    1989-01-31\n204924   1989-01-31\n135376   1989-01-31\n113390   1989-01-31\n113394   1989-01-31\n116419   1989-01-31\n32138    1989-01-31\n127610   1989-01-31\n76171    1989-01-31\n127000   1989-01-31\n128130   1989-01-31\n127626   1989-01-31\n55455    1989-01-31\n55454    1989-01-31\nName: saledate, dtype: datetime64[ns]"
     },
     "execution_count": 20,
     "metadata": {},
     "output_type": "execute_result"
    }
   ],
   "source": [
    "# Sort DataFrame in date order\n",
    "\n",
    "df.sort_values(by=[\"saledate\"], inplace=True, ascending=True)\n",
    "df.saledate.head(20)"
   ],
   "metadata": {
    "collapsed": false,
    "pycharm": {
     "name": "#%%\n"
    }
   }
  },
  {
   "cell_type": "code",
   "execution_count": 21,
   "outputs": [
    {
     "data": {
      "text/plain": "        SalesID  SalePrice  MachineID  ModelID  datasource  auctioneerID  \\\n205615  1646770     9500.0    1126363     8434         132          18.0   \n274835  1821514    14000.0    1194089    10150         132          99.0   \n141296  1505138    50000.0    1473654     4139         132          99.0   \n212552  1671174    16000.0    1327630     8591         132          99.0   \n62755   1329056    22000.0    1336053     4089         132          99.0   \n\n        YearMade  MachineHoursCurrentMeter UsageBand   saledate  ...  \\\n205615      1974                       NaN       NaN 1989-01-17  ...   \n274835      1980                       NaN       NaN 1989-01-31  ...   \n141296      1978                       NaN       NaN 1989-01-31  ...   \n212552      1980                       NaN       NaN 1989-01-31  ...   \n62755       1984                       NaN       NaN 1989-01-31  ...   \n\n       Undercarriage_Pad_Width Stick_Length Thumb Pattern_Changer  \\\n205615                     NaN          NaN   NaN             NaN   \n274835                     NaN          NaN   NaN             NaN   \n141296                     NaN          NaN   NaN             NaN   \n212552                     NaN          NaN   NaN             NaN   \n62755                      NaN          NaN   NaN             NaN   \n\n       Grouser_Type     Backhoe_Mounting Blade_Type      Travel_Controls  \\\n205615          NaN  None or Unspecified   Straight  None or Unspecified   \n274835          NaN                  NaN        NaN                  NaN   \n141296          NaN  None or Unspecified   Straight  None or Unspecified   \n212552          NaN                  NaN        NaN                  NaN   \n62755           NaN  None or Unspecified        PAT                Lever   \n\n       Differential_Type Steering_Controls  \n205615               NaN               NaN  \n274835          Standard      Conventional  \n141296               NaN               NaN  \n212552          Standard      Conventional  \n62755                NaN               NaN  \n\n[5 rows x 53 columns]",
      "text/html": "<div>\n<style scoped>\n    .dataframe tbody tr th:only-of-type {\n        vertical-align: middle;\n    }\n\n    .dataframe tbody tr th {\n        vertical-align: top;\n    }\n\n    .dataframe thead th {\n        text-align: right;\n    }\n</style>\n<table border=\"1\" class=\"dataframe\">\n  <thead>\n    <tr style=\"text-align: right;\">\n      <th></th>\n      <th>SalesID</th>\n      <th>SalePrice</th>\n      <th>MachineID</th>\n      <th>ModelID</th>\n      <th>datasource</th>\n      <th>auctioneerID</th>\n      <th>YearMade</th>\n      <th>MachineHoursCurrentMeter</th>\n      <th>UsageBand</th>\n      <th>saledate</th>\n      <th>...</th>\n      <th>Undercarriage_Pad_Width</th>\n      <th>Stick_Length</th>\n      <th>Thumb</th>\n      <th>Pattern_Changer</th>\n      <th>Grouser_Type</th>\n      <th>Backhoe_Mounting</th>\n      <th>Blade_Type</th>\n      <th>Travel_Controls</th>\n      <th>Differential_Type</th>\n      <th>Steering_Controls</th>\n    </tr>\n  </thead>\n  <tbody>\n    <tr>\n      <th>205615</th>\n      <td>1646770</td>\n      <td>9500.0</td>\n      <td>1126363</td>\n      <td>8434</td>\n      <td>132</td>\n      <td>18.0</td>\n      <td>1974</td>\n      <td>NaN</td>\n      <td>NaN</td>\n      <td>1989-01-17</td>\n      <td>...</td>\n      <td>NaN</td>\n      <td>NaN</td>\n      <td>NaN</td>\n      <td>NaN</td>\n      <td>NaN</td>\n      <td>None or Unspecified</td>\n      <td>Straight</td>\n      <td>None or Unspecified</td>\n      <td>NaN</td>\n      <td>NaN</td>\n    </tr>\n    <tr>\n      <th>274835</th>\n      <td>1821514</td>\n      <td>14000.0</td>\n      <td>1194089</td>\n      <td>10150</td>\n      <td>132</td>\n      <td>99.0</td>\n      <td>1980</td>\n      <td>NaN</td>\n      <td>NaN</td>\n      <td>1989-01-31</td>\n      <td>...</td>\n      <td>NaN</td>\n      <td>NaN</td>\n      <td>NaN</td>\n      <td>NaN</td>\n      <td>NaN</td>\n      <td>NaN</td>\n      <td>NaN</td>\n      <td>NaN</td>\n      <td>Standard</td>\n      <td>Conventional</td>\n    </tr>\n    <tr>\n      <th>141296</th>\n      <td>1505138</td>\n      <td>50000.0</td>\n      <td>1473654</td>\n      <td>4139</td>\n      <td>132</td>\n      <td>99.0</td>\n      <td>1978</td>\n      <td>NaN</td>\n      <td>NaN</td>\n      <td>1989-01-31</td>\n      <td>...</td>\n      <td>NaN</td>\n      <td>NaN</td>\n      <td>NaN</td>\n      <td>NaN</td>\n      <td>NaN</td>\n      <td>None or Unspecified</td>\n      <td>Straight</td>\n      <td>None or Unspecified</td>\n      <td>NaN</td>\n      <td>NaN</td>\n    </tr>\n    <tr>\n      <th>212552</th>\n      <td>1671174</td>\n      <td>16000.0</td>\n      <td>1327630</td>\n      <td>8591</td>\n      <td>132</td>\n      <td>99.0</td>\n      <td>1980</td>\n      <td>NaN</td>\n      <td>NaN</td>\n      <td>1989-01-31</td>\n      <td>...</td>\n      <td>NaN</td>\n      <td>NaN</td>\n      <td>NaN</td>\n      <td>NaN</td>\n      <td>NaN</td>\n      <td>NaN</td>\n      <td>NaN</td>\n      <td>NaN</td>\n      <td>Standard</td>\n      <td>Conventional</td>\n    </tr>\n    <tr>\n      <th>62755</th>\n      <td>1329056</td>\n      <td>22000.0</td>\n      <td>1336053</td>\n      <td>4089</td>\n      <td>132</td>\n      <td>99.0</td>\n      <td>1984</td>\n      <td>NaN</td>\n      <td>NaN</td>\n      <td>1989-01-31</td>\n      <td>...</td>\n      <td>NaN</td>\n      <td>NaN</td>\n      <td>NaN</td>\n      <td>NaN</td>\n      <td>NaN</td>\n      <td>None or Unspecified</td>\n      <td>PAT</td>\n      <td>Lever</td>\n      <td>NaN</td>\n      <td>NaN</td>\n    </tr>\n  </tbody>\n</table>\n<p>5 rows × 53 columns</p>\n</div>"
     },
     "execution_count": 21,
     "metadata": {},
     "output_type": "execute_result"
    }
   ],
   "source": [
    "df.head()"
   ],
   "metadata": {
    "collapsed": false,
    "pycharm": {
     "name": "#%%\n"
    }
   }
  },
  {
   "cell_type": "markdown",
   "source": [
    "### Make a copy of the original DataFrame\n",
    "\n",
    "We make a copy of the original dataframe so when we manipulate the copy, we've still got our original data."
   ],
   "metadata": {
    "collapsed": false,
    "pycharm": {
     "name": "#%% md\n"
    }
   }
  },
  {
   "cell_type": "code",
   "execution_count": 22,
   "outputs": [],
   "source": [
    "df_temp = df.copy()"
   ],
   "metadata": {
    "collapsed": false,
    "pycharm": {
     "name": "#%%\n"
    }
   }
  },
  {
   "cell_type": "markdown",
   "source": [
    "### Add datetime parameters for `saledate` column"
   ],
   "metadata": {
    "collapsed": false,
    "pycharm": {
     "name": "#%% md\n"
    }
   }
  },
  {
   "cell_type": "code",
   "execution_count": 28,
   "outputs": [
    {
     "data": {
      "text/plain": "205615    1989\nName: saledate, dtype: int64"
     },
     "execution_count": 28,
     "metadata": {},
     "output_type": "execute_result"
    }
   ],
   "source": [
    "df_temp[:1].saledate.dt.year"
   ],
   "metadata": {
    "collapsed": false,
    "pycharm": {
     "name": "#%%\n"
    }
   }
  },
  {
   "cell_type": "code",
   "execution_count": 29,
   "outputs": [
    {
     "data": {
      "text/plain": "205615    17\nName: saledate, dtype: int64"
     },
     "execution_count": 29,
     "metadata": {},
     "output_type": "execute_result"
    }
   ],
   "source": [
    "df_temp[:1].saledate.dt.day"
   ],
   "metadata": {
    "collapsed": false,
    "pycharm": {
     "name": "#%%\n"
    }
   }
  },
  {
   "cell_type": "markdown",
   "source": [],
   "metadata": {
    "collapsed": false,
    "pycharm": {
     "name": "#%% md\n"
    }
   }
  },
  {
   "cell_type": "code",
   "execution_count": 30,
   "outputs": [
    {
     "data": {
      "text/plain": "205615   1989-01-17\nName: saledate, dtype: datetime64[ns]"
     },
     "execution_count": 30,
     "metadata": {},
     "output_type": "execute_result"
    }
   ],
   "source": [
    "df_temp[:1].saledate"
   ],
   "metadata": {
    "collapsed": false,
    "pycharm": {
     "name": "#%%\n"
    }
   }
  },
  {
   "cell_type": "markdown",
   "source": [],
   "metadata": {
    "collapsed": false,
    "pycharm": {
     "name": "#%% md\n"
    }
   }
  },
  {
   "cell_type": "code",
   "execution_count": 31,
   "outputs": [],
   "source": [
    "df_temp[\"saleYear\"] = df_temp.saledate.dt.year\n",
    "df_temp[\"saleMonth\"] = df_temp.saledate.dt.month\n",
    "df_temp[\"saleDay\"] = df_temp.saledate.dt.day\n",
    "df_temp[\"saleDayOfWeek\"] = df_temp.saledate.dt.dayofweek\n",
    "df_temp[\"saleDayOfYear\"] = df_temp.saledate.dt.dayofyear"
   ],
   "metadata": {
    "collapsed": false,
    "pycharm": {
     "name": "#%%\n"
    }
   }
  },
  {
   "cell_type": "code",
   "execution_count": 32,
   "outputs": [
    {
     "data": {
      "text/plain": "                                                                     205615  \\\nSalesID                                                             1646770   \nSalePrice                                                            9500.0   \nMachineID                                                           1126363   \nModelID                                                                8434   \ndatasource                                                              132   \nauctioneerID                                                           18.0   \nYearMade                                                               1974   \nMachineHoursCurrentMeter                                                NaN   \nUsageBand                                                               NaN   \nsaledate                                                1989-01-17 00:00:00   \nfiModelDesc                                                            TD20   \nfiBaseModel                                                            TD20   \nfiSecondaryDesc                                                         NaN   \nfiModelSeries                                                           NaN   \nfiModelDescriptor                                                       NaN   \nProductSize                                                          Medium   \nfiProductClassDesc        Track Type Tractor, Dozer - 105.0 to 130.0 Hor...   \nstate                                                                 Texas   \nProductGroup                                                            TTT   \nProductGroupDesc                                        Track Type Tractors   \nDrive_System                                                            NaN   \nEnclosure                                                             OROPS   \nForks                                                                   NaN   \nPad_Type                                                                NaN   \nRide_Control                                                            NaN   \nStick                                                                   NaN   \nTransmission                                                   Direct Drive   \nTurbocharged                                                            NaN   \nBlade_Extension                                                         NaN   \nBlade_Width                                                             NaN   \nEnclosure_Type                                                          NaN   \nEngine_Horsepower                                                       NaN   \nHydraulics                                                          2 Valve   \nPushblock                                                               NaN   \nRipper                                                  None or Unspecified   \nScarifier                                                               NaN   \nTip_Control                                                             NaN   \nTire_Size                                                               NaN   \nCoupler                                                                 NaN   \nCoupler_System                                                          NaN   \nGrouser_Tracks                                                          NaN   \nHydraulics_Flow                                                         NaN   \nTrack_Type                                                              NaN   \nUndercarriage_Pad_Width                                                 NaN   \nStick_Length                                                            NaN   \nThumb                                                                   NaN   \nPattern_Changer                                                         NaN   \nGrouser_Type                                                            NaN   \nBackhoe_Mounting                                        None or Unspecified   \nBlade_Type                                                         Straight   \nTravel_Controls                                         None or Unspecified   \nDifferential_Type                                                       NaN   \nSteering_Controls                                                       NaN   \nsaleYear                                                               1989   \nsaleMonth                                                                 1   \nsaleDay                                                                  17   \nsaleDayOfWeek                                                             1   \nsaleDayOfYear                                                            17   \n\n                                                            274835  \\\nSalesID                                                    1821514   \nSalePrice                                                  14000.0   \nMachineID                                                  1194089   \nModelID                                                      10150   \ndatasource                                                     132   \nauctioneerID                                                  99.0   \nYearMade                                                      1980   \nMachineHoursCurrentMeter                                       NaN   \nUsageBand                                                      NaN   \nsaledate                                       1989-01-31 00:00:00   \nfiModelDesc                                                    A66   \nfiBaseModel                                                    A66   \nfiSecondaryDesc                                                NaN   \nfiModelSeries                                                  NaN   \nfiModelDescriptor                                              NaN   \nProductSize                                                    NaN   \nfiProductClassDesc        Wheel Loader - 120.0 to 135.0 Horsepower   \nstate                                                      Florida   \nProductGroup                                                    WL   \nProductGroupDesc                                      Wheel Loader   \nDrive_System                                                   NaN   \nEnclosure                                                    OROPS   \nForks                                          None or Unspecified   \nPad_Type                                                       NaN   \nRide_Control                                   None or Unspecified   \nStick                                                          NaN   \nTransmission                                                   NaN   \nTurbocharged                                                   NaN   \nBlade_Extension                                                NaN   \nBlade_Width                                                    NaN   \nEnclosure_Type                                                 NaN   \nEngine_Horsepower                                              NaN   \nHydraulics                                                 2 Valve   \nPushblock                                                      NaN   \nRipper                                                         NaN   \nScarifier                                                      NaN   \nTip_Control                                                    NaN   \nTire_Size                                      None or Unspecified   \nCoupler                                        None or Unspecified   \nCoupler_System                                                 NaN   \nGrouser_Tracks                                                 NaN   \nHydraulics_Flow                                                NaN   \nTrack_Type                                                     NaN   \nUndercarriage_Pad_Width                                        NaN   \nStick_Length                                                   NaN   \nThumb                                                          NaN   \nPattern_Changer                                                NaN   \nGrouser_Type                                                   NaN   \nBackhoe_Mounting                                               NaN   \nBlade_Type                                                     NaN   \nTravel_Controls                                                NaN   \nDifferential_Type                                         Standard   \nSteering_Controls                                     Conventional   \nsaleYear                                                      1989   \nsaleMonth                                                        1   \nsaleDay                                                         31   \nsaleDayOfWeek                                                    1   \nsaleDayOfYear                                                   31   \n\n                                                                     141296  \\\nSalesID                                                             1505138   \nSalePrice                                                           50000.0   \nMachineID                                                           1473654   \nModelID                                                                4139   \ndatasource                                                              132   \nauctioneerID                                                           99.0   \nYearMade                                                               1978   \nMachineHoursCurrentMeter                                                NaN   \nUsageBand                                                               NaN   \nsaledate                                                1989-01-31 00:00:00   \nfiModelDesc                                                             D7G   \nfiBaseModel                                                              D7   \nfiSecondaryDesc                                                           G   \nfiModelSeries                                                           NaN   \nfiModelDescriptor                                                       NaN   \nProductSize                                                           Large   \nfiProductClassDesc        Track Type Tractor, Dozer - 190.0 to 260.0 Hor...   \nstate                                                               Florida   \nProductGroup                                                            TTT   \nProductGroupDesc                                        Track Type Tractors   \nDrive_System                                                            NaN   \nEnclosure                                                             OROPS   \nForks                                                                   NaN   \nPad_Type                                                                NaN   \nRide_Control                                                            NaN   \nStick                                                                   NaN   \nTransmission                                                       Standard   \nTurbocharged                                                            NaN   \nBlade_Extension                                                         NaN   \nBlade_Width                                                             NaN   \nEnclosure_Type                                                          NaN   \nEngine_Horsepower                                                       NaN   \nHydraulics                                                          2 Valve   \nPushblock                                                               NaN   \nRipper                                                  None or Unspecified   \nScarifier                                                               NaN   \nTip_Control                                                             NaN   \nTire_Size                                                               NaN   \nCoupler                                                                 NaN   \nCoupler_System                                                          NaN   \nGrouser_Tracks                                                          NaN   \nHydraulics_Flow                                                         NaN   \nTrack_Type                                                              NaN   \nUndercarriage_Pad_Width                                                 NaN   \nStick_Length                                                            NaN   \nThumb                                                                   NaN   \nPattern_Changer                                                         NaN   \nGrouser_Type                                                            NaN   \nBackhoe_Mounting                                        None or Unspecified   \nBlade_Type                                                         Straight   \nTravel_Controls                                         None or Unspecified   \nDifferential_Type                                                       NaN   \nSteering_Controls                                                       NaN   \nsaleYear                                                               1989   \nsaleMonth                                                                 1   \nsaleDay                                                                  31   \nsaleDayOfWeek                                                             1   \nsaleDayOfYear                                                            31   \n\n                                               212552  \\\nSalesID                                       1671174   \nSalePrice                                     16000.0   \nMachineID                                     1327630   \nModelID                                          8591   \ndatasource                                        132   \nauctioneerID                                     99.0   \nYearMade                                         1980   \nMachineHoursCurrentMeter                          NaN   \nUsageBand                                         NaN   \nsaledate                          1989-01-31 00:00:00   \nfiModelDesc                                       A62   \nfiBaseModel                                       A62   \nfiSecondaryDesc                                   NaN   \nfiModelSeries                                     NaN   \nfiModelDescriptor                                 NaN   \nProductSize                                       NaN   \nfiProductClassDesc        Wheel Loader - Unidentified   \nstate                                         Florida   \nProductGroup                                       WL   \nProductGroupDesc                         Wheel Loader   \nDrive_System                                      NaN   \nEnclosure                                       EROPS   \nForks                             None or Unspecified   \nPad_Type                                          NaN   \nRide_Control                      None or Unspecified   \nStick                                             NaN   \nTransmission                                      NaN   \nTurbocharged                                      NaN   \nBlade_Extension                                   NaN   \nBlade_Width                                       NaN   \nEnclosure_Type                                    NaN   \nEngine_Horsepower                                 NaN   \nHydraulics                                    2 Valve   \nPushblock                                         NaN   \nRipper                                            NaN   \nScarifier                                         NaN   \nTip_Control                                       NaN   \nTire_Size                         None or Unspecified   \nCoupler                           None or Unspecified   \nCoupler_System                                    NaN   \nGrouser_Tracks                                    NaN   \nHydraulics_Flow                                   NaN   \nTrack_Type                                        NaN   \nUndercarriage_Pad_Width                           NaN   \nStick_Length                                      NaN   \nThumb                                             NaN   \nPattern_Changer                                   NaN   \nGrouser_Type                                      NaN   \nBackhoe_Mounting                                  NaN   \nBlade_Type                                        NaN   \nTravel_Controls                                   NaN   \nDifferential_Type                            Standard   \nSteering_Controls                        Conventional   \nsaleYear                                         1989   \nsaleMonth                                           1   \nsaleDay                                            31   \nsaleDayOfWeek                                       1   \nsaleDayOfYear                                      31   \n\n                                                                     62755   \nSalesID                                                             1329056  \nSalePrice                                                           22000.0  \nMachineID                                                           1336053  \nModelID                                                                4089  \ndatasource                                                              132  \nauctioneerID                                                           99.0  \nYearMade                                                               1984  \nMachineHoursCurrentMeter                                                NaN  \nUsageBand                                                               NaN  \nsaledate                                                1989-01-31 00:00:00  \nfiModelDesc                                                             D3B  \nfiBaseModel                                                              D3  \nfiSecondaryDesc                                                           B  \nfiModelSeries                                                           NaN  \nfiModelDescriptor                                                       NaN  \nProductSize                                                             NaN  \nfiProductClassDesc        Track Type Tractor, Dozer - 20.0 to 75.0 Horse...  \nstate                                                               Florida  \nProductGroup                                                            TTT  \nProductGroupDesc                                        Track Type Tractors  \nDrive_System                                                            NaN  \nEnclosure                                                             OROPS  \nForks                                                                   NaN  \nPad_Type                                                                NaN  \nRide_Control                                                            NaN  \nStick                                                                   NaN  \nTransmission                                                       Standard  \nTurbocharged                                                            NaN  \nBlade_Extension                                                         NaN  \nBlade_Width                                                             NaN  \nEnclosure_Type                                                          NaN  \nEngine_Horsepower                                                       NaN  \nHydraulics                                                          2 Valve  \nPushblock                                                               NaN  \nRipper                                                  None or Unspecified  \nScarifier                                                               NaN  \nTip_Control                                                             NaN  \nTire_Size                                                               NaN  \nCoupler                                                                 NaN  \nCoupler_System                                                          NaN  \nGrouser_Tracks                                                          NaN  \nHydraulics_Flow                                                         NaN  \nTrack_Type                                                              NaN  \nUndercarriage_Pad_Width                                                 NaN  \nStick_Length                                                            NaN  \nThumb                                                                   NaN  \nPattern_Changer                                                         NaN  \nGrouser_Type                                                            NaN  \nBackhoe_Mounting                                        None or Unspecified  \nBlade_Type                                                              PAT  \nTravel_Controls                                                       Lever  \nDifferential_Type                                                       NaN  \nSteering_Controls                                                       NaN  \nsaleYear                                                               1989  \nsaleMonth                                                                 1  \nsaleDay                                                                  31  \nsaleDayOfWeek                                                             1  \nsaleDayOfYear                                                            31  ",
      "text/html": "<div>\n<style scoped>\n    .dataframe tbody tr th:only-of-type {\n        vertical-align: middle;\n    }\n\n    .dataframe tbody tr th {\n        vertical-align: top;\n    }\n\n    .dataframe thead th {\n        text-align: right;\n    }\n</style>\n<table border=\"1\" class=\"dataframe\">\n  <thead>\n    <tr style=\"text-align: right;\">\n      <th></th>\n      <th>205615</th>\n      <th>274835</th>\n      <th>141296</th>\n      <th>212552</th>\n      <th>62755</th>\n    </tr>\n  </thead>\n  <tbody>\n    <tr>\n      <th>SalesID</th>\n      <td>1646770</td>\n      <td>1821514</td>\n      <td>1505138</td>\n      <td>1671174</td>\n      <td>1329056</td>\n    </tr>\n    <tr>\n      <th>SalePrice</th>\n      <td>9500.0</td>\n      <td>14000.0</td>\n      <td>50000.0</td>\n      <td>16000.0</td>\n      <td>22000.0</td>\n    </tr>\n    <tr>\n      <th>MachineID</th>\n      <td>1126363</td>\n      <td>1194089</td>\n      <td>1473654</td>\n      <td>1327630</td>\n      <td>1336053</td>\n    </tr>\n    <tr>\n      <th>ModelID</th>\n      <td>8434</td>\n      <td>10150</td>\n      <td>4139</td>\n      <td>8591</td>\n      <td>4089</td>\n    </tr>\n    <tr>\n      <th>datasource</th>\n      <td>132</td>\n      <td>132</td>\n      <td>132</td>\n      <td>132</td>\n      <td>132</td>\n    </tr>\n    <tr>\n      <th>auctioneerID</th>\n      <td>18.0</td>\n      <td>99.0</td>\n      <td>99.0</td>\n      <td>99.0</td>\n      <td>99.0</td>\n    </tr>\n    <tr>\n      <th>YearMade</th>\n      <td>1974</td>\n      <td>1980</td>\n      <td>1978</td>\n      <td>1980</td>\n      <td>1984</td>\n    </tr>\n    <tr>\n      <th>MachineHoursCurrentMeter</th>\n      <td>NaN</td>\n      <td>NaN</td>\n      <td>NaN</td>\n      <td>NaN</td>\n      <td>NaN</td>\n    </tr>\n    <tr>\n      <th>UsageBand</th>\n      <td>NaN</td>\n      <td>NaN</td>\n      <td>NaN</td>\n      <td>NaN</td>\n      <td>NaN</td>\n    </tr>\n    <tr>\n      <th>saledate</th>\n      <td>1989-01-17 00:00:00</td>\n      <td>1989-01-31 00:00:00</td>\n      <td>1989-01-31 00:00:00</td>\n      <td>1989-01-31 00:00:00</td>\n      <td>1989-01-31 00:00:00</td>\n    </tr>\n    <tr>\n      <th>fiModelDesc</th>\n      <td>TD20</td>\n      <td>A66</td>\n      <td>D7G</td>\n      <td>A62</td>\n      <td>D3B</td>\n    </tr>\n    <tr>\n      <th>fiBaseModel</th>\n      <td>TD20</td>\n      <td>A66</td>\n      <td>D7</td>\n      <td>A62</td>\n      <td>D3</td>\n    </tr>\n    <tr>\n      <th>fiSecondaryDesc</th>\n      <td>NaN</td>\n      <td>NaN</td>\n      <td>G</td>\n      <td>NaN</td>\n      <td>B</td>\n    </tr>\n    <tr>\n      <th>fiModelSeries</th>\n      <td>NaN</td>\n      <td>NaN</td>\n      <td>NaN</td>\n      <td>NaN</td>\n      <td>NaN</td>\n    </tr>\n    <tr>\n      <th>fiModelDescriptor</th>\n      <td>NaN</td>\n      <td>NaN</td>\n      <td>NaN</td>\n      <td>NaN</td>\n      <td>NaN</td>\n    </tr>\n    <tr>\n      <th>ProductSize</th>\n      <td>Medium</td>\n      <td>NaN</td>\n      <td>Large</td>\n      <td>NaN</td>\n      <td>NaN</td>\n    </tr>\n    <tr>\n      <th>fiProductClassDesc</th>\n      <td>Track Type Tractor, Dozer - 105.0 to 130.0 Hor...</td>\n      <td>Wheel Loader - 120.0 to 135.0 Horsepower</td>\n      <td>Track Type Tractor, Dozer - 190.0 to 260.0 Hor...</td>\n      <td>Wheel Loader - Unidentified</td>\n      <td>Track Type Tractor, Dozer - 20.0 to 75.0 Horse...</td>\n    </tr>\n    <tr>\n      <th>state</th>\n      <td>Texas</td>\n      <td>Florida</td>\n      <td>Florida</td>\n      <td>Florida</td>\n      <td>Florida</td>\n    </tr>\n    <tr>\n      <th>ProductGroup</th>\n      <td>TTT</td>\n      <td>WL</td>\n      <td>TTT</td>\n      <td>WL</td>\n      <td>TTT</td>\n    </tr>\n    <tr>\n      <th>ProductGroupDesc</th>\n      <td>Track Type Tractors</td>\n      <td>Wheel Loader</td>\n      <td>Track Type Tractors</td>\n      <td>Wheel Loader</td>\n      <td>Track Type Tractors</td>\n    </tr>\n    <tr>\n      <th>Drive_System</th>\n      <td>NaN</td>\n      <td>NaN</td>\n      <td>NaN</td>\n      <td>NaN</td>\n      <td>NaN</td>\n    </tr>\n    <tr>\n      <th>Enclosure</th>\n      <td>OROPS</td>\n      <td>OROPS</td>\n      <td>OROPS</td>\n      <td>EROPS</td>\n      <td>OROPS</td>\n    </tr>\n    <tr>\n      <th>Forks</th>\n      <td>NaN</td>\n      <td>None or Unspecified</td>\n      <td>NaN</td>\n      <td>None or Unspecified</td>\n      <td>NaN</td>\n    </tr>\n    <tr>\n      <th>Pad_Type</th>\n      <td>NaN</td>\n      <td>NaN</td>\n      <td>NaN</td>\n      <td>NaN</td>\n      <td>NaN</td>\n    </tr>\n    <tr>\n      <th>Ride_Control</th>\n      <td>NaN</td>\n      <td>None or Unspecified</td>\n      <td>NaN</td>\n      <td>None or Unspecified</td>\n      <td>NaN</td>\n    </tr>\n    <tr>\n      <th>Stick</th>\n      <td>NaN</td>\n      <td>NaN</td>\n      <td>NaN</td>\n      <td>NaN</td>\n      <td>NaN</td>\n    </tr>\n    <tr>\n      <th>Transmission</th>\n      <td>Direct Drive</td>\n      <td>NaN</td>\n      <td>Standard</td>\n      <td>NaN</td>\n      <td>Standard</td>\n    </tr>\n    <tr>\n      <th>Turbocharged</th>\n      <td>NaN</td>\n      <td>NaN</td>\n      <td>NaN</td>\n      <td>NaN</td>\n      <td>NaN</td>\n    </tr>\n    <tr>\n      <th>Blade_Extension</th>\n      <td>NaN</td>\n      <td>NaN</td>\n      <td>NaN</td>\n      <td>NaN</td>\n      <td>NaN</td>\n    </tr>\n    <tr>\n      <th>Blade_Width</th>\n      <td>NaN</td>\n      <td>NaN</td>\n      <td>NaN</td>\n      <td>NaN</td>\n      <td>NaN</td>\n    </tr>\n    <tr>\n      <th>Enclosure_Type</th>\n      <td>NaN</td>\n      <td>NaN</td>\n      <td>NaN</td>\n      <td>NaN</td>\n      <td>NaN</td>\n    </tr>\n    <tr>\n      <th>Engine_Horsepower</th>\n      <td>NaN</td>\n      <td>NaN</td>\n      <td>NaN</td>\n      <td>NaN</td>\n      <td>NaN</td>\n    </tr>\n    <tr>\n      <th>Hydraulics</th>\n      <td>2 Valve</td>\n      <td>2 Valve</td>\n      <td>2 Valve</td>\n      <td>2 Valve</td>\n      <td>2 Valve</td>\n    </tr>\n    <tr>\n      <th>Pushblock</th>\n      <td>NaN</td>\n      <td>NaN</td>\n      <td>NaN</td>\n      <td>NaN</td>\n      <td>NaN</td>\n    </tr>\n    <tr>\n      <th>Ripper</th>\n      <td>None or Unspecified</td>\n      <td>NaN</td>\n      <td>None or Unspecified</td>\n      <td>NaN</td>\n      <td>None or Unspecified</td>\n    </tr>\n    <tr>\n      <th>Scarifier</th>\n      <td>NaN</td>\n      <td>NaN</td>\n      <td>NaN</td>\n      <td>NaN</td>\n      <td>NaN</td>\n    </tr>\n    <tr>\n      <th>Tip_Control</th>\n      <td>NaN</td>\n      <td>NaN</td>\n      <td>NaN</td>\n      <td>NaN</td>\n      <td>NaN</td>\n    </tr>\n    <tr>\n      <th>Tire_Size</th>\n      <td>NaN</td>\n      <td>None or Unspecified</td>\n      <td>NaN</td>\n      <td>None or Unspecified</td>\n      <td>NaN</td>\n    </tr>\n    <tr>\n      <th>Coupler</th>\n      <td>NaN</td>\n      <td>None or Unspecified</td>\n      <td>NaN</td>\n      <td>None or Unspecified</td>\n      <td>NaN</td>\n    </tr>\n    <tr>\n      <th>Coupler_System</th>\n      <td>NaN</td>\n      <td>NaN</td>\n      <td>NaN</td>\n      <td>NaN</td>\n      <td>NaN</td>\n    </tr>\n    <tr>\n      <th>Grouser_Tracks</th>\n      <td>NaN</td>\n      <td>NaN</td>\n      <td>NaN</td>\n      <td>NaN</td>\n      <td>NaN</td>\n    </tr>\n    <tr>\n      <th>Hydraulics_Flow</th>\n      <td>NaN</td>\n      <td>NaN</td>\n      <td>NaN</td>\n      <td>NaN</td>\n      <td>NaN</td>\n    </tr>\n    <tr>\n      <th>Track_Type</th>\n      <td>NaN</td>\n      <td>NaN</td>\n      <td>NaN</td>\n      <td>NaN</td>\n      <td>NaN</td>\n    </tr>\n    <tr>\n      <th>Undercarriage_Pad_Width</th>\n      <td>NaN</td>\n      <td>NaN</td>\n      <td>NaN</td>\n      <td>NaN</td>\n      <td>NaN</td>\n    </tr>\n    <tr>\n      <th>Stick_Length</th>\n      <td>NaN</td>\n      <td>NaN</td>\n      <td>NaN</td>\n      <td>NaN</td>\n      <td>NaN</td>\n    </tr>\n    <tr>\n      <th>Thumb</th>\n      <td>NaN</td>\n      <td>NaN</td>\n      <td>NaN</td>\n      <td>NaN</td>\n      <td>NaN</td>\n    </tr>\n    <tr>\n      <th>Pattern_Changer</th>\n      <td>NaN</td>\n      <td>NaN</td>\n      <td>NaN</td>\n      <td>NaN</td>\n      <td>NaN</td>\n    </tr>\n    <tr>\n      <th>Grouser_Type</th>\n      <td>NaN</td>\n      <td>NaN</td>\n      <td>NaN</td>\n      <td>NaN</td>\n      <td>NaN</td>\n    </tr>\n    <tr>\n      <th>Backhoe_Mounting</th>\n      <td>None or Unspecified</td>\n      <td>NaN</td>\n      <td>None or Unspecified</td>\n      <td>NaN</td>\n      <td>None or Unspecified</td>\n    </tr>\n    <tr>\n      <th>Blade_Type</th>\n      <td>Straight</td>\n      <td>NaN</td>\n      <td>Straight</td>\n      <td>NaN</td>\n      <td>PAT</td>\n    </tr>\n    <tr>\n      <th>Travel_Controls</th>\n      <td>None or Unspecified</td>\n      <td>NaN</td>\n      <td>None or Unspecified</td>\n      <td>NaN</td>\n      <td>Lever</td>\n    </tr>\n    <tr>\n      <th>Differential_Type</th>\n      <td>NaN</td>\n      <td>Standard</td>\n      <td>NaN</td>\n      <td>Standard</td>\n      <td>NaN</td>\n    </tr>\n    <tr>\n      <th>Steering_Controls</th>\n      <td>NaN</td>\n      <td>Conventional</td>\n      <td>NaN</td>\n      <td>Conventional</td>\n      <td>NaN</td>\n    </tr>\n    <tr>\n      <th>saleYear</th>\n      <td>1989</td>\n      <td>1989</td>\n      <td>1989</td>\n      <td>1989</td>\n      <td>1989</td>\n    </tr>\n    <tr>\n      <th>saleMonth</th>\n      <td>1</td>\n      <td>1</td>\n      <td>1</td>\n      <td>1</td>\n      <td>1</td>\n    </tr>\n    <tr>\n      <th>saleDay</th>\n      <td>17</td>\n      <td>31</td>\n      <td>31</td>\n      <td>31</td>\n      <td>31</td>\n    </tr>\n    <tr>\n      <th>saleDayOfWeek</th>\n      <td>1</td>\n      <td>1</td>\n      <td>1</td>\n      <td>1</td>\n      <td>1</td>\n    </tr>\n    <tr>\n      <th>saleDayOfYear</th>\n      <td>17</td>\n      <td>31</td>\n      <td>31</td>\n      <td>31</td>\n      <td>31</td>\n    </tr>\n  </tbody>\n</table>\n</div>"
     },
     "execution_count": 32,
     "metadata": {},
     "output_type": "execute_result"
    }
   ],
   "source": [
    "df_temp.head().T"
   ],
   "metadata": {
    "collapsed": false,
    "pycharm": {
     "name": "#%%\n"
    }
   }
  },
  {
   "cell_type": "code",
   "execution_count": 33,
   "outputs": [],
   "source": [
    "# Now we've enriched our DateFrame with date time features, we can remove `saledate`\n",
    "df_temp.drop(\"saledate\", axis=1, inplace=True)"
   ],
   "metadata": {
    "collapsed": false,
    "pycharm": {
     "name": "#%%\n"
    }
   }
  },
  {
   "cell_type": "code",
   "execution_count": 38,
   "outputs": [
    {
     "data": {
      "text/plain": "Florida           67320\nTexas             53110\nCalifornia        29761\nWashington        16222\nGeorgia           14633\nMaryland          13322\nMississippi       13240\nOhio              12369\nIllinois          11540\nColorado          11529\nNew Jersey        11156\nNorth Carolina    10636\nTennessee         10298\nAlabama           10292\nPennsylvania      10234\nSouth Carolina     9951\nArizona            9364\nNew York           8639\nConnecticut        8276\nMinnesota          7885\nMissouri           7178\nNevada             6932\nLouisiana          6627\nKentucky           5351\nMaine              5096\nIndiana            4124\nArkansas           3933\nNew Mexico         3631\nUtah               3046\nUnspecified        2801\nWisconsin          2745\nNew Hampshire      2738\nVirginia           2353\nIdaho              2025\nOregon             1911\nMichigan           1831\nWyoming            1672\nMontana            1336\nIowa               1336\nOklahoma           1326\nNebraska            866\nWest Virginia       840\nKansas              667\nDelaware            510\nNorth Dakota        480\nAlaska              430\nMassachusetts       347\nVermont             300\nSouth Dakota        244\nHawaii              118\nRhode Island         83\nPuerto Rico          42\nWashington DC         2\nName: state, dtype: int64"
     },
     "execution_count": 38,
     "metadata": {},
     "output_type": "execute_result"
    }
   ],
   "source": [
    "# Check the values of different columns\n",
    "\n",
    "df_temp.state.value_counts()"
   ],
   "metadata": {
    "collapsed": false,
    "pycharm": {
     "name": "#%%\n"
    }
   }
  },
  {
   "cell_type": "markdown",
   "source": [
    "## 5. Modelling\n",
    "\n",
    "We've done enough EDA (we could always do more) but let's start to do some model-driven EDA."
   ],
   "metadata": {
    "collapsed": false,
    "pycharm": {
     "name": "#%% md\n"
    }
   }
  },
  {
   "cell_type": "code",
   "execution_count": 40,
   "outputs": [],
   "source": [
    "# Let's build a machine learning model\n",
    "#from sklearn.ensemble import RandomForestRegressor\n",
    "\n",
    "#model = RandomForestRegressor(n_jobs=-1, random_state=42)\n",
    "\n",
    "#model.fit(df_temp.drop(\"SalePrice\", axis=1), df_temp[\"SalePrice\"])"
   ],
   "metadata": {
    "collapsed": false,
    "pycharm": {
     "name": "#%%\n"
    }
   }
  },
  {
   "cell_type": "code",
   "execution_count": 41,
   "outputs": [
    {
     "data": {
      "text/plain": "dtype('O')"
     },
     "execution_count": 41,
     "metadata": {},
     "output_type": "execute_result"
    }
   ],
   "source": [
    "df_temp[\"UsageBand\"].dtype"
   ],
   "metadata": {
    "collapsed": false,
    "pycharm": {
     "name": "#%%\n"
    }
   }
  },
  {
   "cell_type": "code",
   "execution_count": 42,
   "outputs": [
    {
     "data": {
      "text/plain": "SalesID                          0\nSalePrice                        0\nMachineID                        0\nModelID                          0\ndatasource                       0\nauctioneerID                 20136\nYearMade                         0\nMachineHoursCurrentMeter    265194\nUsageBand                   339028\nsaledate                         0\nfiModelDesc                      0\nfiBaseModel                      0\nfiSecondaryDesc             140727\nfiModelSeries               354031\nfiModelDescriptor           337882\nProductSize                 216605\nfiProductClassDesc               0\nstate                            0\nProductGroup                     0\nProductGroupDesc                 0\nDrive_System                305611\nEnclosure                      334\nForks                       214983\nPad_Type                    331602\nRide_Control                259970\nStick                       331602\nTransmission                224691\nTurbocharged                331602\nBlade_Extension             386715\nBlade_Width                 386715\nEnclosure_Type              386715\nEngine_Horsepower           386715\nHydraulics                   82565\nPushblock                   386715\nRipper                      305753\nScarifier                   386704\nTip_Control                 386715\nTire_Size                   315060\nCoupler                     192019\nCoupler_System              367724\nGrouser_Tracks              367823\nHydraulics_Flow             367823\nTrack_Type                  310505\nUndercarriage_Pad_Width     309782\nStick_Length                310437\nThumb                       310366\nPattern_Changer             310437\nGrouser_Type                310505\nBackhoe_Mounting            331986\nBlade_Type                  330823\nTravel_Controls             330821\nDifferential_Type           341134\nSteering_Controls           341176\ndtype: int64"
     },
     "execution_count": 42,
     "metadata": {},
     "output_type": "execute_result"
    }
   ],
   "source": [
    "df.isna().sum()"
   ],
   "metadata": {
    "collapsed": false,
    "pycharm": {
     "name": "#%%\n"
    }
   }
  },
  {
   "cell_type": "code",
   "execution_count": 43,
   "outputs": [
    {
     "name": "stdout",
     "output_type": "stream",
     "text": [
      "<class 'pandas.core.frame.DataFrame'>\n",
      "Int64Index: 412698 entries, 205615 to 409203\n",
      "Data columns (total 57 columns):\n",
      " #   Column                    Non-Null Count   Dtype  \n",
      "---  ------                    --------------   -----  \n",
      " 0   SalesID                   412698 non-null  int64  \n",
      " 1   SalePrice                 412698 non-null  float64\n",
      " 2   MachineID                 412698 non-null  int64  \n",
      " 3   ModelID                   412698 non-null  int64  \n",
      " 4   datasource                412698 non-null  int64  \n",
      " 5   auctioneerID              392562 non-null  float64\n",
      " 6   YearMade                  412698 non-null  int64  \n",
      " 7   MachineHoursCurrentMeter  147504 non-null  float64\n",
      " 8   UsageBand                 73670 non-null   object \n",
      " 9   fiModelDesc               412698 non-null  object \n",
      " 10  fiBaseModel               412698 non-null  object \n",
      " 11  fiSecondaryDesc           271971 non-null  object \n",
      " 12  fiModelSeries             58667 non-null   object \n",
      " 13  fiModelDescriptor         74816 non-null   object \n",
      " 14  ProductSize               196093 non-null  object \n",
      " 15  fiProductClassDesc        412698 non-null  object \n",
      " 16  state                     412698 non-null  object \n",
      " 17  ProductGroup              412698 non-null  object \n",
      " 18  ProductGroupDesc          412698 non-null  object \n",
      " 19  Drive_System              107087 non-null  object \n",
      " 20  Enclosure                 412364 non-null  object \n",
      " 21  Forks                     197715 non-null  object \n",
      " 22  Pad_Type                  81096 non-null   object \n",
      " 23  Ride_Control              152728 non-null  object \n",
      " 24  Stick                     81096 non-null   object \n",
      " 25  Transmission              188007 non-null  object \n",
      " 26  Turbocharged              81096 non-null   object \n",
      " 27  Blade_Extension           25983 non-null   object \n",
      " 28  Blade_Width               25983 non-null   object \n",
      " 29  Enclosure_Type            25983 non-null   object \n",
      " 30  Engine_Horsepower         25983 non-null   object \n",
      " 31  Hydraulics                330133 non-null  object \n",
      " 32  Pushblock                 25983 non-null   object \n",
      " 33  Ripper                    106945 non-null  object \n",
      " 34  Scarifier                 25994 non-null   object \n",
      " 35  Tip_Control               25983 non-null   object \n",
      " 36  Tire_Size                 97638 non-null   object \n",
      " 37  Coupler                   220679 non-null  object \n",
      " 38  Coupler_System            44974 non-null   object \n",
      " 39  Grouser_Tracks            44875 non-null   object \n",
      " 40  Hydraulics_Flow           44875 non-null   object \n",
      " 41  Track_Type                102193 non-null  object \n",
      " 42  Undercarriage_Pad_Width   102916 non-null  object \n",
      " 43  Stick_Length              102261 non-null  object \n",
      " 44  Thumb                     102332 non-null  object \n",
      " 45  Pattern_Changer           102261 non-null  object \n",
      " 46  Grouser_Type              102193 non-null  object \n",
      " 47  Backhoe_Mounting          80712 non-null   object \n",
      " 48  Blade_Type                81875 non-null   object \n",
      " 49  Travel_Controls           81877 non-null   object \n",
      " 50  Differential_Type         71564 non-null   object \n",
      " 51  Steering_Controls         71522 non-null   object \n",
      " 52  saleYear                  412698 non-null  int64  \n",
      " 53  saleMonth                 412698 non-null  int64  \n",
      " 54  saleDay                   412698 non-null  int64  \n",
      " 55  saleDayOfWeek             412698 non-null  int64  \n",
      " 56  saleDayOfYear             412698 non-null  int64  \n",
      "dtypes: float64(3), int64(10), object(44)\n",
      "memory usage: 182.6+ MB\n"
     ]
    }
   ],
   "source": [
    "df_temp.info()"
   ],
   "metadata": {
    "collapsed": false,
    "pycharm": {
     "name": "#%%\n"
    }
   }
  },
  {
   "cell_type": "markdown",
   "source": [
    "### Converting string to categories\n",
    "\n",
    "One wat we can turn all of our data into numbers is by converting them into pandas categories."
   ],
   "metadata": {
    "collapsed": false,
    "pycharm": {
     "name": "#%% md\n"
    }
   }
  },
  {
   "cell_type": "code",
   "execution_count": 44,
   "outputs": [
    {
     "data": {
      "text/plain": "True"
     },
     "execution_count": 44,
     "metadata": {},
     "output_type": "execute_result"
    }
   ],
   "source": [
    "pd.api.types.is_string_dtype(df_temp[\"UsageBand\"])"
   ],
   "metadata": {
    "collapsed": false,
    "pycharm": {
     "name": "#%%\n"
    }
   }
  },
  {
   "cell_type": "code",
   "execution_count": 45,
   "outputs": [
    {
     "name": "stdout",
     "output_type": "stream",
     "text": [
      "UsageBand\n",
      "fiModelDesc\n",
      "fiBaseModel\n",
      "fiSecondaryDesc\n",
      "fiModelSeries\n",
      "fiModelDescriptor\n",
      "ProductSize\n",
      "fiProductClassDesc\n",
      "state\n",
      "ProductGroup\n",
      "ProductGroupDesc\n",
      "Drive_System\n",
      "Enclosure\n",
      "Forks\n",
      "Pad_Type\n",
      "Ride_Control\n",
      "Stick\n",
      "Transmission\n",
      "Turbocharged\n",
      "Blade_Extension\n",
      "Blade_Width\n",
      "Enclosure_Type\n",
      "Engine_Horsepower\n",
      "Hydraulics\n",
      "Pushblock\n",
      "Ripper\n",
      "Scarifier\n",
      "Tip_Control\n",
      "Tire_Size\n",
      "Coupler\n",
      "Coupler_System\n",
      "Grouser_Tracks\n",
      "Hydraulics_Flow\n",
      "Track_Type\n",
      "Undercarriage_Pad_Width\n",
      "Stick_Length\n",
      "Thumb\n",
      "Pattern_Changer\n",
      "Grouser_Type\n",
      "Backhoe_Mounting\n",
      "Blade_Type\n",
      "Travel_Controls\n",
      "Differential_Type\n",
      "Steering_Controls\n"
     ]
    }
   ],
   "source": [
    "# Find the columns which contain strings\n",
    "\n",
    "for label,content, in df_temp.items():\n",
    "    if pd.api.types.is_string_dtype(content):\n",
    "        print(label)"
   ],
   "metadata": {
    "collapsed": false,
    "pycharm": {
     "name": "#%%\n"
    }
   }
  },
  {
   "cell_type": "code",
   "execution_count": 46,
   "outputs": [],
   "source": [
    "for label, content in df_temp.items():\n",
    "    if pd.api.types.is_string_dtype(content):\n",
    "        df_temp[label] = content.astype(\"category\").cat.as_ordered()"
   ],
   "metadata": {
    "collapsed": false,
    "pycharm": {
     "name": "#%%\n"
    }
   }
  },
  {
   "cell_type": "code",
   "execution_count": 48,
   "outputs": [
    {
     "name": "stdout",
     "output_type": "stream",
     "text": [
      "<class 'pandas.core.frame.DataFrame'>\n",
      "Int64Index: 412698 entries, 205615 to 409203\n",
      "Data columns (total 57 columns):\n",
      " #   Column                    Non-Null Count   Dtype   \n",
      "---  ------                    --------------   -----   \n",
      " 0   SalesID                   412698 non-null  int64   \n",
      " 1   SalePrice                 412698 non-null  float64 \n",
      " 2   MachineID                 412698 non-null  int64   \n",
      " 3   ModelID                   412698 non-null  int64   \n",
      " 4   datasource                412698 non-null  int64   \n",
      " 5   auctioneerID              392562 non-null  float64 \n",
      " 6   YearMade                  412698 non-null  int64   \n",
      " 7   MachineHoursCurrentMeter  147504 non-null  float64 \n",
      " 8   UsageBand                 73670 non-null   category\n",
      " 9   fiModelDesc               412698 non-null  category\n",
      " 10  fiBaseModel               412698 non-null  category\n",
      " 11  fiSecondaryDesc           271971 non-null  category\n",
      " 12  fiModelSeries             58667 non-null   category\n",
      " 13  fiModelDescriptor         74816 non-null   category\n",
      " 14  ProductSize               196093 non-null  category\n",
      " 15  fiProductClassDesc        412698 non-null  category\n",
      " 16  state                     412698 non-null  category\n",
      " 17  ProductGroup              412698 non-null  category\n",
      " 18  ProductGroupDesc          412698 non-null  category\n",
      " 19  Drive_System              107087 non-null  category\n",
      " 20  Enclosure                 412364 non-null  category\n",
      " 21  Forks                     197715 non-null  category\n",
      " 22  Pad_Type                  81096 non-null   category\n",
      " 23  Ride_Control              152728 non-null  category\n",
      " 24  Stick                     81096 non-null   category\n",
      " 25  Transmission              188007 non-null  category\n",
      " 26  Turbocharged              81096 non-null   category\n",
      " 27  Blade_Extension           25983 non-null   category\n",
      " 28  Blade_Width               25983 non-null   category\n",
      " 29  Enclosure_Type            25983 non-null   category\n",
      " 30  Engine_Horsepower         25983 non-null   category\n",
      " 31  Hydraulics                330133 non-null  category\n",
      " 32  Pushblock                 25983 non-null   category\n",
      " 33  Ripper                    106945 non-null  category\n",
      " 34  Scarifier                 25994 non-null   category\n",
      " 35  Tip_Control               25983 non-null   category\n",
      " 36  Tire_Size                 97638 non-null   category\n",
      " 37  Coupler                   220679 non-null  category\n",
      " 38  Coupler_System            44974 non-null   category\n",
      " 39  Grouser_Tracks            44875 non-null   category\n",
      " 40  Hydraulics_Flow           44875 non-null   category\n",
      " 41  Track_Type                102193 non-null  category\n",
      " 42  Undercarriage_Pad_Width   102916 non-null  category\n",
      " 43  Stick_Length              102261 non-null  category\n",
      " 44  Thumb                     102332 non-null  category\n",
      " 45  Pattern_Changer           102261 non-null  category\n",
      " 46  Grouser_Type              102193 non-null  category\n",
      " 47  Backhoe_Mounting          80712 non-null   category\n",
      " 48  Blade_Type                81875 non-null   category\n",
      " 49  Travel_Controls           81877 non-null   category\n",
      " 50  Differential_Type         71564 non-null   category\n",
      " 51  Steering_Controls         71522 non-null   category\n",
      " 52  saleYear                  412698 non-null  int64   \n",
      " 53  saleMonth                 412698 non-null  int64   \n",
      " 54  saleDay                   412698 non-null  int64   \n",
      " 55  saleDayOfWeek             412698 non-null  int64   \n",
      " 56  saleDayOfYear             412698 non-null  int64   \n",
      "dtypes: category(44), float64(3), int64(10)\n",
      "memory usage: 63.2 MB\n"
     ]
    }
   ],
   "source": [
    "df_temp.info()"
   ],
   "metadata": {
    "collapsed": false,
    "pycharm": {
     "name": "#%%\n"
    }
   }
  },
  {
   "cell_type": "code",
   "execution_count": 49,
   "outputs": [
    {
     "data": {
      "text/plain": "Index(['Alabama', 'Alaska', 'Arizona', 'Arkansas', 'California', 'Colorado',\n       'Connecticut', 'Delaware', 'Florida', 'Georgia', 'Hawaii', 'Idaho',\n       'Illinois', 'Indiana', 'Iowa', 'Kansas', 'Kentucky', 'Louisiana',\n       'Maine', 'Maryland', 'Massachusetts', 'Michigan', 'Minnesota',\n       'Mississippi', 'Missouri', 'Montana', 'Nebraska', 'Nevada',\n       'New Hampshire', 'New Jersey', 'New Mexico', 'New York',\n       'North Carolina', 'North Dakota', 'Ohio', 'Oklahoma', 'Oregon',\n       'Pennsylvania', 'Puerto Rico', 'Rhode Island', 'South Carolina',\n       'South Dakota', 'Tennessee', 'Texas', 'Unspecified', 'Utah', 'Vermont',\n       'Virginia', 'Washington', 'Washington DC', 'West Virginia', 'Wisconsin',\n       'Wyoming'],\n      dtype='object')"
     },
     "execution_count": 49,
     "metadata": {},
     "output_type": "execute_result"
    }
   ],
   "source": [
    "df_temp.state.cat.categories"
   ],
   "metadata": {
    "collapsed": false,
    "pycharm": {
     "name": "#%%\n"
    }
   }
  },
  {
   "cell_type": "code",
   "execution_count": 51,
   "outputs": [
    {
     "data": {
      "text/plain": "Florida           67320\nTexas             53110\nCalifornia        29761\nWashington        16222\nGeorgia           14633\nMaryland          13322\nMississippi       13240\nOhio              12369\nIllinois          11540\nColorado          11529\nNew Jersey        11156\nNorth Carolina    10636\nTennessee         10298\nAlabama           10292\nPennsylvania      10234\nSouth Carolina     9951\nArizona            9364\nNew York           8639\nConnecticut        8276\nMinnesota          7885\nMissouri           7178\nNevada             6932\nLouisiana          6627\nKentucky           5351\nMaine              5096\nIndiana            4124\nArkansas           3933\nNew Mexico         3631\nUtah               3046\nUnspecified        2801\nWisconsin          2745\nNew Hampshire      2738\nVirginia           2353\nIdaho              2025\nOregon             1911\nMichigan           1831\nWyoming            1672\nMontana            1336\nIowa               1336\nOklahoma           1326\nNebraska            866\nWest Virginia       840\nKansas              667\nDelaware            510\nNorth Dakota        480\nAlaska              430\nMassachusetts       347\nVermont             300\nSouth Dakota        244\nHawaii              118\nRhode Island         83\nPuerto Rico          42\nWashington DC         2\nName: state, dtype: int64"
     },
     "execution_count": 51,
     "metadata": {},
     "output_type": "execute_result"
    }
   ],
   "source": [
    "df_temp.state.value_counts()"
   ],
   "metadata": {
    "collapsed": false,
    "pycharm": {
     "name": "#%%\n"
    }
   }
  },
  {
   "cell_type": "code",
   "execution_count": 52,
   "outputs": [
    {
     "data": {
      "text/plain": "205615    43\n274835     8\n141296     8\n212552     8\n62755      8\n          ..\n410879     4\n412476     4\n411927     4\n407124     4\n409203     4\nLength: 412698, dtype: int8"
     },
     "execution_count": 52,
     "metadata": {},
     "output_type": "execute_result"
    }
   ],
   "source": [
    "df_temp.state.cat.codes"
   ],
   "metadata": {
    "collapsed": false,
    "pycharm": {
     "name": "#%%\n"
    }
   }
  },
  {
   "cell_type": "markdown",
   "source": [
    "Thanks to pandas Categories we now have a way to access all of our data in the form of numbers.\n",
    "\n",
    "But we still have a bunch of missing data...\n"
   ],
   "metadata": {
    "collapsed": false,
    "pycharm": {
     "name": "#%% md\n"
    }
   }
  },
  {
   "cell_type": "code",
   "execution_count": 55,
   "outputs": [
    {
     "data": {
      "text/plain": "SalesID                     0.000000\nSalePrice                   0.000000\nMachineID                   0.000000\nModelID                     0.000000\ndatasource                  0.000000\nauctioneerID                0.048791\nYearMade                    0.000000\nMachineHoursCurrentMeter    0.642586\nUsageBand                   0.821492\nfiModelDesc                 0.000000\nfiBaseModel                 0.000000\nfiSecondaryDesc             0.340993\nfiModelSeries               0.857845\nfiModelDescriptor           0.818715\nProductSize                 0.524851\nfiProductClassDesc          0.000000\nstate                       0.000000\nProductGroup                0.000000\nProductGroupDesc            0.000000\nDrive_System                0.740520\nEnclosure                   0.000809\nForks                       0.520921\nPad_Type                    0.803498\nRide_Control                0.629928\nStick                       0.803498\nTransmission                0.544444\nTurbocharged                0.803498\nBlade_Extension             0.937041\nBlade_Width                 0.937041\nEnclosure_Type              0.937041\nEngine_Horsepower           0.937041\nHydraulics                  0.200062\nPushblock                   0.937041\nRipper                      0.740864\nScarifier                   0.937014\nTip_Control                 0.937041\nTire_Size                   0.763415\nCoupler                     0.465277\nCoupler_System              0.891024\nGrouser_Tracks              0.891264\nHydraulics_Flow             0.891264\nTrack_Type                  0.752378\nUndercarriage_Pad_Width     0.750626\nStick_Length                0.752213\nThumb                       0.752041\nPattern_Changer             0.752213\nGrouser_Type                0.752378\nBackhoe_Mounting            0.804428\nBlade_Type                  0.801610\nTravel_Controls             0.801606\nDifferential_Type           0.826595\nSteering_Controls           0.826697\nsaleYear                    0.000000\nsaleMonth                   0.000000\nsaleDay                     0.000000\nsaleDayOfWeek               0.000000\nsaleDayOfYear               0.000000\ndtype: float64"
     },
     "execution_count": 55,
     "metadata": {},
     "output_type": "execute_result"
    }
   ],
   "source": [
    "# Check missing data\n",
    "df_temp.isnull().sum()/len(df_temp)"
   ],
   "metadata": {
    "collapsed": false,
    "pycharm": {
     "name": "#%%\n"
    }
   }
  },
  {
   "cell_type": "markdown",
   "source": [
    "### Save preproccessed data"
   ],
   "metadata": {
    "collapsed": false,
    "pycharm": {
     "name": "#%% md\n"
    }
   }
  },
  {
   "cell_type": "code",
   "execution_count": 56,
   "outputs": [],
   "source": [
    "# Export current tmp dataframe\n",
    "\n",
    "df_temp.to_csv(\"data/bluebook-for-bulldozers/train_tmp_alper.csv\", index=False)"
   ],
   "metadata": {
    "collapsed": false,
    "pycharm": {
     "name": "#%%\n"
    }
   }
  },
  {
   "cell_type": "code",
   "execution_count": 59,
   "outputs": [
    {
     "data": {
      "text/plain": "                                                                          0  \\\nSalesID                                                             1646770   \nSalePrice                                                            9500.0   \nMachineID                                                           1126363   \nModelID                                                                8434   \ndatasource                                                              132   \nauctioneerID                                                           18.0   \nYearMade                                                               1974   \nMachineHoursCurrentMeter                                                NaN   \nUsageBand                                                               NaN   \nfiModelDesc                                                            TD20   \nfiBaseModel                                                            TD20   \nfiSecondaryDesc                                                         NaN   \nfiModelSeries                                                           NaN   \nfiModelDescriptor                                                       NaN   \nProductSize                                                          Medium   \nfiProductClassDesc        Track Type Tractor, Dozer - 105.0 to 130.0 Hor...   \nstate                                                                 Texas   \nProductGroup                                                            TTT   \nProductGroupDesc                                        Track Type Tractors   \nDrive_System                                                            NaN   \nEnclosure                                                             OROPS   \nForks                                                                   NaN   \nPad_Type                                                                NaN   \nRide_Control                                                            NaN   \nStick                                                                   NaN   \nTransmission                                                   Direct Drive   \nTurbocharged                                                            NaN   \nBlade_Extension                                                         NaN   \nBlade_Width                                                             NaN   \nEnclosure_Type                                                          NaN   \nEngine_Horsepower                                                       NaN   \nHydraulics                                                          2 Valve   \nPushblock                                                               NaN   \nRipper                                                  None or Unspecified   \nScarifier                                                               NaN   \nTip_Control                                                             NaN   \nTire_Size                                                               NaN   \nCoupler                                                                 NaN   \nCoupler_System                                                          NaN   \nGrouser_Tracks                                                          NaN   \nHydraulics_Flow                                                         NaN   \nTrack_Type                                                              NaN   \nUndercarriage_Pad_Width                                                 NaN   \nStick_Length                                                            NaN   \nThumb                                                                   NaN   \nPattern_Changer                                                         NaN   \nGrouser_Type                                                            NaN   \nBackhoe_Mounting                                        None or Unspecified   \nBlade_Type                                                         Straight   \nTravel_Controls                                         None or Unspecified   \nDifferential_Type                                                       NaN   \nSteering_Controls                                                       NaN   \nsaleYear                                                               1989   \nsaleMonth                                                                 1   \nsaleDay                                                                  17   \nsaleDayOfWeek                                                             1   \nsaleDayOfYear                                                            17   \n\n                                                                 1  \\\nSalesID                                                    1821514   \nSalePrice                                                  14000.0   \nMachineID                                                  1194089   \nModelID                                                      10150   \ndatasource                                                     132   \nauctioneerID                                                  99.0   \nYearMade                                                      1980   \nMachineHoursCurrentMeter                                       NaN   \nUsageBand                                                      NaN   \nfiModelDesc                                                    A66   \nfiBaseModel                                                    A66   \nfiSecondaryDesc                                                NaN   \nfiModelSeries                                                  NaN   \nfiModelDescriptor                                              NaN   \nProductSize                                                    NaN   \nfiProductClassDesc        Wheel Loader - 120.0 to 135.0 Horsepower   \nstate                                                      Florida   \nProductGroup                                                    WL   \nProductGroupDesc                                      Wheel Loader   \nDrive_System                                                   NaN   \nEnclosure                                                    OROPS   \nForks                                          None or Unspecified   \nPad_Type                                                       NaN   \nRide_Control                                   None or Unspecified   \nStick                                                          NaN   \nTransmission                                                   NaN   \nTurbocharged                                                   NaN   \nBlade_Extension                                                NaN   \nBlade_Width                                                    NaN   \nEnclosure_Type                                                 NaN   \nEngine_Horsepower                                              NaN   \nHydraulics                                                 2 Valve   \nPushblock                                                      NaN   \nRipper                                                         NaN   \nScarifier                                                      NaN   \nTip_Control                                                    NaN   \nTire_Size                                      None or Unspecified   \nCoupler                                        None or Unspecified   \nCoupler_System                                                 NaN   \nGrouser_Tracks                                                 NaN   \nHydraulics_Flow                                                NaN   \nTrack_Type                                                     NaN   \nUndercarriage_Pad_Width                                        NaN   \nStick_Length                                                   NaN   \nThumb                                                          NaN   \nPattern_Changer                                                NaN   \nGrouser_Type                                                   NaN   \nBackhoe_Mounting                                               NaN   \nBlade_Type                                                     NaN   \nTravel_Controls                                                NaN   \nDifferential_Type                                         Standard   \nSteering_Controls                                     Conventional   \nsaleYear                                                      1989   \nsaleMonth                                                        1   \nsaleDay                                                         31   \nsaleDayOfWeek                                                    1   \nsaleDayOfYear                                                   31   \n\n                                                                          2  \\\nSalesID                                                             1505138   \nSalePrice                                                           50000.0   \nMachineID                                                           1473654   \nModelID                                                                4139   \ndatasource                                                              132   \nauctioneerID                                                           99.0   \nYearMade                                                               1978   \nMachineHoursCurrentMeter                                                NaN   \nUsageBand                                                               NaN   \nfiModelDesc                                                             D7G   \nfiBaseModel                                                              D7   \nfiSecondaryDesc                                                           G   \nfiModelSeries                                                           NaN   \nfiModelDescriptor                                                       NaN   \nProductSize                                                           Large   \nfiProductClassDesc        Track Type Tractor, Dozer - 190.0 to 260.0 Hor...   \nstate                                                               Florida   \nProductGroup                                                            TTT   \nProductGroupDesc                                        Track Type Tractors   \nDrive_System                                                            NaN   \nEnclosure                                                             OROPS   \nForks                                                                   NaN   \nPad_Type                                                                NaN   \nRide_Control                                                            NaN   \nStick                                                                   NaN   \nTransmission                                                       Standard   \nTurbocharged                                                            NaN   \nBlade_Extension                                                         NaN   \nBlade_Width                                                             NaN   \nEnclosure_Type                                                          NaN   \nEngine_Horsepower                                                       NaN   \nHydraulics                                                          2 Valve   \nPushblock                                                               NaN   \nRipper                                                  None or Unspecified   \nScarifier                                                               NaN   \nTip_Control                                                             NaN   \nTire_Size                                                               NaN   \nCoupler                                                                 NaN   \nCoupler_System                                                          NaN   \nGrouser_Tracks                                                          NaN   \nHydraulics_Flow                                                         NaN   \nTrack_Type                                                              NaN   \nUndercarriage_Pad_Width                                                 NaN   \nStick_Length                                                            NaN   \nThumb                                                                   NaN   \nPattern_Changer                                                         NaN   \nGrouser_Type                                                            NaN   \nBackhoe_Mounting                                        None or Unspecified   \nBlade_Type                                                         Straight   \nTravel_Controls                                         None or Unspecified   \nDifferential_Type                                                       NaN   \nSteering_Controls                                                       NaN   \nsaleYear                                                               1989   \nsaleMonth                                                                 1   \nsaleDay                                                                  31   \nsaleDayOfWeek                                                             1   \nsaleDayOfYear                                                            31   \n\n                                                    3  \\\nSalesID                                       1671174   \nSalePrice                                     16000.0   \nMachineID                                     1327630   \nModelID                                          8591   \ndatasource                                        132   \nauctioneerID                                     99.0   \nYearMade                                         1980   \nMachineHoursCurrentMeter                          NaN   \nUsageBand                                         NaN   \nfiModelDesc                                       A62   \nfiBaseModel                                       A62   \nfiSecondaryDesc                                   NaN   \nfiModelSeries                                     NaN   \nfiModelDescriptor                                 NaN   \nProductSize                                       NaN   \nfiProductClassDesc        Wheel Loader - Unidentified   \nstate                                         Florida   \nProductGroup                                       WL   \nProductGroupDesc                         Wheel Loader   \nDrive_System                                      NaN   \nEnclosure                                       EROPS   \nForks                             None or Unspecified   \nPad_Type                                          NaN   \nRide_Control                      None or Unspecified   \nStick                                             NaN   \nTransmission                                      NaN   \nTurbocharged                                      NaN   \nBlade_Extension                                   NaN   \nBlade_Width                                       NaN   \nEnclosure_Type                                    NaN   \nEngine_Horsepower                                 NaN   \nHydraulics                                    2 Valve   \nPushblock                                         NaN   \nRipper                                            NaN   \nScarifier                                         NaN   \nTip_Control                                       NaN   \nTire_Size                         None or Unspecified   \nCoupler                           None or Unspecified   \nCoupler_System                                    NaN   \nGrouser_Tracks                                    NaN   \nHydraulics_Flow                                   NaN   \nTrack_Type                                        NaN   \nUndercarriage_Pad_Width                           NaN   \nStick_Length                                      NaN   \nThumb                                             NaN   \nPattern_Changer                                   NaN   \nGrouser_Type                                      NaN   \nBackhoe_Mounting                                  NaN   \nBlade_Type                                        NaN   \nTravel_Controls                                   NaN   \nDifferential_Type                            Standard   \nSteering_Controls                        Conventional   \nsaleYear                                         1989   \nsaleMonth                                           1   \nsaleDay                                            31   \nsaleDayOfWeek                                       1   \nsaleDayOfYear                                      31   \n\n                                                                          4  \nSalesID                                                             1329056  \nSalePrice                                                           22000.0  \nMachineID                                                           1336053  \nModelID                                                                4089  \ndatasource                                                              132  \nauctioneerID                                                           99.0  \nYearMade                                                               1984  \nMachineHoursCurrentMeter                                                NaN  \nUsageBand                                                               NaN  \nfiModelDesc                                                             D3B  \nfiBaseModel                                                              D3  \nfiSecondaryDesc                                                           B  \nfiModelSeries                                                           NaN  \nfiModelDescriptor                                                       NaN  \nProductSize                                                             NaN  \nfiProductClassDesc        Track Type Tractor, Dozer - 20.0 to 75.0 Horse...  \nstate                                                               Florida  \nProductGroup                                                            TTT  \nProductGroupDesc                                        Track Type Tractors  \nDrive_System                                                            NaN  \nEnclosure                                                             OROPS  \nForks                                                                   NaN  \nPad_Type                                                                NaN  \nRide_Control                                                            NaN  \nStick                                                                   NaN  \nTransmission                                                       Standard  \nTurbocharged                                                            NaN  \nBlade_Extension                                                         NaN  \nBlade_Width                                                             NaN  \nEnclosure_Type                                                          NaN  \nEngine_Horsepower                                                       NaN  \nHydraulics                                                          2 Valve  \nPushblock                                                               NaN  \nRipper                                                  None or Unspecified  \nScarifier                                                               NaN  \nTip_Control                                                             NaN  \nTire_Size                                                               NaN  \nCoupler                                                                 NaN  \nCoupler_System                                                          NaN  \nGrouser_Tracks                                                          NaN  \nHydraulics_Flow                                                         NaN  \nTrack_Type                                                              NaN  \nUndercarriage_Pad_Width                                                 NaN  \nStick_Length                                                            NaN  \nThumb                                                                   NaN  \nPattern_Changer                                                         NaN  \nGrouser_Type                                                            NaN  \nBackhoe_Mounting                                        None or Unspecified  \nBlade_Type                                                              PAT  \nTravel_Controls                                                       Lever  \nDifferential_Type                                                       NaN  \nSteering_Controls                                                       NaN  \nsaleYear                                                               1989  \nsaleMonth                                                                 1  \nsaleDay                                                                  31  \nsaleDayOfWeek                                                             1  \nsaleDayOfYear                                                            31  ",
      "text/html": "<div>\n<style scoped>\n    .dataframe tbody tr th:only-of-type {\n        vertical-align: middle;\n    }\n\n    .dataframe tbody tr th {\n        vertical-align: top;\n    }\n\n    .dataframe thead th {\n        text-align: right;\n    }\n</style>\n<table border=\"1\" class=\"dataframe\">\n  <thead>\n    <tr style=\"text-align: right;\">\n      <th></th>\n      <th>0</th>\n      <th>1</th>\n      <th>2</th>\n      <th>3</th>\n      <th>4</th>\n    </tr>\n  </thead>\n  <tbody>\n    <tr>\n      <th>SalesID</th>\n      <td>1646770</td>\n      <td>1821514</td>\n      <td>1505138</td>\n      <td>1671174</td>\n      <td>1329056</td>\n    </tr>\n    <tr>\n      <th>SalePrice</th>\n      <td>9500.0</td>\n      <td>14000.0</td>\n      <td>50000.0</td>\n      <td>16000.0</td>\n      <td>22000.0</td>\n    </tr>\n    <tr>\n      <th>MachineID</th>\n      <td>1126363</td>\n      <td>1194089</td>\n      <td>1473654</td>\n      <td>1327630</td>\n      <td>1336053</td>\n    </tr>\n    <tr>\n      <th>ModelID</th>\n      <td>8434</td>\n      <td>10150</td>\n      <td>4139</td>\n      <td>8591</td>\n      <td>4089</td>\n    </tr>\n    <tr>\n      <th>datasource</th>\n      <td>132</td>\n      <td>132</td>\n      <td>132</td>\n      <td>132</td>\n      <td>132</td>\n    </tr>\n    <tr>\n      <th>auctioneerID</th>\n      <td>18.0</td>\n      <td>99.0</td>\n      <td>99.0</td>\n      <td>99.0</td>\n      <td>99.0</td>\n    </tr>\n    <tr>\n      <th>YearMade</th>\n      <td>1974</td>\n      <td>1980</td>\n      <td>1978</td>\n      <td>1980</td>\n      <td>1984</td>\n    </tr>\n    <tr>\n      <th>MachineHoursCurrentMeter</th>\n      <td>NaN</td>\n      <td>NaN</td>\n      <td>NaN</td>\n      <td>NaN</td>\n      <td>NaN</td>\n    </tr>\n    <tr>\n      <th>UsageBand</th>\n      <td>NaN</td>\n      <td>NaN</td>\n      <td>NaN</td>\n      <td>NaN</td>\n      <td>NaN</td>\n    </tr>\n    <tr>\n      <th>fiModelDesc</th>\n      <td>TD20</td>\n      <td>A66</td>\n      <td>D7G</td>\n      <td>A62</td>\n      <td>D3B</td>\n    </tr>\n    <tr>\n      <th>fiBaseModel</th>\n      <td>TD20</td>\n      <td>A66</td>\n      <td>D7</td>\n      <td>A62</td>\n      <td>D3</td>\n    </tr>\n    <tr>\n      <th>fiSecondaryDesc</th>\n      <td>NaN</td>\n      <td>NaN</td>\n      <td>G</td>\n      <td>NaN</td>\n      <td>B</td>\n    </tr>\n    <tr>\n      <th>fiModelSeries</th>\n      <td>NaN</td>\n      <td>NaN</td>\n      <td>NaN</td>\n      <td>NaN</td>\n      <td>NaN</td>\n    </tr>\n    <tr>\n      <th>fiModelDescriptor</th>\n      <td>NaN</td>\n      <td>NaN</td>\n      <td>NaN</td>\n      <td>NaN</td>\n      <td>NaN</td>\n    </tr>\n    <tr>\n      <th>ProductSize</th>\n      <td>Medium</td>\n      <td>NaN</td>\n      <td>Large</td>\n      <td>NaN</td>\n      <td>NaN</td>\n    </tr>\n    <tr>\n      <th>fiProductClassDesc</th>\n      <td>Track Type Tractor, Dozer - 105.0 to 130.0 Hor...</td>\n      <td>Wheel Loader - 120.0 to 135.0 Horsepower</td>\n      <td>Track Type Tractor, Dozer - 190.0 to 260.0 Hor...</td>\n      <td>Wheel Loader - Unidentified</td>\n      <td>Track Type Tractor, Dozer - 20.0 to 75.0 Horse...</td>\n    </tr>\n    <tr>\n      <th>state</th>\n      <td>Texas</td>\n      <td>Florida</td>\n      <td>Florida</td>\n      <td>Florida</td>\n      <td>Florida</td>\n    </tr>\n    <tr>\n      <th>ProductGroup</th>\n      <td>TTT</td>\n      <td>WL</td>\n      <td>TTT</td>\n      <td>WL</td>\n      <td>TTT</td>\n    </tr>\n    <tr>\n      <th>ProductGroupDesc</th>\n      <td>Track Type Tractors</td>\n      <td>Wheel Loader</td>\n      <td>Track Type Tractors</td>\n      <td>Wheel Loader</td>\n      <td>Track Type Tractors</td>\n    </tr>\n    <tr>\n      <th>Drive_System</th>\n      <td>NaN</td>\n      <td>NaN</td>\n      <td>NaN</td>\n      <td>NaN</td>\n      <td>NaN</td>\n    </tr>\n    <tr>\n      <th>Enclosure</th>\n      <td>OROPS</td>\n      <td>OROPS</td>\n      <td>OROPS</td>\n      <td>EROPS</td>\n      <td>OROPS</td>\n    </tr>\n    <tr>\n      <th>Forks</th>\n      <td>NaN</td>\n      <td>None or Unspecified</td>\n      <td>NaN</td>\n      <td>None or Unspecified</td>\n      <td>NaN</td>\n    </tr>\n    <tr>\n      <th>Pad_Type</th>\n      <td>NaN</td>\n      <td>NaN</td>\n      <td>NaN</td>\n      <td>NaN</td>\n      <td>NaN</td>\n    </tr>\n    <tr>\n      <th>Ride_Control</th>\n      <td>NaN</td>\n      <td>None or Unspecified</td>\n      <td>NaN</td>\n      <td>None or Unspecified</td>\n      <td>NaN</td>\n    </tr>\n    <tr>\n      <th>Stick</th>\n      <td>NaN</td>\n      <td>NaN</td>\n      <td>NaN</td>\n      <td>NaN</td>\n      <td>NaN</td>\n    </tr>\n    <tr>\n      <th>Transmission</th>\n      <td>Direct Drive</td>\n      <td>NaN</td>\n      <td>Standard</td>\n      <td>NaN</td>\n      <td>Standard</td>\n    </tr>\n    <tr>\n      <th>Turbocharged</th>\n      <td>NaN</td>\n      <td>NaN</td>\n      <td>NaN</td>\n      <td>NaN</td>\n      <td>NaN</td>\n    </tr>\n    <tr>\n      <th>Blade_Extension</th>\n      <td>NaN</td>\n      <td>NaN</td>\n      <td>NaN</td>\n      <td>NaN</td>\n      <td>NaN</td>\n    </tr>\n    <tr>\n      <th>Blade_Width</th>\n      <td>NaN</td>\n      <td>NaN</td>\n      <td>NaN</td>\n      <td>NaN</td>\n      <td>NaN</td>\n    </tr>\n    <tr>\n      <th>Enclosure_Type</th>\n      <td>NaN</td>\n      <td>NaN</td>\n      <td>NaN</td>\n      <td>NaN</td>\n      <td>NaN</td>\n    </tr>\n    <tr>\n      <th>Engine_Horsepower</th>\n      <td>NaN</td>\n      <td>NaN</td>\n      <td>NaN</td>\n      <td>NaN</td>\n      <td>NaN</td>\n    </tr>\n    <tr>\n      <th>Hydraulics</th>\n      <td>2 Valve</td>\n      <td>2 Valve</td>\n      <td>2 Valve</td>\n      <td>2 Valve</td>\n      <td>2 Valve</td>\n    </tr>\n    <tr>\n      <th>Pushblock</th>\n      <td>NaN</td>\n      <td>NaN</td>\n      <td>NaN</td>\n      <td>NaN</td>\n      <td>NaN</td>\n    </tr>\n    <tr>\n      <th>Ripper</th>\n      <td>None or Unspecified</td>\n      <td>NaN</td>\n      <td>None or Unspecified</td>\n      <td>NaN</td>\n      <td>None or Unspecified</td>\n    </tr>\n    <tr>\n      <th>Scarifier</th>\n      <td>NaN</td>\n      <td>NaN</td>\n      <td>NaN</td>\n      <td>NaN</td>\n      <td>NaN</td>\n    </tr>\n    <tr>\n      <th>Tip_Control</th>\n      <td>NaN</td>\n      <td>NaN</td>\n      <td>NaN</td>\n      <td>NaN</td>\n      <td>NaN</td>\n    </tr>\n    <tr>\n      <th>Tire_Size</th>\n      <td>NaN</td>\n      <td>None or Unspecified</td>\n      <td>NaN</td>\n      <td>None or Unspecified</td>\n      <td>NaN</td>\n    </tr>\n    <tr>\n      <th>Coupler</th>\n      <td>NaN</td>\n      <td>None or Unspecified</td>\n      <td>NaN</td>\n      <td>None or Unspecified</td>\n      <td>NaN</td>\n    </tr>\n    <tr>\n      <th>Coupler_System</th>\n      <td>NaN</td>\n      <td>NaN</td>\n      <td>NaN</td>\n      <td>NaN</td>\n      <td>NaN</td>\n    </tr>\n    <tr>\n      <th>Grouser_Tracks</th>\n      <td>NaN</td>\n      <td>NaN</td>\n      <td>NaN</td>\n      <td>NaN</td>\n      <td>NaN</td>\n    </tr>\n    <tr>\n      <th>Hydraulics_Flow</th>\n      <td>NaN</td>\n      <td>NaN</td>\n      <td>NaN</td>\n      <td>NaN</td>\n      <td>NaN</td>\n    </tr>\n    <tr>\n      <th>Track_Type</th>\n      <td>NaN</td>\n      <td>NaN</td>\n      <td>NaN</td>\n      <td>NaN</td>\n      <td>NaN</td>\n    </tr>\n    <tr>\n      <th>Undercarriage_Pad_Width</th>\n      <td>NaN</td>\n      <td>NaN</td>\n      <td>NaN</td>\n      <td>NaN</td>\n      <td>NaN</td>\n    </tr>\n    <tr>\n      <th>Stick_Length</th>\n      <td>NaN</td>\n      <td>NaN</td>\n      <td>NaN</td>\n      <td>NaN</td>\n      <td>NaN</td>\n    </tr>\n    <tr>\n      <th>Thumb</th>\n      <td>NaN</td>\n      <td>NaN</td>\n      <td>NaN</td>\n      <td>NaN</td>\n      <td>NaN</td>\n    </tr>\n    <tr>\n      <th>Pattern_Changer</th>\n      <td>NaN</td>\n      <td>NaN</td>\n      <td>NaN</td>\n      <td>NaN</td>\n      <td>NaN</td>\n    </tr>\n    <tr>\n      <th>Grouser_Type</th>\n      <td>NaN</td>\n      <td>NaN</td>\n      <td>NaN</td>\n      <td>NaN</td>\n      <td>NaN</td>\n    </tr>\n    <tr>\n      <th>Backhoe_Mounting</th>\n      <td>None or Unspecified</td>\n      <td>NaN</td>\n      <td>None or Unspecified</td>\n      <td>NaN</td>\n      <td>None or Unspecified</td>\n    </tr>\n    <tr>\n      <th>Blade_Type</th>\n      <td>Straight</td>\n      <td>NaN</td>\n      <td>Straight</td>\n      <td>NaN</td>\n      <td>PAT</td>\n    </tr>\n    <tr>\n      <th>Travel_Controls</th>\n      <td>None or Unspecified</td>\n      <td>NaN</td>\n      <td>None or Unspecified</td>\n      <td>NaN</td>\n      <td>Lever</td>\n    </tr>\n    <tr>\n      <th>Differential_Type</th>\n      <td>NaN</td>\n      <td>Standard</td>\n      <td>NaN</td>\n      <td>Standard</td>\n      <td>NaN</td>\n    </tr>\n    <tr>\n      <th>Steering_Controls</th>\n      <td>NaN</td>\n      <td>Conventional</td>\n      <td>NaN</td>\n      <td>Conventional</td>\n      <td>NaN</td>\n    </tr>\n    <tr>\n      <th>saleYear</th>\n      <td>1989</td>\n      <td>1989</td>\n      <td>1989</td>\n      <td>1989</td>\n      <td>1989</td>\n    </tr>\n    <tr>\n      <th>saleMonth</th>\n      <td>1</td>\n      <td>1</td>\n      <td>1</td>\n      <td>1</td>\n      <td>1</td>\n    </tr>\n    <tr>\n      <th>saleDay</th>\n      <td>17</td>\n      <td>31</td>\n      <td>31</td>\n      <td>31</td>\n      <td>31</td>\n    </tr>\n    <tr>\n      <th>saleDayOfWeek</th>\n      <td>1</td>\n      <td>1</td>\n      <td>1</td>\n      <td>1</td>\n      <td>1</td>\n    </tr>\n    <tr>\n      <th>saleDayOfYear</th>\n      <td>17</td>\n      <td>31</td>\n      <td>31</td>\n      <td>31</td>\n      <td>31</td>\n    </tr>\n  </tbody>\n</table>\n</div>"
     },
     "execution_count": 59,
     "metadata": {},
     "output_type": "execute_result"
    }
   ],
   "source": [
    "# Import preproccessed data\n",
    "df_temp = pd.read_csv(\"data/bluebook-for-bulldozers/train_tmp_alper.csv\", low_memory=False)\n",
    "\n",
    "df_temp.head().T"
   ],
   "metadata": {
    "collapsed": false,
    "pycharm": {
     "name": "#%%\n"
    }
   }
  },
  {
   "cell_type": "code",
   "execution_count": 60,
   "outputs": [
    {
     "data": {
      "text/plain": "SalesID                          0\nSalePrice                        0\nMachineID                        0\nModelID                          0\ndatasource                       0\nauctioneerID                 20136\nYearMade                         0\nMachineHoursCurrentMeter    265194\nUsageBand                   339028\nfiModelDesc                      0\nfiBaseModel                      0\nfiSecondaryDesc             140727\nfiModelSeries               354031\nfiModelDescriptor           337882\nProductSize                 216605\nfiProductClassDesc               0\nstate                            0\nProductGroup                     0\nProductGroupDesc                 0\nDrive_System                305611\nEnclosure                      334\nForks                       214983\nPad_Type                    331602\nRide_Control                259970\nStick                       331602\nTransmission                224691\nTurbocharged                331602\nBlade_Extension             386715\nBlade_Width                 386715\nEnclosure_Type              386715\nEngine_Horsepower           386715\nHydraulics                   82565\nPushblock                   386715\nRipper                      305753\nScarifier                   386704\nTip_Control                 386715\nTire_Size                   315060\nCoupler                     192019\nCoupler_System              367724\nGrouser_Tracks              367823\nHydraulics_Flow             367823\nTrack_Type                  310505\nUndercarriage_Pad_Width     309782\nStick_Length                310437\nThumb                       310366\nPattern_Changer             310437\nGrouser_Type                310505\nBackhoe_Mounting            331986\nBlade_Type                  330823\nTravel_Controls             330821\nDifferential_Type           341134\nSteering_Controls           341176\nsaleYear                         0\nsaleMonth                        0\nsaleDay                          0\nsaleDayOfWeek                    0\nsaleDayOfYear                    0\ndtype: int64"
     },
     "execution_count": 60,
     "metadata": {},
     "output_type": "execute_result"
    }
   ],
   "source": [
    "df_temp.isna().sum()"
   ],
   "metadata": {
    "collapsed": false,
    "pycharm": {
     "name": "#%%\n"
    }
   }
  },
  {
   "cell_type": "markdown",
   "source": [
    "## Filling missing values\n",
    "\n",
    "### Fill numerical missing values first"
   ],
   "metadata": {
    "collapsed": false,
    "pycharm": {
     "name": "#%% md\n"
    }
   }
  },
  {
   "cell_type": "code",
   "execution_count": 62,
   "outputs": [
    {
     "name": "stdout",
     "output_type": "stream",
     "text": [
      "SalesID\n",
      "SalePrice\n",
      "MachineID\n",
      "ModelID\n",
      "datasource\n",
      "auctioneerID\n",
      "YearMade\n",
      "MachineHoursCurrentMeter\n",
      "saleYear\n",
      "saleMonth\n",
      "saleDay\n",
      "saleDayOfWeek\n",
      "saleDayOfYear\n"
     ]
    }
   ],
   "source": [
    "for label, content in df_temp.items():\n",
    "    if pd.api.types.is_numeric_dtype(content):\n",
    "        print(label)"
   ],
   "metadata": {
    "collapsed": false,
    "pycharm": {
     "name": "#%%\n"
    }
   }
  },
  {
   "cell_type": "code",
   "execution_count": 63,
   "outputs": [
    {
     "data": {
      "text/plain": "0          8434\n1         10150\n2          4139\n3          8591\n4          4089\n          ...  \n412693     5266\n412694    19330\n412695    17244\n412696     3357\n412697     4701\nName: ModelID, Length: 412698, dtype: int64"
     },
     "execution_count": 63,
     "metadata": {},
     "output_type": "execute_result"
    }
   ],
   "source": [
    "df_temp.ModelID"
   ],
   "metadata": {
    "collapsed": false,
    "pycharm": {
     "name": "#%%\n"
    }
   }
  },
  {
   "cell_type": "code",
   "execution_count": 67,
   "outputs": [],
   "source": [
    "# Check for which numeric columns have null value\n",
    "\n",
    "for label, content in df_temp.items():\n",
    "    if pd.api.types.is_numeric_dtype(content):\n",
    "        if pd.isnull(content).sum():\n",
    "            # Add a binary column which tells us if the data was missing or not\n",
    "            df_temp[label+\"_is_missing\"] = pd.isnull(content)\n",
    "            # Fill missing numeric values with median\n",
    "            df_temp[label] = content.fillna(content.median())\n"
   ],
   "metadata": {
    "collapsed": false,
    "pycharm": {
     "name": "#%%\n"
    }
   }
  },
  {
   "cell_type": "code",
   "execution_count": 69,
   "outputs": [],
   "source": [
    "# Check if there's any null numeric values\n",
    "\n",
    "for label, content in df_temp.items():\n",
    "    if pd.api.types.is_numeric_dtype(content):\n",
    "        if pd.isnull(content).sum():\n",
    "            print(label)"
   ],
   "metadata": {
    "collapsed": false,
    "pycharm": {
     "name": "#%%\n"
    }
   }
  },
  {
   "cell_type": "code",
   "execution_count": 71,
   "outputs": [
    {
     "data": {
      "text/plain": "False    392562\nTrue      20136\nName: auctioneerID_is_missing, dtype: int64"
     },
     "execution_count": 71,
     "metadata": {},
     "output_type": "execute_result"
    }
   ],
   "source": [
    "# Check yo see how many examples were missing\n",
    "df_temp.auctioneerID_is_missing.value_counts()"
   ],
   "metadata": {
    "collapsed": false,
    "pycharm": {
     "name": "#%%\n"
    }
   }
  },
  {
   "cell_type": "code",
   "execution_count": 76,
   "outputs": [
    {
     "data": {
      "text/plain": "SalesID                                     0\nSalePrice                                   0\nMachineID                                   0\nModelID                                     0\ndatasource                                  0\nauctioneerID                                0\nYearMade                                    0\nMachineHoursCurrentMeter                    0\nUsageBand                              339028\nfiModelDesc                                 0\nfiBaseModel                                 0\nfiSecondaryDesc                        140727\nfiModelSeries                          354031\nfiModelDescriptor                      337882\nProductSize                            216605\nfiProductClassDesc                          0\nstate                                       0\nProductGroup                                0\nProductGroupDesc                            0\nDrive_System                           305611\nEnclosure                                 334\nForks                                  214983\nPad_Type                               331602\nRide_Control                           259970\nStick                                  331602\nTransmission                           224691\nTurbocharged                           331602\nBlade_Extension                        386715\nBlade_Width                            386715\nEnclosure_Type                         386715\nEngine_Horsepower                      386715\nHydraulics                              82565\nPushblock                              386715\nRipper                                 305753\nScarifier                              386704\nTip_Control                            386715\nTire_Size                              315060\nCoupler                                192019\nCoupler_System                         367724\nGrouser_Tracks                         367823\nHydraulics_Flow                        367823\nTrack_Type                             310505\nUndercarriage_Pad_Width                309782\nStick_Length                           310437\nThumb                                  310366\nPattern_Changer                        310437\nGrouser_Type                           310505\nBackhoe_Mounting                       331986\nBlade_Type                             330823\nTravel_Controls                        330821\nDifferential_Type                      341134\nSteering_Controls                      341176\nsaleYear                                    0\nsaleMonth                                   0\nsaleDay                                     0\nsaleDayOfWeek                               0\nsaleDayOfYear                               0\nauctioneerID_is_missing                     0\nMachineHoursCurrentMeter_is_missing         0\ndtype: int64"
     },
     "execution_count": 76,
     "metadata": {},
     "output_type": "execute_result"
    }
   ],
   "source": [
    "df_temp.isnull().sum()"
   ],
   "metadata": {
    "collapsed": false,
    "pycharm": {
     "name": "#%%\n"
    }
   }
  },
  {
   "cell_type": "markdown",
   "source": [
    "## Filling and turning categorical variables into numbers"
   ],
   "metadata": {
    "collapsed": false,
    "pycharm": {
     "name": "#%% md\n"
    }
   }
  },
  {
   "cell_type": "code",
   "execution_count": 77,
   "outputs": [
    {
     "name": "stdout",
     "output_type": "stream",
     "text": [
      "UsageBand\n",
      "fiModelDesc\n",
      "fiBaseModel\n",
      "fiSecondaryDesc\n",
      "fiModelSeries\n",
      "fiModelDescriptor\n",
      "ProductSize\n",
      "fiProductClassDesc\n",
      "state\n",
      "ProductGroup\n",
      "ProductGroupDesc\n",
      "Drive_System\n",
      "Enclosure\n",
      "Forks\n",
      "Pad_Type\n",
      "Ride_Control\n",
      "Stick\n",
      "Transmission\n",
      "Turbocharged\n",
      "Blade_Extension\n",
      "Blade_Width\n",
      "Enclosure_Type\n",
      "Engine_Horsepower\n",
      "Hydraulics\n",
      "Pushblock\n",
      "Ripper\n",
      "Scarifier\n",
      "Tip_Control\n",
      "Tire_Size\n",
      "Coupler\n",
      "Coupler_System\n",
      "Grouser_Tracks\n",
      "Hydraulics_Flow\n",
      "Track_Type\n",
      "Undercarriage_Pad_Width\n",
      "Stick_Length\n",
      "Thumb\n",
      "Pattern_Changer\n",
      "Grouser_Type\n",
      "Backhoe_Mounting\n",
      "Blade_Type\n",
      "Travel_Controls\n",
      "Differential_Type\n",
      "Steering_Controls\n"
     ]
    }
   ],
   "source": [
    "# check for columns which aren't numeric\n",
    "for label, content  in df_temp.items():\n",
    "    if not pd.api.types.is_numeric_dtype(content):\n",
    "        print(label)"
   ],
   "metadata": {
    "collapsed": false,
    "pycharm": {
     "name": "#%%\n"
    }
   }
  },
  {
   "cell_type": "code",
   "execution_count": 81,
   "outputs": [
    {
     "data": {
      "text/plain": "array([43,  8,  8, ...,  4,  4,  4], dtype=int8)"
     },
     "execution_count": 81,
     "metadata": {},
     "output_type": "execute_result"
    }
   ],
   "source": [
    "pd.Categorical(df_temp[\"state\"]).codes"
   ],
   "metadata": {
    "collapsed": false,
    "pycharm": {
     "name": "#%%\n"
    }
   }
  },
  {
   "cell_type": "code",
   "execution_count": 84,
   "outputs": [],
   "source": [
    "# Turn categorical variables into numbers and fill missing\n",
    "for label, content in df_temp.items():\n",
    "    if not pd.api.types.is_numeric_dtype(content):\n",
    "        # Add binary column to indiccate whether sample had miissing values\n",
    "        df_temp[label + '_is_missing'] = pd.isnull(content)\n",
    "        # Turn categories into numbers and add +1\n",
    "        # +1 null değerler -1 değer aldığı için ######################\n",
    "        df_temp[label] = pd.Categorical(content).codes + 1"
   ],
   "metadata": {
    "collapsed": false,
    "pycharm": {
     "name": "#%%\n"
    }
   }
  },
  {
   "cell_type": "code",
   "execution_count": 86,
   "outputs": [
    {
     "name": "stdout",
     "output_type": "stream",
     "text": [
      "<class 'pandas.core.frame.DataFrame'>\n",
      "RangeIndex: 412698 entries, 0 to 412697\n",
      "Columns: 103 entries, SalesID to Steering_Controls_is_missing\n",
      "dtypes: bool(46), float64(3), int16(4), int64(10), int8(40)\n",
      "memory usage: 77.9 MB\n"
     ]
    }
   ],
   "source": [
    "df_temp.info()"
   ],
   "metadata": {
    "collapsed": false,
    "pycharm": {
     "name": "#%%\n"
    }
   }
  },
  {
   "cell_type": "code",
   "execution_count": 88,
   "outputs": [
    {
     "data": {
      "text/plain": "                                    0        1        2        3        4\nSalesID                       1646770  1821514  1505138  1671174  1329056\nSalePrice                      9500.0  14000.0  50000.0  16000.0  22000.0\nMachineID                     1126363  1194089  1473654  1327630  1336053\nModelID                          8434    10150     4139     8591     4089\ndatasource                        132      132      132      132      132\n...                               ...      ...      ...      ...      ...\nBackhoe_Mounting_is_missing     False     True    False     True    False\nBlade_Type_is_missing           False     True    False     True    False\nTravel_Controls_is_missing      False     True    False     True    False\nDifferential_Type_is_missing     True    False     True    False     True\nSteering_Controls_is_missing     True    False     True    False     True\n\n[103 rows x 5 columns]",
      "text/html": "<div>\n<style scoped>\n    .dataframe tbody tr th:only-of-type {\n        vertical-align: middle;\n    }\n\n    .dataframe tbody tr th {\n        vertical-align: top;\n    }\n\n    .dataframe thead th {\n        text-align: right;\n    }\n</style>\n<table border=\"1\" class=\"dataframe\">\n  <thead>\n    <tr style=\"text-align: right;\">\n      <th></th>\n      <th>0</th>\n      <th>1</th>\n      <th>2</th>\n      <th>3</th>\n      <th>4</th>\n    </tr>\n  </thead>\n  <tbody>\n    <tr>\n      <th>SalesID</th>\n      <td>1646770</td>\n      <td>1821514</td>\n      <td>1505138</td>\n      <td>1671174</td>\n      <td>1329056</td>\n    </tr>\n    <tr>\n      <th>SalePrice</th>\n      <td>9500.0</td>\n      <td>14000.0</td>\n      <td>50000.0</td>\n      <td>16000.0</td>\n      <td>22000.0</td>\n    </tr>\n    <tr>\n      <th>MachineID</th>\n      <td>1126363</td>\n      <td>1194089</td>\n      <td>1473654</td>\n      <td>1327630</td>\n      <td>1336053</td>\n    </tr>\n    <tr>\n      <th>ModelID</th>\n      <td>8434</td>\n      <td>10150</td>\n      <td>4139</td>\n      <td>8591</td>\n      <td>4089</td>\n    </tr>\n    <tr>\n      <th>datasource</th>\n      <td>132</td>\n      <td>132</td>\n      <td>132</td>\n      <td>132</td>\n      <td>132</td>\n    </tr>\n    <tr>\n      <th>...</th>\n      <td>...</td>\n      <td>...</td>\n      <td>...</td>\n      <td>...</td>\n      <td>...</td>\n    </tr>\n    <tr>\n      <th>Backhoe_Mounting_is_missing</th>\n      <td>False</td>\n      <td>True</td>\n      <td>False</td>\n      <td>True</td>\n      <td>False</td>\n    </tr>\n    <tr>\n      <th>Blade_Type_is_missing</th>\n      <td>False</td>\n      <td>True</td>\n      <td>False</td>\n      <td>True</td>\n      <td>False</td>\n    </tr>\n    <tr>\n      <th>Travel_Controls_is_missing</th>\n      <td>False</td>\n      <td>True</td>\n      <td>False</td>\n      <td>True</td>\n      <td>False</td>\n    </tr>\n    <tr>\n      <th>Differential_Type_is_missing</th>\n      <td>True</td>\n      <td>False</td>\n      <td>True</td>\n      <td>False</td>\n      <td>True</td>\n    </tr>\n    <tr>\n      <th>Steering_Controls_is_missing</th>\n      <td>True</td>\n      <td>False</td>\n      <td>True</td>\n      <td>False</td>\n      <td>True</td>\n    </tr>\n  </tbody>\n</table>\n<p>103 rows × 5 columns</p>\n</div>"
     },
     "execution_count": 88,
     "metadata": {},
     "output_type": "execute_result"
    }
   ],
   "source": [
    "df_temp.head().T"
   ],
   "metadata": {
    "collapsed": false,
    "pycharm": {
     "name": "#%%\n"
    }
   }
  },
  {
   "cell_type": "code",
   "execution_count": 89,
   "outputs": [
    {
     "data": {
      "text/plain": "SalesID                         0\nSalePrice                       0\nMachineID                       0\nModelID                         0\ndatasource                      0\n                               ..\nBackhoe_Mounting_is_missing     0\nBlade_Type_is_missing           0\nTravel_Controls_is_missing      0\nDifferential_Type_is_missing    0\nSteering_Controls_is_missing    0\nLength: 103, dtype: int64"
     },
     "execution_count": 89,
     "metadata": {},
     "output_type": "execute_result"
    }
   ],
   "source": [
    "df_temp.isna().sum()"
   ],
   "metadata": {
    "collapsed": false,
    "pycharm": {
     "name": "#%%\n"
    }
   }
  },
  {
   "cell_type": "markdown",
   "source": [
    "## 5. Modelling\n",
    "\n",
    "We've done enough EDA (we could always do more) but let's start to do some model-driven EDA."
   ],
   "metadata": {
    "collapsed": false,
    "pycharm": {
     "name": "#%% md\n"
    }
   }
  },
  {
   "cell_type": "code",
   "execution_count": 90,
   "outputs": [
    {
     "data": {
      "text/plain": "   SalesID  SalePrice  MachineID  ModelID  datasource  auctioneerID  YearMade  \\\n0  1646770     9500.0    1126363     8434         132          18.0      1974   \n1  1821514    14000.0    1194089    10150         132          99.0      1980   \n2  1505138    50000.0    1473654     4139         132          99.0      1978   \n3  1671174    16000.0    1327630     8591         132          99.0      1980   \n4  1329056    22000.0    1336053     4089         132          99.0      1984   \n\n   MachineHoursCurrentMeter  UsageBand  fiModelDesc  ...  \\\n0                       0.0          0         4593  ...   \n1                       0.0          0         1820  ...   \n2                       0.0          0         2348  ...   \n3                       0.0          0         1819  ...   \n4                       0.0          0         2119  ...   \n\n   Undercarriage_Pad_Width_is_missing  Stick_Length_is_missing  \\\n0                                True                     True   \n1                                True                     True   \n2                                True                     True   \n3                                True                     True   \n4                                True                     True   \n\n   Thumb_is_missing  Pattern_Changer_is_missing  Grouser_Type_is_missing  \\\n0              True                        True                     True   \n1              True                        True                     True   \n2              True                        True                     True   \n3              True                        True                     True   \n4              True                        True                     True   \n\n   Backhoe_Mounting_is_missing  Blade_Type_is_missing  \\\n0                        False                  False   \n1                         True                   True   \n2                        False                  False   \n3                         True                   True   \n4                        False                  False   \n\n   Travel_Controls_is_missing  Differential_Type_is_missing  \\\n0                       False                          True   \n1                        True                         False   \n2                       False                          True   \n3                        True                         False   \n4                       False                          True   \n\n   Steering_Controls_is_missing  \n0                          True  \n1                         False  \n2                          True  \n3                         False  \n4                          True  \n\n[5 rows x 103 columns]",
      "text/html": "<div>\n<style scoped>\n    .dataframe tbody tr th:only-of-type {\n        vertical-align: middle;\n    }\n\n    .dataframe tbody tr th {\n        vertical-align: top;\n    }\n\n    .dataframe thead th {\n        text-align: right;\n    }\n</style>\n<table border=\"1\" class=\"dataframe\">\n  <thead>\n    <tr style=\"text-align: right;\">\n      <th></th>\n      <th>SalesID</th>\n      <th>SalePrice</th>\n      <th>MachineID</th>\n      <th>ModelID</th>\n      <th>datasource</th>\n      <th>auctioneerID</th>\n      <th>YearMade</th>\n      <th>MachineHoursCurrentMeter</th>\n      <th>UsageBand</th>\n      <th>fiModelDesc</th>\n      <th>...</th>\n      <th>Undercarriage_Pad_Width_is_missing</th>\n      <th>Stick_Length_is_missing</th>\n      <th>Thumb_is_missing</th>\n      <th>Pattern_Changer_is_missing</th>\n      <th>Grouser_Type_is_missing</th>\n      <th>Backhoe_Mounting_is_missing</th>\n      <th>Blade_Type_is_missing</th>\n      <th>Travel_Controls_is_missing</th>\n      <th>Differential_Type_is_missing</th>\n      <th>Steering_Controls_is_missing</th>\n    </tr>\n  </thead>\n  <tbody>\n    <tr>\n      <th>0</th>\n      <td>1646770</td>\n      <td>9500.0</td>\n      <td>1126363</td>\n      <td>8434</td>\n      <td>132</td>\n      <td>18.0</td>\n      <td>1974</td>\n      <td>0.0</td>\n      <td>0</td>\n      <td>4593</td>\n      <td>...</td>\n      <td>True</td>\n      <td>True</td>\n      <td>True</td>\n      <td>True</td>\n      <td>True</td>\n      <td>False</td>\n      <td>False</td>\n      <td>False</td>\n      <td>True</td>\n      <td>True</td>\n    </tr>\n    <tr>\n      <th>1</th>\n      <td>1821514</td>\n      <td>14000.0</td>\n      <td>1194089</td>\n      <td>10150</td>\n      <td>132</td>\n      <td>99.0</td>\n      <td>1980</td>\n      <td>0.0</td>\n      <td>0</td>\n      <td>1820</td>\n      <td>...</td>\n      <td>True</td>\n      <td>True</td>\n      <td>True</td>\n      <td>True</td>\n      <td>True</td>\n      <td>True</td>\n      <td>True</td>\n      <td>True</td>\n      <td>False</td>\n      <td>False</td>\n    </tr>\n    <tr>\n      <th>2</th>\n      <td>1505138</td>\n      <td>50000.0</td>\n      <td>1473654</td>\n      <td>4139</td>\n      <td>132</td>\n      <td>99.0</td>\n      <td>1978</td>\n      <td>0.0</td>\n      <td>0</td>\n      <td>2348</td>\n      <td>...</td>\n      <td>True</td>\n      <td>True</td>\n      <td>True</td>\n      <td>True</td>\n      <td>True</td>\n      <td>False</td>\n      <td>False</td>\n      <td>False</td>\n      <td>True</td>\n      <td>True</td>\n    </tr>\n    <tr>\n      <th>3</th>\n      <td>1671174</td>\n      <td>16000.0</td>\n      <td>1327630</td>\n      <td>8591</td>\n      <td>132</td>\n      <td>99.0</td>\n      <td>1980</td>\n      <td>0.0</td>\n      <td>0</td>\n      <td>1819</td>\n      <td>...</td>\n      <td>True</td>\n      <td>True</td>\n      <td>True</td>\n      <td>True</td>\n      <td>True</td>\n      <td>True</td>\n      <td>True</td>\n      <td>True</td>\n      <td>False</td>\n      <td>False</td>\n    </tr>\n    <tr>\n      <th>4</th>\n      <td>1329056</td>\n      <td>22000.0</td>\n      <td>1336053</td>\n      <td>4089</td>\n      <td>132</td>\n      <td>99.0</td>\n      <td>1984</td>\n      <td>0.0</td>\n      <td>0</td>\n      <td>2119</td>\n      <td>...</td>\n      <td>True</td>\n      <td>True</td>\n      <td>True</td>\n      <td>True</td>\n      <td>True</td>\n      <td>False</td>\n      <td>False</td>\n      <td>False</td>\n      <td>True</td>\n      <td>True</td>\n    </tr>\n  </tbody>\n</table>\n<p>5 rows × 103 columns</p>\n</div>"
     },
     "execution_count": 90,
     "metadata": {},
     "output_type": "execute_result"
    }
   ],
   "source": [
    "df_temp.head()"
   ],
   "metadata": {
    "collapsed": false,
    "pycharm": {
     "name": "#%%\n"
    }
   }
  },
  {
   "cell_type": "code",
   "execution_count": 91,
   "outputs": [
    {
     "name": "stdout",
     "output_type": "stream",
     "text": [
      "CPU times: total: 29min 36s\n",
      "Wall time: 2min 8s\n"
     ]
    },
    {
     "data": {
      "text/plain": "RandomForestRegressor(n_jobs=-1, random_state=42)"
     },
     "execution_count": 91,
     "metadata": {},
     "output_type": "execute_result"
    }
   ],
   "source": [
    "%%time\n",
    "\n",
    "#Let's build a machine learning model\n",
    "\n",
    "from sklearn.ensemble import RandomForestRegressor\n",
    "\n",
    "# Instance model\n",
    "model = RandomForestRegressor(n_jobs=-1, random_state=42)\n",
    "# Fit the model\n",
    "model.fit(df_temp.drop(\"SalePrice\", axis=1), df_temp[\"SalePrice\"])"
   ],
   "metadata": {
    "collapsed": false,
    "pycharm": {
     "name": "#%%\n"
    }
   }
  },
  {
   "cell_type": "code",
   "execution_count": 92,
   "outputs": [],
   "source": [],
   "metadata": {
    "collapsed": false,
    "pycharm": {
     "name": "#%%\n"
    }
   }
  },
  {
   "cell_type": "code",
   "execution_count": 93,
   "outputs": [
    {
     "data": {
      "text/plain": "(11573, 401125)"
     },
     "execution_count": 93,
     "metadata": {},
     "output_type": "execute_result"
    }
   ],
   "source": [
    "# Split data into training and validation\n",
    "df_val = df_temp[df_temp.saleYear == 2012]\n",
    "df_train = df_temp[df_temp.saleYear != 2012]\n",
    "\n",
    "len(df_val), len(df_train)"
   ],
   "metadata": {
    "collapsed": false,
    "pycharm": {
     "name": "#%%\n"
    }
   }
  },
  {
   "cell_type": "code",
   "execution_count": 94,
   "outputs": [
    {
     "data": {
      "text/plain": "((401125, 102), (401125,), (11573, 102), (11573,))"
     },
     "execution_count": 94,
     "metadata": {},
     "output_type": "execute_result"
    }
   ],
   "source": [
    "X_train, y_train = df_train.drop(\"SalePrice\", axis=1), df_train.SalePrice\n",
    "X_valid, y_valid = df_val.drop(\"SalePrice\", axis=1), df_val.SalePrice\n",
    "\n",
    "X_train.shape, y_train.shape, X_valid.shape, y_valid.shape"
   ],
   "metadata": {
    "collapsed": false,
    "pycharm": {
     "name": "#%%\n"
    }
   }
  },
  {
   "cell_type": "code",
   "execution_count": 95,
   "outputs": [
    {
     "data": {
      "text/plain": "0          9500.0\n1         14000.0\n2         50000.0\n3         16000.0\n4         22000.0\n           ...   \n401120    29000.0\n401121    11000.0\n401122    11000.0\n401123    18000.0\n401124    13500.0\nName: SalePrice, Length: 401125, dtype: float64"
     },
     "execution_count": 95,
     "metadata": {},
     "output_type": "execute_result"
    }
   ],
   "source": [
    "y_train"
   ],
   "metadata": {
    "collapsed": false,
    "pycharm": {
     "name": "#%%\n"
    }
   }
  },
  {
   "cell_type": "markdown",
   "source": [
    "### Building an evaluation funtion"
   ],
   "metadata": {
    "collapsed": false,
    "pycharm": {
     "name": "#%% md\n"
    }
   }
  },
  {
   "cell_type": "code",
   "execution_count": 106,
   "outputs": [],
   "source": [
    "from sklearn.metrics import mean_squared_log_error, mean_absolute_error, r2_score\n",
    "\n",
    "def rmsle(y_test, y_preds):\n",
    "    \"\"\"\n",
    "    Calculate root mean squared log error between predictions and true labels\n",
    "    \"\"\"\n",
    "\n",
    "    return np.sqrt(mean_squared_log_error(y_test,y_preds))\n",
    "\n",
    "def show_scores(model):\n",
    "    train_preds = model.predict(X_train)\n",
    "    val_preds = model.predict(X_valid)\n",
    "    scores = {\"Training MAE\": mean_absolute_error(y_train, train_preds),\n",
    "              \"Valid MAE\": mean_absolute_error(y_valid, val_preds),\n",
    "              \"Training RMSLE\": rmsle(y_train, train_preds),\n",
    "              \"Valid RMSLE\": rmsle(y_valid, val_preds),\n",
    "              \"Training R^2\": r2_score(y_train, train_preds),\n",
    "              \"Valid R^2\": r2_score(y_valid, val_preds)}\n",
    "    return  scores"
   ],
   "metadata": {
    "collapsed": false,
    "pycharm": {
     "name": "#%%\n"
    }
   }
  },
  {
   "cell_type": "markdown",
   "source": [
    "### Testing our model on a subset(to tune the hyperparameters)"
   ],
   "metadata": {
    "collapsed": false,
    "pycharm": {
     "name": "#%% md\n"
    }
   }
  },
  {
   "cell_type": "code",
   "execution_count": 97,
   "outputs": [],
   "source": [
    "# This takes far too long...\n",
    "\n",
    "\n",
    "#model = RandomForestRegressor(n_jobs=-1, random_state=42)\n",
    "\n",
    "#model.fit(X_train, y_train)"
   ],
   "metadata": {
    "collapsed": false,
    "pycharm": {
     "name": "#%%\n"
    }
   }
  },
  {
   "cell_type": "code",
   "execution_count": 98,
   "outputs": [
    {
     "data": {
      "text/plain": "401125"
     },
     "execution_count": 98,
     "metadata": {},
     "output_type": "execute_result"
    }
   ],
   "source": [
    "len(X_train)"
   ],
   "metadata": {
    "collapsed": false,
    "pycharm": {
     "name": "#%%\n"
    }
   }
  },
  {
   "cell_type": "code",
   "execution_count": 103,
   "outputs": [],
   "source": [
    "# Change max_samples value\n",
    "\n",
    "model = RandomForestRegressor(n_jobs=-1, random_state=42, max_samples=10000)"
   ],
   "metadata": {
    "collapsed": false,
    "pycharm": {
     "name": "#%%\n"
    }
   }
  },
  {
   "cell_type": "code",
   "execution_count": 104,
   "outputs": [
    {
     "name": "stdout",
     "output_type": "stream",
     "text": [
      "CPU times: total: 1min 23s\n",
      "Wall time: 7.96 s\n"
     ]
    },
    {
     "data": {
      "text/plain": "RandomForestRegressor(max_samples=10000, n_jobs=-1, random_state=42)"
     },
     "execution_count": 104,
     "metadata": {},
     "output_type": "execute_result"
    }
   ],
   "source": [
    "%%time\n",
    "\n",
    "# Cutting down on the max number of samples each estimator can see improves\n",
    "model.fit(X_train, y_train)"
   ],
   "metadata": {
    "collapsed": false,
    "pycharm": {
     "name": "#%%\n"
    }
   }
  },
  {
   "cell_type": "code",
   "execution_count": 107,
   "outputs": [
    {
     "data": {
      "text/plain": "{'Training MAE': 5561.2988092240585,\n 'Valid MAE': 7177.26365505919,\n 'Training RMSLE': 0.257745378256977,\n 'Valid RMSLE': 0.29362638671089003,\n 'Training R^2': 0.8606658995199189,\n 'Valid R^2': 0.8320374995090507}"
     },
     "execution_count": 107,
     "metadata": {},
     "output_type": "execute_result"
    }
   ],
   "source": [
    "show_scores(model)"
   ],
   "metadata": {
    "collapsed": false,
    "pycharm": {
     "name": "#%%\n"
    }
   }
  },
  {
   "cell_type": "markdown",
   "source": [
    "### Hyperparameter tuning with RandomizedSearchCV"
   ],
   "metadata": {
    "collapsed": false,
    "pycharm": {
     "name": "#%% md\n"
    }
   }
  },
  {
   "cell_type": "code",
   "execution_count": 109,
   "outputs": [
    {
     "name": "stdout",
     "output_type": "stream",
     "text": [
      "Fitting 5 folds for each of 2 candidates, totalling 10 fits\n",
      "CPU times: total: 38.6 s\n",
      "Wall time: 36.6 s\n"
     ]
    },
    {
     "data": {
      "text/plain": "RandomizedSearchCV(cv=5,\n                   estimator=RandomForestRegressor(n_jobs=-1, random_state=42),\n                   n_iter=2,\n                   param_distributions={'max_depth': [None, 3, 5, 10],\n                                        'max_features': [0.5, 1, 'sqrt',\n                                                         'auto'],\n                                        'max_samples': [10000],\n                                        'min_samples_leaf': array([ 1,  3,  5,  7,  9, 11, 13, 15, 17, 19]),\n                                        'min_samples_split': array([ 2,  4,  6,  8, 10, 12, 14, 16, 18]),\n                                        'n_estimators': array([10, 20, 30, 40, 50, 60, 70, 80, 90])},\n                   verbose=True)"
     },
     "execution_count": 109,
     "metadata": {},
     "output_type": "execute_result"
    }
   ],
   "source": [
    "%%time\n",
    "\n",
    "from sklearn.model_selection import RandomizedSearchCV\n",
    "\n",
    "# Different RandomForestRegresion hyperparameters\n",
    "rs_grid = {\"n_estimators\": np.arange(10,100,10),\n",
    "           \"max_depth\": [None, 3, 5, 10],\n",
    "           \"min_samples_split\": np.arange(2,20,2),\n",
    "           \"min_samples_leaf\": np.arange(1,20,2),\n",
    "           \"max_features\": [0.5, 1, \"sqrt\", \"auto\"],\n",
    "           \"max_samples\": [10000]}\n",
    "\n",
    "rs_model = RandomizedSearchCV(RandomForestRegressor(n_jobs=-1, random_state=42),\n",
    "                              param_distributions=rs_grid,\n",
    "                              n_iter=2, cv=5, verbose=True)\n",
    "\n",
    "rs_model.fit(X_train, y_train)"
   ],
   "metadata": {
    "collapsed": false,
    "pycharm": {
     "name": "#%%\n"
    }
   }
  },
  {
   "cell_type": "code",
   "execution_count": 110,
   "outputs": [
    {
     "data": {
      "text/plain": "{'n_estimators': 40,\n 'min_samples_split': 6,\n 'min_samples_leaf': 13,\n 'max_samples': 10000,\n 'max_features': 'auto',\n 'max_depth': 10}"
     },
     "execution_count": 110,
     "metadata": {},
     "output_type": "execute_result"
    }
   ],
   "source": [
    "rs_model.best_params_"
   ],
   "metadata": {
    "collapsed": false,
    "pycharm": {
     "name": "#%%\n"
    }
   }
  },
  {
   "cell_type": "code",
   "execution_count": 111,
   "outputs": [
    {
     "data": {
      "text/plain": "{'Training MAE': 6710.472557350153,\n 'Valid MAE': 8172.143793098902,\n 'Training RMSLE': 0.29914658352550705,\n 'Valid RMSLE': 0.3249980220237545,\n 'Training R^2': 0.8021536922748134,\n 'Valid R^2': 0.7774954659593556}"
     },
     "execution_count": 111,
     "metadata": {},
     "output_type": "execute_result"
    }
   ],
   "source": [
    "show_scores(rs_model)"
   ],
   "metadata": {
    "collapsed": false,
    "pycharm": {
     "name": "#%%\n"
    }
   }
  },
  {
   "cell_type": "markdown",
   "source": [
    "## Train a model with the best hyperparameters\n",
    "**Note:** These were found after 100 iterations of RandomizedSearchCV"
   ],
   "metadata": {
    "collapsed": false,
    "pycharm": {
     "name": "#%% md\n"
    }
   }
  },
  {
   "cell_type": "code",
   "execution_count": 113,
   "outputs": [
    {
     "name": "stdout",
     "output_type": "stream",
     "text": [
      "CPU times: total: 6min 46s\n",
      "Wall time: 35.8 s\n"
     ]
    },
    {
     "data": {
      "text/plain": "RandomForestRegressor(max_features=0.5, min_samples_split=14, n_estimators=40,\n                      n_jobs=-1, random_state=42)"
     },
     "execution_count": 113,
     "metadata": {},
     "output_type": "execute_result"
    }
   ],
   "source": [
    "%%time\n",
    "\n",
    "#Most ideal hyperparameter\n",
    "ideal_model = RandomForestRegressor(n_estimators=40,min_samples_leaf=1, min_samples_split=14, max_features=0.5, n_jobs=-1, max_samples=None, random_state=42)\n",
    "\n",
    "ideal_model.fit(X_train, y_train)"
   ],
   "metadata": {
    "collapsed": false,
    "pycharm": {
     "name": "#%%\n"
    }
   }
  },
  {
   "cell_type": "code",
   "execution_count": 114,
   "outputs": [
    {
     "data": {
      "text/plain": "{'Training MAE': 2953.816113716348,\n 'Valid MAE': 5951.247761444453,\n 'Training RMSLE': 0.14469006962371858,\n 'Valid RMSLE': 0.24524163989538328,\n 'Training R^2': 0.9588145522577225,\n 'Valid R^2': 0.8818019502450094}"
     },
     "execution_count": 114,
     "metadata": {},
     "output_type": "execute_result"
    }
   ],
   "source": [
    "show_scores(ideal_model)"
   ],
   "metadata": {
    "collapsed": false,
    "pycharm": {
     "name": "#%%\n"
    }
   }
  },
  {
   "cell_type": "code",
   "execution_count": 115,
   "outputs": [
    {
     "data": {
      "text/plain": "{'Training MAE': 6710.472557350153,\n 'Valid MAE': 8172.143793098902,\n 'Training RMSLE': 0.29914658352550705,\n 'Valid RMSLE': 0.3249980220237545,\n 'Training R^2': 0.8021536922748134,\n 'Valid R^2': 0.7774954659593556}"
     },
     "execution_count": 115,
     "metadata": {},
     "output_type": "execute_result"
    }
   ],
   "source": [
    "# Scores on rs_model (only trained on ~10,000 examples)\n",
    "show_scores(rs_model)"
   ],
   "metadata": {
    "collapsed": false,
    "pycharm": {
     "name": "#%%\n"
    }
   }
  },
  {
   "cell_type": "markdown",
   "source": [
    "## Make predictions on test data"
   ],
   "metadata": {
    "collapsed": false,
    "pycharm": {
     "name": "#%% md\n"
    }
   }
  },
  {
   "cell_type": "code",
   "execution_count": 153,
   "outputs": [
    {
     "data": {
      "text/plain": "   SalesID  MachineID  ModelID  datasource  auctioneerID  YearMade  \\\n0  1227829    1006309     3168         121             3      1999   \n1  1227844    1022817     7271         121             3      1000   \n2  1227847    1031560    22805         121             3      2004   \n3  1227848      56204     1269         121             3      2006   \n4  1227863    1053887    22312         121             3      2005   \n\n   MachineHoursCurrentMeter UsageBand   saledate fiModelDesc  ...  \\\n0                    3688.0       Low 2012-05-03        580G  ...   \n1                   28555.0      High 2012-05-10         936  ...   \n2                    6038.0    Medium 2012-05-10    EC210BLC  ...   \n3                    8940.0      High 2012-05-10       330CL  ...   \n4                    2286.0       Low 2012-05-10        650K  ...   \n\n  Undercarriage_Pad_Width         Stick_Length   Thumb      Pattern_Changer  \\\n0                     NaN                  NaN     NaN                  NaN   \n1                     NaN                  NaN     NaN                  NaN   \n2     None or Unspecified                9' 6\"  Manual  None or Unspecified   \n3     None or Unspecified  None or Unspecified  Manual                  Yes   \n4                     NaN                  NaN     NaN                  NaN   \n\n  Grouser_Type     Backhoe_Mounting Blade_Type      Travel_Controls  \\\n0          NaN                  NaN        NaN                  NaN   \n1          NaN                  NaN        NaN                  NaN   \n2       Double                  NaN        NaN                  NaN   \n3       Triple                  NaN        NaN                  NaN   \n4          NaN  None or Unspecified        PAT  None or Unspecified   \n\n  Differential_Type Steering_Controls  \n0               NaN               NaN  \n1          Standard      Conventional  \n2               NaN               NaN  \n3               NaN               NaN  \n4               NaN               NaN  \n\n[5 rows x 52 columns]",
      "text/html": "<div>\n<style scoped>\n    .dataframe tbody tr th:only-of-type {\n        vertical-align: middle;\n    }\n\n    .dataframe tbody tr th {\n        vertical-align: top;\n    }\n\n    .dataframe thead th {\n        text-align: right;\n    }\n</style>\n<table border=\"1\" class=\"dataframe\">\n  <thead>\n    <tr style=\"text-align: right;\">\n      <th></th>\n      <th>SalesID</th>\n      <th>MachineID</th>\n      <th>ModelID</th>\n      <th>datasource</th>\n      <th>auctioneerID</th>\n      <th>YearMade</th>\n      <th>MachineHoursCurrentMeter</th>\n      <th>UsageBand</th>\n      <th>saledate</th>\n      <th>fiModelDesc</th>\n      <th>...</th>\n      <th>Undercarriage_Pad_Width</th>\n      <th>Stick_Length</th>\n      <th>Thumb</th>\n      <th>Pattern_Changer</th>\n      <th>Grouser_Type</th>\n      <th>Backhoe_Mounting</th>\n      <th>Blade_Type</th>\n      <th>Travel_Controls</th>\n      <th>Differential_Type</th>\n      <th>Steering_Controls</th>\n    </tr>\n  </thead>\n  <tbody>\n    <tr>\n      <th>0</th>\n      <td>1227829</td>\n      <td>1006309</td>\n      <td>3168</td>\n      <td>121</td>\n      <td>3</td>\n      <td>1999</td>\n      <td>3688.0</td>\n      <td>Low</td>\n      <td>2012-05-03</td>\n      <td>580G</td>\n      <td>...</td>\n      <td>NaN</td>\n      <td>NaN</td>\n      <td>NaN</td>\n      <td>NaN</td>\n      <td>NaN</td>\n      <td>NaN</td>\n      <td>NaN</td>\n      <td>NaN</td>\n      <td>NaN</td>\n      <td>NaN</td>\n    </tr>\n    <tr>\n      <th>1</th>\n      <td>1227844</td>\n      <td>1022817</td>\n      <td>7271</td>\n      <td>121</td>\n      <td>3</td>\n      <td>1000</td>\n      <td>28555.0</td>\n      <td>High</td>\n      <td>2012-05-10</td>\n      <td>936</td>\n      <td>...</td>\n      <td>NaN</td>\n      <td>NaN</td>\n      <td>NaN</td>\n      <td>NaN</td>\n      <td>NaN</td>\n      <td>NaN</td>\n      <td>NaN</td>\n      <td>NaN</td>\n      <td>Standard</td>\n      <td>Conventional</td>\n    </tr>\n    <tr>\n      <th>2</th>\n      <td>1227847</td>\n      <td>1031560</td>\n      <td>22805</td>\n      <td>121</td>\n      <td>3</td>\n      <td>2004</td>\n      <td>6038.0</td>\n      <td>Medium</td>\n      <td>2012-05-10</td>\n      <td>EC210BLC</td>\n      <td>...</td>\n      <td>None or Unspecified</td>\n      <td>9' 6\"</td>\n      <td>Manual</td>\n      <td>None or Unspecified</td>\n      <td>Double</td>\n      <td>NaN</td>\n      <td>NaN</td>\n      <td>NaN</td>\n      <td>NaN</td>\n      <td>NaN</td>\n    </tr>\n    <tr>\n      <th>3</th>\n      <td>1227848</td>\n      <td>56204</td>\n      <td>1269</td>\n      <td>121</td>\n      <td>3</td>\n      <td>2006</td>\n      <td>8940.0</td>\n      <td>High</td>\n      <td>2012-05-10</td>\n      <td>330CL</td>\n      <td>...</td>\n      <td>None or Unspecified</td>\n      <td>None or Unspecified</td>\n      <td>Manual</td>\n      <td>Yes</td>\n      <td>Triple</td>\n      <td>NaN</td>\n      <td>NaN</td>\n      <td>NaN</td>\n      <td>NaN</td>\n      <td>NaN</td>\n    </tr>\n    <tr>\n      <th>4</th>\n      <td>1227863</td>\n      <td>1053887</td>\n      <td>22312</td>\n      <td>121</td>\n      <td>3</td>\n      <td>2005</td>\n      <td>2286.0</td>\n      <td>Low</td>\n      <td>2012-05-10</td>\n      <td>650K</td>\n      <td>...</td>\n      <td>NaN</td>\n      <td>NaN</td>\n      <td>NaN</td>\n      <td>NaN</td>\n      <td>NaN</td>\n      <td>None or Unspecified</td>\n      <td>PAT</td>\n      <td>None or Unspecified</td>\n      <td>NaN</td>\n      <td>NaN</td>\n    </tr>\n  </tbody>\n</table>\n<p>5 rows × 52 columns</p>\n</div>"
     },
     "execution_count": 153,
     "metadata": {},
     "output_type": "execute_result"
    }
   ],
   "source": [
    "# Import the test data\n",
    "\n",
    "df_test = pd.read_csv(\"data/bluebook-for-bulldozers/Test.csv\", low_memory=False, parse_dates=[\"saledate\"])\n",
    "df_test.head()"
   ],
   "metadata": {
    "collapsed": false,
    "pycharm": {
     "name": "#%%\n"
    }
   }
  },
  {
   "cell_type": "markdown",
   "source": [
    "### Preprocessing the data (getting the test dataset in the same format as our training dataset)"
   ],
   "metadata": {
    "collapsed": false,
    "pycharm": {
     "name": "#%% md\n"
    }
   }
  },
  {
   "cell_type": "code",
   "execution_count": 154,
   "outputs": [],
   "source": [
    "def preprocess_data(df):\n",
    "    \"\"\"\n",
    "    Performs transformations on df and returns transformed df.\n",
    "    \"\"\"\n",
    "    df[\"saleYear\"] = df.saledate.dt.year\n",
    "    df[\"saleMonth\"] = df.saledate.dt.month\n",
    "    df[\"saleDay\"] = df.saledate.dt.day\n",
    "    df[\"saleDayOfWeek\"] = df.saledate.dt.dayofweek\n",
    "    df[\"saleDayOfYear\"] = df.saledate.dt.dayofyear\n",
    "\n",
    "    df.drop(\"saledate\", axis=1, inplace=True)\n",
    "\n",
    "    # Fill the numeric rows with median\n",
    "    for label, content in df.items():\n",
    "        if pd.api.types.is_numeric_dtype(content):\n",
    "            if pd.isnull(content).sum():\n",
    "                # Add a binary column which tells us if the data was missing or not\n",
    "                df[label+\"_is_missing\"] = pd.isnull(content)\n",
    "                # Fill missing numeric values with median\n",
    "                df[label] = content.fillna(content.median())\n",
    "\n",
    "        # Filled categorical missing data and turn categories into numbers\n",
    "        if not pd.api.types.is_numeric_dtype(content):\n",
    "            df[label+\"_is_missing\"] = pd.isnull(content)\n",
    "            # We add +1 to the category code because pandas encodes missing categories as -1\n",
    "            df[label] = pd.Categorical(content).codes+1\n",
    "\n",
    "    return df\n"
   ],
   "metadata": {
    "collapsed": false,
    "pycharm": {
     "name": "#%%\n"
    }
   }
  },
  {
   "cell_type": "code",
   "execution_count": 155,
   "outputs": [
    {
     "data": {
      "text/plain": "       SalesID  MachineID  ModelID  datasource  auctioneerID  YearMade  \\\n0      1227829    1006309     3168         121             3      1999   \n1      1227844    1022817     7271         121             3      1000   \n2      1227847    1031560    22805         121             3      2004   \n3      1227848      56204     1269         121             3      2006   \n4      1227863    1053887    22312         121             3      2005   \n...        ...        ...      ...         ...           ...       ...   \n12452  6643171    2558317    21450         149             2      2008   \n12453  6643173    2558332    21434         149             2      2005   \n12454  6643184    2558342    21437         149             2      1000   \n12455  6643186    2558343    21437         149             2      2006   \n12456  6643196    2558346    21446         149             2      2008   \n\n       MachineHoursCurrentMeter  UsageBand  fiModelDesc  fiBaseModel  ...  \\\n0                        3688.0          2          499          180  ...   \n1                       28555.0          1          831          292  ...   \n2                        6038.0          3         1177          404  ...   \n3                        8940.0          1          287          113  ...   \n4                        2286.0          2          566          196  ...   \n...                         ...        ...          ...          ...  ...   \n12452                    3525.0          0          713          235  ...   \n12453                    3525.0          0          186           80  ...   \n12454                    3525.0          0          325          123  ...   \n12455                    3525.0          0          325          123  ...   \n12456                    3525.0          0          483          171  ...   \n\n       Undercarriage_Pad_Width_is_missing  Stick_Length_is_missing  \\\n0                                    True                     True   \n1                                    True                     True   \n2                                   False                    False   \n3                                   False                    False   \n4                                    True                     True   \n...                                   ...                      ...   \n12452                               False                    False   \n12453                               False                    False   \n12454                               False                    False   \n12455                               False                    False   \n12456                               False                    False   \n\n       Thumb_is_missing  Pattern_Changer_is_missing  Grouser_Type_is_missing  \\\n0                  True                        True                     True   \n1                  True                        True                     True   \n2                 False                       False                    False   \n3                 False                       False                    False   \n4                  True                        True                     True   \n...                 ...                         ...                      ...   \n12452             False                       False                    False   \n12453             False                       False                    False   \n12454             False                       False                    False   \n12455             False                       False                    False   \n12456             False                       False                    False   \n\n       Backhoe_Mounting_is_missing  Blade_Type_is_missing  \\\n0                             True                   True   \n1                             True                   True   \n2                             True                   True   \n3                             True                   True   \n4                            False                  False   \n...                            ...                    ...   \n12452                         True                   True   \n12453                         True                   True   \n12454                         True                   True   \n12455                         True                   True   \n12456                         True                   True   \n\n       Travel_Controls_is_missing  Differential_Type_is_missing  \\\n0                            True                          True   \n1                            True                         False   \n2                            True                          True   \n3                            True                          True   \n4                           False                          True   \n...                           ...                           ...   \n12452                        True                          True   \n12453                        True                          True   \n12454                        True                          True   \n12455                        True                          True   \n12456                        True                          True   \n\n       Steering_Controls_is_missing  \n0                              True  \n1                             False  \n2                              True  \n3                              True  \n4                              True  \n...                             ...  \n12452                          True  \n12453                          True  \n12454                          True  \n12455                          True  \n12456                          True  \n\n[12457 rows x 101 columns]",
      "text/html": "<div>\n<style scoped>\n    .dataframe tbody tr th:only-of-type {\n        vertical-align: middle;\n    }\n\n    .dataframe tbody tr th {\n        vertical-align: top;\n    }\n\n    .dataframe thead th {\n        text-align: right;\n    }\n</style>\n<table border=\"1\" class=\"dataframe\">\n  <thead>\n    <tr style=\"text-align: right;\">\n      <th></th>\n      <th>SalesID</th>\n      <th>MachineID</th>\n      <th>ModelID</th>\n      <th>datasource</th>\n      <th>auctioneerID</th>\n      <th>YearMade</th>\n      <th>MachineHoursCurrentMeter</th>\n      <th>UsageBand</th>\n      <th>fiModelDesc</th>\n      <th>fiBaseModel</th>\n      <th>...</th>\n      <th>Undercarriage_Pad_Width_is_missing</th>\n      <th>Stick_Length_is_missing</th>\n      <th>Thumb_is_missing</th>\n      <th>Pattern_Changer_is_missing</th>\n      <th>Grouser_Type_is_missing</th>\n      <th>Backhoe_Mounting_is_missing</th>\n      <th>Blade_Type_is_missing</th>\n      <th>Travel_Controls_is_missing</th>\n      <th>Differential_Type_is_missing</th>\n      <th>Steering_Controls_is_missing</th>\n    </tr>\n  </thead>\n  <tbody>\n    <tr>\n      <th>0</th>\n      <td>1227829</td>\n      <td>1006309</td>\n      <td>3168</td>\n      <td>121</td>\n      <td>3</td>\n      <td>1999</td>\n      <td>3688.0</td>\n      <td>2</td>\n      <td>499</td>\n      <td>180</td>\n      <td>...</td>\n      <td>True</td>\n      <td>True</td>\n      <td>True</td>\n      <td>True</td>\n      <td>True</td>\n      <td>True</td>\n      <td>True</td>\n      <td>True</td>\n      <td>True</td>\n      <td>True</td>\n    </tr>\n    <tr>\n      <th>1</th>\n      <td>1227844</td>\n      <td>1022817</td>\n      <td>7271</td>\n      <td>121</td>\n      <td>3</td>\n      <td>1000</td>\n      <td>28555.0</td>\n      <td>1</td>\n      <td>831</td>\n      <td>292</td>\n      <td>...</td>\n      <td>True</td>\n      <td>True</td>\n      <td>True</td>\n      <td>True</td>\n      <td>True</td>\n      <td>True</td>\n      <td>True</td>\n      <td>True</td>\n      <td>False</td>\n      <td>False</td>\n    </tr>\n    <tr>\n      <th>2</th>\n      <td>1227847</td>\n      <td>1031560</td>\n      <td>22805</td>\n      <td>121</td>\n      <td>3</td>\n      <td>2004</td>\n      <td>6038.0</td>\n      <td>3</td>\n      <td>1177</td>\n      <td>404</td>\n      <td>...</td>\n      <td>False</td>\n      <td>False</td>\n      <td>False</td>\n      <td>False</td>\n      <td>False</td>\n      <td>True</td>\n      <td>True</td>\n      <td>True</td>\n      <td>True</td>\n      <td>True</td>\n    </tr>\n    <tr>\n      <th>3</th>\n      <td>1227848</td>\n      <td>56204</td>\n      <td>1269</td>\n      <td>121</td>\n      <td>3</td>\n      <td>2006</td>\n      <td>8940.0</td>\n      <td>1</td>\n      <td>287</td>\n      <td>113</td>\n      <td>...</td>\n      <td>False</td>\n      <td>False</td>\n      <td>False</td>\n      <td>False</td>\n      <td>False</td>\n      <td>True</td>\n      <td>True</td>\n      <td>True</td>\n      <td>True</td>\n      <td>True</td>\n    </tr>\n    <tr>\n      <th>4</th>\n      <td>1227863</td>\n      <td>1053887</td>\n      <td>22312</td>\n      <td>121</td>\n      <td>3</td>\n      <td>2005</td>\n      <td>2286.0</td>\n      <td>2</td>\n      <td>566</td>\n      <td>196</td>\n      <td>...</td>\n      <td>True</td>\n      <td>True</td>\n      <td>True</td>\n      <td>True</td>\n      <td>True</td>\n      <td>False</td>\n      <td>False</td>\n      <td>False</td>\n      <td>True</td>\n      <td>True</td>\n    </tr>\n    <tr>\n      <th>...</th>\n      <td>...</td>\n      <td>...</td>\n      <td>...</td>\n      <td>...</td>\n      <td>...</td>\n      <td>...</td>\n      <td>...</td>\n      <td>...</td>\n      <td>...</td>\n      <td>...</td>\n      <td>...</td>\n      <td>...</td>\n      <td>...</td>\n      <td>...</td>\n      <td>...</td>\n      <td>...</td>\n      <td>...</td>\n      <td>...</td>\n      <td>...</td>\n      <td>...</td>\n      <td>...</td>\n    </tr>\n    <tr>\n      <th>12452</th>\n      <td>6643171</td>\n      <td>2558317</td>\n      <td>21450</td>\n      <td>149</td>\n      <td>2</td>\n      <td>2008</td>\n      <td>3525.0</td>\n      <td>0</td>\n      <td>713</td>\n      <td>235</td>\n      <td>...</td>\n      <td>False</td>\n      <td>False</td>\n      <td>False</td>\n      <td>False</td>\n      <td>False</td>\n      <td>True</td>\n      <td>True</td>\n      <td>True</td>\n      <td>True</td>\n      <td>True</td>\n    </tr>\n    <tr>\n      <th>12453</th>\n      <td>6643173</td>\n      <td>2558332</td>\n      <td>21434</td>\n      <td>149</td>\n      <td>2</td>\n      <td>2005</td>\n      <td>3525.0</td>\n      <td>0</td>\n      <td>186</td>\n      <td>80</td>\n      <td>...</td>\n      <td>False</td>\n      <td>False</td>\n      <td>False</td>\n      <td>False</td>\n      <td>False</td>\n      <td>True</td>\n      <td>True</td>\n      <td>True</td>\n      <td>True</td>\n      <td>True</td>\n    </tr>\n    <tr>\n      <th>12454</th>\n      <td>6643184</td>\n      <td>2558342</td>\n      <td>21437</td>\n      <td>149</td>\n      <td>2</td>\n      <td>1000</td>\n      <td>3525.0</td>\n      <td>0</td>\n      <td>325</td>\n      <td>123</td>\n      <td>...</td>\n      <td>False</td>\n      <td>False</td>\n      <td>False</td>\n      <td>False</td>\n      <td>False</td>\n      <td>True</td>\n      <td>True</td>\n      <td>True</td>\n      <td>True</td>\n      <td>True</td>\n    </tr>\n    <tr>\n      <th>12455</th>\n      <td>6643186</td>\n      <td>2558343</td>\n      <td>21437</td>\n      <td>149</td>\n      <td>2</td>\n      <td>2006</td>\n      <td>3525.0</td>\n      <td>0</td>\n      <td>325</td>\n      <td>123</td>\n      <td>...</td>\n      <td>False</td>\n      <td>False</td>\n      <td>False</td>\n      <td>False</td>\n      <td>False</td>\n      <td>True</td>\n      <td>True</td>\n      <td>True</td>\n      <td>True</td>\n      <td>True</td>\n    </tr>\n    <tr>\n      <th>12456</th>\n      <td>6643196</td>\n      <td>2558346</td>\n      <td>21446</td>\n      <td>149</td>\n      <td>2</td>\n      <td>2008</td>\n      <td>3525.0</td>\n      <td>0</td>\n      <td>483</td>\n      <td>171</td>\n      <td>...</td>\n      <td>False</td>\n      <td>False</td>\n      <td>False</td>\n      <td>False</td>\n      <td>False</td>\n      <td>True</td>\n      <td>True</td>\n      <td>True</td>\n      <td>True</td>\n      <td>True</td>\n    </tr>\n  </tbody>\n</table>\n<p>12457 rows × 101 columns</p>\n</div>"
     },
     "execution_count": 155,
     "metadata": {},
     "output_type": "execute_result"
    }
   ],
   "source": [
    "df_test = preprocess_data(df_test)\n",
    "df_test"
   ],
   "metadata": {
    "collapsed": false,
    "pycharm": {
     "name": "#%%\n"
    }
   }
  },
  {
   "cell_type": "code",
   "execution_count": 156,
   "outputs": [
    {
     "data": {
      "text/plain": "SalesID                         0\nMachineID                       0\nModelID                         0\ndatasource                      0\nauctioneerID                    0\n                               ..\nBackhoe_Mounting_is_missing     0\nBlade_Type_is_missing           0\nTravel_Controls_is_missing      0\nDifferential_Type_is_missing    0\nSteering_Controls_is_missing    0\nLength: 101, dtype: int64"
     },
     "execution_count": 156,
     "metadata": {},
     "output_type": "execute_result"
    }
   ],
   "source": [
    "df_test.isna().sum()"
   ],
   "metadata": {
    "collapsed": false,
    "pycharm": {
     "name": "#%%\n"
    }
   }
  },
  {
   "cell_type": "code",
   "execution_count": 157,
   "outputs": [
    {
     "name": "stderr",
     "output_type": "stream",
     "text": [
      "C:\\Users\\alper\\anaconda3\\lib\\site-packages\\sklearn\\base.py:493: FutureWarning: The feature names should match those that were passed during fit. Starting version 1.2, an error will be raised.\n",
      "Feature names seen at fit time, yet now missing:\n",
      "- auctioneerID_is_missing\n",
      "\n",
      "  warnings.warn(message, FutureWarning)\n"
     ]
    },
    {
     "ename": "ValueError",
     "evalue": "X has 101 features, but RandomForestRegressor is expecting 102 features as input.",
     "output_type": "error",
     "traceback": [
      "\u001B[1;31m---------------------------------------------------------------------------\u001B[0m",
      "\u001B[1;31mValueError\u001B[0m                                Traceback (most recent call last)",
      "Input \u001B[1;32mIn [157]\u001B[0m, in \u001B[0;36m<cell line: 3>\u001B[1;34m()\u001B[0m\n\u001B[0;32m      1\u001B[0m \u001B[38;5;66;03m# Make predictions on updated test data\u001B[39;00m\n\u001B[1;32m----> 3\u001B[0m test_preds \u001B[38;5;241m=\u001B[39m \u001B[43mideal_model\u001B[49m\u001B[38;5;241;43m.\u001B[39;49m\u001B[43mpredict\u001B[49m\u001B[43m(\u001B[49m\u001B[43mdf_test\u001B[49m\u001B[43m)\u001B[49m\n",
      "File \u001B[1;32m~\\anaconda3\\lib\\site-packages\\sklearn\\ensemble\\_forest.py:971\u001B[0m, in \u001B[0;36mForestRegressor.predict\u001B[1;34m(self, X)\u001B[0m\n\u001B[0;32m    969\u001B[0m check_is_fitted(\u001B[38;5;28mself\u001B[39m)\n\u001B[0;32m    970\u001B[0m \u001B[38;5;66;03m# Check data\u001B[39;00m\n\u001B[1;32m--> 971\u001B[0m X \u001B[38;5;241m=\u001B[39m \u001B[38;5;28;43mself\u001B[39;49m\u001B[38;5;241;43m.\u001B[39;49m\u001B[43m_validate_X_predict\u001B[49m\u001B[43m(\u001B[49m\u001B[43mX\u001B[49m\u001B[43m)\u001B[49m\n\u001B[0;32m    973\u001B[0m \u001B[38;5;66;03m# Assign chunk of trees to jobs\u001B[39;00m\n\u001B[0;32m    974\u001B[0m n_jobs, _, _ \u001B[38;5;241m=\u001B[39m _partition_estimators(\u001B[38;5;28mself\u001B[39m\u001B[38;5;241m.\u001B[39mn_estimators, \u001B[38;5;28mself\u001B[39m\u001B[38;5;241m.\u001B[39mn_jobs)\n",
      "File \u001B[1;32m~\\anaconda3\\lib\\site-packages\\sklearn\\ensemble\\_forest.py:579\u001B[0m, in \u001B[0;36mBaseForest._validate_X_predict\u001B[1;34m(self, X)\u001B[0m\n\u001B[0;32m    576\u001B[0m \u001B[38;5;124;03m\"\"\"\u001B[39;00m\n\u001B[0;32m    577\u001B[0m \u001B[38;5;124;03mValidate X whenever one tries to predict, apply, predict_proba.\"\"\"\u001B[39;00m\n\u001B[0;32m    578\u001B[0m check_is_fitted(\u001B[38;5;28mself\u001B[39m)\n\u001B[1;32m--> 579\u001B[0m X \u001B[38;5;241m=\u001B[39m \u001B[38;5;28;43mself\u001B[39;49m\u001B[38;5;241;43m.\u001B[39;49m\u001B[43m_validate_data\u001B[49m\u001B[43m(\u001B[49m\u001B[43mX\u001B[49m\u001B[43m,\u001B[49m\u001B[43m \u001B[49m\u001B[43mdtype\u001B[49m\u001B[38;5;241;43m=\u001B[39;49m\u001B[43mDTYPE\u001B[49m\u001B[43m,\u001B[49m\u001B[43m \u001B[49m\u001B[43maccept_sparse\u001B[49m\u001B[38;5;241;43m=\u001B[39;49m\u001B[38;5;124;43m\"\u001B[39;49m\u001B[38;5;124;43mcsr\u001B[39;49m\u001B[38;5;124;43m\"\u001B[39;49m\u001B[43m,\u001B[49m\u001B[43m \u001B[49m\u001B[43mreset\u001B[49m\u001B[38;5;241;43m=\u001B[39;49m\u001B[38;5;28;43;01mFalse\u001B[39;49;00m\u001B[43m)\u001B[49m\n\u001B[0;32m    580\u001B[0m \u001B[38;5;28;01mif\u001B[39;00m issparse(X) \u001B[38;5;129;01mand\u001B[39;00m (X\u001B[38;5;241m.\u001B[39mindices\u001B[38;5;241m.\u001B[39mdtype \u001B[38;5;241m!=\u001B[39m np\u001B[38;5;241m.\u001B[39mintc \u001B[38;5;129;01mor\u001B[39;00m X\u001B[38;5;241m.\u001B[39mindptr\u001B[38;5;241m.\u001B[39mdtype \u001B[38;5;241m!=\u001B[39m np\u001B[38;5;241m.\u001B[39mintc):\n\u001B[0;32m    581\u001B[0m     \u001B[38;5;28;01mraise\u001B[39;00m \u001B[38;5;167;01mValueError\u001B[39;00m(\u001B[38;5;124m\"\u001B[39m\u001B[38;5;124mNo support for np.int64 index based sparse matrices\u001B[39m\u001B[38;5;124m\"\u001B[39m)\n",
      "File \u001B[1;32m~\\anaconda3\\lib\\site-packages\\sklearn\\base.py:585\u001B[0m, in \u001B[0;36mBaseEstimator._validate_data\u001B[1;34m(self, X, y, reset, validate_separately, **check_params)\u001B[0m\n\u001B[0;32m    582\u001B[0m     out \u001B[38;5;241m=\u001B[39m X, y\n\u001B[0;32m    584\u001B[0m \u001B[38;5;28;01mif\u001B[39;00m \u001B[38;5;129;01mnot\u001B[39;00m no_val_X \u001B[38;5;129;01mand\u001B[39;00m check_params\u001B[38;5;241m.\u001B[39mget(\u001B[38;5;124m\"\u001B[39m\u001B[38;5;124mensure_2d\u001B[39m\u001B[38;5;124m\"\u001B[39m, \u001B[38;5;28;01mTrue\u001B[39;00m):\n\u001B[1;32m--> 585\u001B[0m     \u001B[38;5;28;43mself\u001B[39;49m\u001B[38;5;241;43m.\u001B[39;49m\u001B[43m_check_n_features\u001B[49m\u001B[43m(\u001B[49m\u001B[43mX\u001B[49m\u001B[43m,\u001B[49m\u001B[43m \u001B[49m\u001B[43mreset\u001B[49m\u001B[38;5;241;43m=\u001B[39;49m\u001B[43mreset\u001B[49m\u001B[43m)\u001B[49m\n\u001B[0;32m    587\u001B[0m \u001B[38;5;28;01mreturn\u001B[39;00m out\n",
      "File \u001B[1;32m~\\anaconda3\\lib\\site-packages\\sklearn\\base.py:400\u001B[0m, in \u001B[0;36mBaseEstimator._check_n_features\u001B[1;34m(self, X, reset)\u001B[0m\n\u001B[0;32m    397\u001B[0m     \u001B[38;5;28;01mreturn\u001B[39;00m\n\u001B[0;32m    399\u001B[0m \u001B[38;5;28;01mif\u001B[39;00m n_features \u001B[38;5;241m!=\u001B[39m \u001B[38;5;28mself\u001B[39m\u001B[38;5;241m.\u001B[39mn_features_in_:\n\u001B[1;32m--> 400\u001B[0m     \u001B[38;5;28;01mraise\u001B[39;00m \u001B[38;5;167;01mValueError\u001B[39;00m(\n\u001B[0;32m    401\u001B[0m         \u001B[38;5;124mf\u001B[39m\u001B[38;5;124m\"\u001B[39m\u001B[38;5;124mX has \u001B[39m\u001B[38;5;132;01m{\u001B[39;00mn_features\u001B[38;5;132;01m}\u001B[39;00m\u001B[38;5;124m features, but \u001B[39m\u001B[38;5;132;01m{\u001B[39;00m\u001B[38;5;28mself\u001B[39m\u001B[38;5;241m.\u001B[39m\u001B[38;5;18m__class__\u001B[39m\u001B[38;5;241m.\u001B[39m\u001B[38;5;18m__name__\u001B[39m\u001B[38;5;132;01m}\u001B[39;00m\u001B[38;5;124m \u001B[39m\u001B[38;5;124m\"\u001B[39m\n\u001B[0;32m    402\u001B[0m         \u001B[38;5;124mf\u001B[39m\u001B[38;5;124m\"\u001B[39m\u001B[38;5;124mis expecting \u001B[39m\u001B[38;5;132;01m{\u001B[39;00m\u001B[38;5;28mself\u001B[39m\u001B[38;5;241m.\u001B[39mn_features_in_\u001B[38;5;132;01m}\u001B[39;00m\u001B[38;5;124m features as input.\u001B[39m\u001B[38;5;124m\"\u001B[39m\n\u001B[0;32m    403\u001B[0m     )\n",
      "\u001B[1;31mValueError\u001B[0m: X has 101 features, but RandomForestRegressor is expecting 102 features as input."
     ]
    }
   ],
   "source": [
    "# Make predictions on updated test data\n",
    "\n",
    "test_preds = ideal_model.predict(df_test)"
   ],
   "metadata": {
    "collapsed": false,
    "pycharm": {
     "name": "#%%\n"
    }
   }
  },
  {
   "cell_type": "code",
   "execution_count": 158,
   "outputs": [
    {
     "data": {
      "text/plain": "{'auctioneerID_is_missing'}"
     },
     "execution_count": 158,
     "metadata": {},
     "output_type": "execute_result"
    }
   ],
   "source": [
    "set(X_train.columns) - set(df_test.columns)"
   ],
   "metadata": {
    "collapsed": false,
    "pycharm": {
     "name": "#%%\n"
    }
   }
  },
  {
   "cell_type": "code",
   "execution_count": 159,
   "outputs": [
    {
     "data": {
      "text/plain": "   SalesID  MachineID  ModelID  datasource  auctioneerID  YearMade  \\\n0  1227829    1006309     3168         121             3      1999   \n1  1227844    1022817     7271         121             3      1000   \n2  1227847    1031560    22805         121             3      2004   \n3  1227848      56204     1269         121             3      2006   \n4  1227863    1053887    22312         121             3      2005   \n\n   MachineHoursCurrentMeter  UsageBand  fiModelDesc  fiBaseModel  ...  \\\n0                    3688.0          2          499          180  ...   \n1                   28555.0          1          831          292  ...   \n2                    6038.0          3         1177          404  ...   \n3                    8940.0          1          287          113  ...   \n4                    2286.0          2          566          196  ...   \n\n   Stick_Length_is_missing  Thumb_is_missing  Pattern_Changer_is_missing  \\\n0                     True              True                        True   \n1                     True              True                        True   \n2                    False             False                       False   \n3                    False             False                       False   \n4                     True              True                        True   \n\n   Grouser_Type_is_missing  Backhoe_Mounting_is_missing  \\\n0                     True                         True   \n1                     True                         True   \n2                    False                         True   \n3                    False                         True   \n4                     True                        False   \n\n   Blade_Type_is_missing  Travel_Controls_is_missing  \\\n0                   True                        True   \n1                   True                        True   \n2                   True                        True   \n3                   True                        True   \n4                  False                       False   \n\n   Differential_Type_is_missing  Steering_Controls_is_missing  \\\n0                          True                          True   \n1                         False                         False   \n2                          True                          True   \n3                          True                          True   \n4                          True                          True   \n\n   auctioneerID_is_missing  \n0                    False  \n1                    False  \n2                    False  \n3                    False  \n4                    False  \n\n[5 rows x 102 columns]",
      "text/html": "<div>\n<style scoped>\n    .dataframe tbody tr th:only-of-type {\n        vertical-align: middle;\n    }\n\n    .dataframe tbody tr th {\n        vertical-align: top;\n    }\n\n    .dataframe thead th {\n        text-align: right;\n    }\n</style>\n<table border=\"1\" class=\"dataframe\">\n  <thead>\n    <tr style=\"text-align: right;\">\n      <th></th>\n      <th>SalesID</th>\n      <th>MachineID</th>\n      <th>ModelID</th>\n      <th>datasource</th>\n      <th>auctioneerID</th>\n      <th>YearMade</th>\n      <th>MachineHoursCurrentMeter</th>\n      <th>UsageBand</th>\n      <th>fiModelDesc</th>\n      <th>fiBaseModel</th>\n      <th>...</th>\n      <th>Stick_Length_is_missing</th>\n      <th>Thumb_is_missing</th>\n      <th>Pattern_Changer_is_missing</th>\n      <th>Grouser_Type_is_missing</th>\n      <th>Backhoe_Mounting_is_missing</th>\n      <th>Blade_Type_is_missing</th>\n      <th>Travel_Controls_is_missing</th>\n      <th>Differential_Type_is_missing</th>\n      <th>Steering_Controls_is_missing</th>\n      <th>auctioneerID_is_missing</th>\n    </tr>\n  </thead>\n  <tbody>\n    <tr>\n      <th>0</th>\n      <td>1227829</td>\n      <td>1006309</td>\n      <td>3168</td>\n      <td>121</td>\n      <td>3</td>\n      <td>1999</td>\n      <td>3688.0</td>\n      <td>2</td>\n      <td>499</td>\n      <td>180</td>\n      <td>...</td>\n      <td>True</td>\n      <td>True</td>\n      <td>True</td>\n      <td>True</td>\n      <td>True</td>\n      <td>True</td>\n      <td>True</td>\n      <td>True</td>\n      <td>True</td>\n      <td>False</td>\n    </tr>\n    <tr>\n      <th>1</th>\n      <td>1227844</td>\n      <td>1022817</td>\n      <td>7271</td>\n      <td>121</td>\n      <td>3</td>\n      <td>1000</td>\n      <td>28555.0</td>\n      <td>1</td>\n      <td>831</td>\n      <td>292</td>\n      <td>...</td>\n      <td>True</td>\n      <td>True</td>\n      <td>True</td>\n      <td>True</td>\n      <td>True</td>\n      <td>True</td>\n      <td>True</td>\n      <td>False</td>\n      <td>False</td>\n      <td>False</td>\n    </tr>\n    <tr>\n      <th>2</th>\n      <td>1227847</td>\n      <td>1031560</td>\n      <td>22805</td>\n      <td>121</td>\n      <td>3</td>\n      <td>2004</td>\n      <td>6038.0</td>\n      <td>3</td>\n      <td>1177</td>\n      <td>404</td>\n      <td>...</td>\n      <td>False</td>\n      <td>False</td>\n      <td>False</td>\n      <td>False</td>\n      <td>True</td>\n      <td>True</td>\n      <td>True</td>\n      <td>True</td>\n      <td>True</td>\n      <td>False</td>\n    </tr>\n    <tr>\n      <th>3</th>\n      <td>1227848</td>\n      <td>56204</td>\n      <td>1269</td>\n      <td>121</td>\n      <td>3</td>\n      <td>2006</td>\n      <td>8940.0</td>\n      <td>1</td>\n      <td>287</td>\n      <td>113</td>\n      <td>...</td>\n      <td>False</td>\n      <td>False</td>\n      <td>False</td>\n      <td>False</td>\n      <td>True</td>\n      <td>True</td>\n      <td>True</td>\n      <td>True</td>\n      <td>True</td>\n      <td>False</td>\n    </tr>\n    <tr>\n      <th>4</th>\n      <td>1227863</td>\n      <td>1053887</td>\n      <td>22312</td>\n      <td>121</td>\n      <td>3</td>\n      <td>2005</td>\n      <td>2286.0</td>\n      <td>2</td>\n      <td>566</td>\n      <td>196</td>\n      <td>...</td>\n      <td>True</td>\n      <td>True</td>\n      <td>True</td>\n      <td>True</td>\n      <td>False</td>\n      <td>False</td>\n      <td>False</td>\n      <td>True</td>\n      <td>True</td>\n      <td>False</td>\n    </tr>\n  </tbody>\n</table>\n<p>5 rows × 102 columns</p>\n</div>"
     },
     "execution_count": 159,
     "metadata": {},
     "output_type": "execute_result"
    }
   ],
   "source": [
    "df_test[\"auctioneerID_is_missing\"] = False\n",
    "df_test.head()"
   ],
   "metadata": {
    "collapsed": false,
    "pycharm": {
     "name": "#%%\n"
    }
   }
  },
  {
   "cell_type": "markdown",
   "source": [
    "Finally now our test dataframe has the same features as our training dataframe, we can make predictions!"
   ],
   "metadata": {
    "collapsed": false,
    "pycharm": {
     "name": "#%% md\n"
    }
   }
  },
  {
   "cell_type": "code",
   "execution_count": 164,
   "outputs": [
    {
     "name": "stderr",
     "output_type": "stream",
     "text": [
      "C:\\Users\\alper\\anaconda3\\lib\\site-packages\\sklearn\\base.py:493: FutureWarning: The feature names should match those that were passed during fit. Starting version 1.2, an error will be raised.\n",
      "Feature names must be in the same order as they were in fit.\n",
      "\n",
      "  warnings.warn(message, FutureWarning)\n"
     ]
    }
   ],
   "source": [
    "# Make predictions on the test data\n",
    "test_preds = ideal_model.predict(df_test);"
   ],
   "metadata": {
    "collapsed": false,
    "pycharm": {
     "name": "#%%\n"
    }
   }
  },
  {
   "cell_type": "code",
   "execution_count": 165,
   "outputs": [
    {
     "data": {
      "text/plain": "12457"
     },
     "execution_count": 165,
     "metadata": {},
     "output_type": "execute_result"
    }
   ],
   "source": [
    "len(test_preds)"
   ],
   "metadata": {
    "collapsed": false,
    "pycharm": {
     "name": "#%%\n"
    }
   }
  },
  {
   "cell_type": "code",
   "execution_count": 166,
   "outputs": [
    {
     "data": {
      "text/plain": "       SalesID    SalesPrice\n0      1227829  20614.367809\n1      1227844  19897.801707\n2      1227847  44852.219594\n3      1227848  68346.325323\n4      1227863  39487.349708\n...        ...           ...\n12452  6643171  46466.092910\n12453  6643173  17500.493352\n12454  6643184  14296.986205\n12455  6643186  22164.857577\n12456  6643196  31683.800634\n\n[12457 rows x 2 columns]",
      "text/html": "<div>\n<style scoped>\n    .dataframe tbody tr th:only-of-type {\n        vertical-align: middle;\n    }\n\n    .dataframe tbody tr th {\n        vertical-align: top;\n    }\n\n    .dataframe thead th {\n        text-align: right;\n    }\n</style>\n<table border=\"1\" class=\"dataframe\">\n  <thead>\n    <tr style=\"text-align: right;\">\n      <th></th>\n      <th>SalesID</th>\n      <th>SalesPrice</th>\n    </tr>\n  </thead>\n  <tbody>\n    <tr>\n      <th>0</th>\n      <td>1227829</td>\n      <td>20614.367809</td>\n    </tr>\n    <tr>\n      <th>1</th>\n      <td>1227844</td>\n      <td>19897.801707</td>\n    </tr>\n    <tr>\n      <th>2</th>\n      <td>1227847</td>\n      <td>44852.219594</td>\n    </tr>\n    <tr>\n      <th>3</th>\n      <td>1227848</td>\n      <td>68346.325323</td>\n    </tr>\n    <tr>\n      <th>4</th>\n      <td>1227863</td>\n      <td>39487.349708</td>\n    </tr>\n    <tr>\n      <th>...</th>\n      <td>...</td>\n      <td>...</td>\n    </tr>\n    <tr>\n      <th>12452</th>\n      <td>6643171</td>\n      <td>46466.092910</td>\n    </tr>\n    <tr>\n      <th>12453</th>\n      <td>6643173</td>\n      <td>17500.493352</td>\n    </tr>\n    <tr>\n      <th>12454</th>\n      <td>6643184</td>\n      <td>14296.986205</td>\n    </tr>\n    <tr>\n      <th>12455</th>\n      <td>6643186</td>\n      <td>22164.857577</td>\n    </tr>\n    <tr>\n      <th>12456</th>\n      <td>6643196</td>\n      <td>31683.800634</td>\n    </tr>\n  </tbody>\n</table>\n<p>12457 rows × 2 columns</p>\n</div>"
     },
     "execution_count": 166,
     "metadata": {},
     "output_type": "execute_result"
    }
   ],
   "source": [
    "# Format predictions into the same format Kaggle is after\n",
    "\n",
    "df_preds = pd.DataFrame()\n",
    "df_preds[\"SalesID\"] = df_test[\"SalesID\"]\n",
    "df_preds[\"SalesPrice\"] = test_preds\n",
    "df_preds"
   ],
   "metadata": {
    "collapsed": false,
    "pycharm": {
     "name": "#%%\n"
    }
   }
  },
  {
   "cell_type": "code",
   "execution_count": 167,
   "outputs": [],
   "source": [
    "df_preds.to_csv(\"data/bluebook-for-bulldozers/test_predictions_alper.csv\", index=False)"
   ],
   "metadata": {
    "collapsed": false,
    "pycharm": {
     "name": "#%%\n"
    }
   }
  },
  {
   "cell_type": "markdown",
   "source": [
    "## Feature Importance\n",
    "\n",
    "Feature importance seeks to figure out which different attributes of the data were most importance when it comes to predicting the target variable(SalePrice)"
   ],
   "metadata": {
    "collapsed": false,
    "pycharm": {
     "name": "#%% md\n"
    }
   }
  },
  {
   "cell_type": "code",
   "execution_count": 171,
   "outputs": [
    {
     "data": {
      "text/plain": "array([3.39445533e-02, 1.81148281e-02, 4.09167072e-02, 1.70752171e-03,\n       3.40797459e-03, 2.08200698e-01, 2.95067052e-03, 1.10113725e-03,\n       4.16122668e-02, 4.71911805e-02, 6.23815431e-02, 4.67433955e-03,\n       1.52524442e-02, 1.52517337e-01, 4.72224713e-02, 5.96817956e-03,\n       1.29351899e-03, 2.78088439e-03, 2.37248769e-03, 6.17114453e-02,\n       8.13525488e-04, 3.61873268e-05, 9.19098115e-04, 2.23170993e-04,\n       1.28102678e-03, 2.06519636e-05, 2.01477316e-03, 6.63364759e-03,\n       2.15274492e-03, 2.50178165e-03, 4.63902393e-03, 3.85873985e-03,\n       2.76062667e-03, 1.00782454e-03, 2.47969268e-04, 6.04239818e-03,\n       7.64997072e-04, 1.57100537e-02, 2.29716203e-03, 2.58372272e-03,\n       8.07637426e-04, 9.18548690e-04, 1.35656446e-03, 5.81458569e-04,\n       4.96716928e-04, 3.79552257e-04, 5.31712788e-04, 2.71823509e-03,\n       8.34294376e-04, 3.12136841e-04, 2.14075157e-04, 7.42422919e-02,\n       3.80158492e-03, 5.67641024e-03, 2.87154703e-03, 9.83349904e-03,\n       2.65470837e-04, 1.57946459e-03, 3.10058108e-04, 0.00000000e+00,\n       0.00000000e+00, 2.27421721e-03, 1.05632062e-03, 5.42819222e-03,\n       3.48484864e-02, 0.00000000e+00, 0.00000000e+00, 0.00000000e+00,\n       0.00000000e+00, 1.90858845e-05, 9.09490682e-06, 1.31265147e-04,\n       5.29163902e-06, 1.11952381e-04, 4.78452431e-06, 3.43582863e-04,\n       5.57068428e-06, 1.07167376e-03, 3.99179008e-03, 4.07753410e-03,\n       1.05749617e-04, 2.76528927e-03, 2.59244312e-05, 3.51888176e-04,\n       2.31519337e-03, 1.99211177e-03, 4.02034629e-03, 2.03778082e-04,\n       1.13483313e-02, 9.02551628e-04, 1.58182497e-03, 4.63243398e-05,\n       2.92071004e-04, 3.11923094e-05, 1.56873538e-04, 2.87205987e-05,\n       3.80543083e-05, 2.55045807e-04, 1.66878572e-04, 2.10341792e-04,\n       1.26024842e-04, 9.40663015e-05])"
     },
     "execution_count": 171,
     "metadata": {},
     "output_type": "execute_result"
    }
   ],
   "source": [
    "ideal_model.feature_importances_"
   ],
   "metadata": {
    "collapsed": false,
    "pycharm": {
     "name": "#%%\n"
    }
   }
  },
  {
   "cell_type": "code",
   "execution_count": 172,
   "outputs": [
    {
     "data": {
      "text/plain": "Index(['SalesID', 'MachineID', 'ModelID', 'datasource', 'auctioneerID',\n       'YearMade', 'MachineHoursCurrentMeter', 'UsageBand', 'fiModelDesc',\n       'fiBaseModel',\n       ...\n       'Undercarriage_Pad_Width_is_missing', 'Stick_Length_is_missing',\n       'Thumb_is_missing', 'Pattern_Changer_is_missing',\n       'Grouser_Type_is_missing', 'Backhoe_Mounting_is_missing',\n       'Blade_Type_is_missing', 'Travel_Controls_is_missing',\n       'Differential_Type_is_missing', 'Steering_Controls_is_missing'],\n      dtype='object', length=102)"
     },
     "execution_count": 172,
     "metadata": {},
     "output_type": "execute_result"
    }
   ],
   "source": [
    "X_train.columns"
   ],
   "metadata": {
    "collapsed": false,
    "pycharm": {
     "name": "#%%\n"
    }
   }
  },
  {
   "cell_type": "code",
   "execution_count": 177,
   "outputs": [],
   "source": [
    "# Helper funtion for plotting feature importance\n",
    "\n",
    "def plot_feature(columns, importances, n=20):\n",
    "    df = (pd.DataFrame({\"feature\": columns,\n",
    "                        \"feature_importance\": importances})\n",
    "          .sort_values(\"feature_importance\", ascending=False)\n",
    "          .reset_index(drop=True))\n",
    "    # Plot the dataframe\n",
    "    fig, ax = plt.subplots()\n",
    "    ax.barh(df[\"feature\"][:n], df[\"feature_importance\"][:20])\n",
    "    ax.set_ylabel(\"Features\")\n",
    "    ax.set_xlabel(\"Feature importance\")\n",
    "    ax.invert_yaxis()"
   ],
   "metadata": {
    "collapsed": false,
    "pycharm": {
     "name": "#%%\n"
    }
   }
  },
  {
   "cell_type": "code",
   "execution_count": 178,
   "outputs": [
    {
     "data": {
      "text/plain": "<Figure size 432x288 with 1 Axes>",
      "image/png": "[encoded data removed]"
     },
     "metadata": {},
     "output_type": "display_data"
    }
   ],
   "source": [
    "plot_feature(X_train.columns, ideal_model.feature_importances_)"
   ],
   "metadata": {
    "collapsed": false,
    "pycharm": {
     "name": "#%%\n"
    }
   }
  },
  {
   "cell_type": "code",
   "execution_count": 179,
   "outputs": [
    {
     "data": {
      "text/plain": "0    210775\n4     62274\n3     49678\n6     26494\n5     24840\n2     20975\n1      6089\nName: ProductSize, dtype: int64"
     },
     "execution_count": 179,
     "metadata": {},
     "output_type": "execute_result"
    }
   ],
   "source": [
    "X_train[\"ProductSize\"].value_counts()"
   ],
   "metadata": {
    "collapsed": false,
    "pycharm": {
     "name": "#%%\n"
    }
   }
  },
  {
   "cell_type": "code",
   "execution_count": null,
   "outputs": [],
   "source": [],
   "metadata": {
    "collapsed": false,
    "pycharm": {
     "name": "#%%\n"
    }
   }
  }
 ],
 "metadata": {
  "kernelspec": {
   "display_name": "Python 3",
   "language": "python",
   "name": "python3"
  },
  "language_info": {
   "codemirror_mode": {
    "name": "ipython",
    "version": 2
   },
   "file_extension": ".py",
   "mimetype": "text/x-python",
   "name": "python",
   "nbconvert_exporter": "python",
   "pygments_lexer": "ipython2",
   "version": "2.7.6"
  }
 },
 "nbformat": 4,
 "nbformat_minor": 0
}